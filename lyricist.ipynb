{
 "cells": [
  {
   "cell_type": "code",
   "execution_count": 1,
   "id": "93ff6372",
   "metadata": {},
   "outputs": [
    {
     "name": "stdout",
     "output_type": "stream",
     "text": [
      "2.6.0\n"
     ]
    }
   ],
   "source": [
    "import glob  #glob 모듈의 glob 함수는 사용자가 제시한 조건에 맞는 파일명을 리스트 형식으로 반환한다\n",
    "import tensorflow\n",
    "\n",
    "print(tensorflow.__version__)"
   ]
  },
  {
   "cell_type": "code",
   "execution_count": 3,
   "id": "503f2be4",
   "metadata": {},
   "outputs": [
    {
     "name": "stdout",
     "output_type": "stream",
     "text": [
      "데이터 크기: 187088\n",
      "Examples:\n",
      " ['', '', '[Spoken Intro:]', 'You ever want something ', \"that you know you shouldn't have \", \"The more you know you shouldn't have it, \", 'The more you want it ', 'And then one day you get it, ', \"It's so good too \", \"But it's just like my girl \"]\n"
     ]
    }
   ],
   "source": [
    "import os\n",
    "\n",
    "txt_file_path = os.getenv('HOME')+'/aiffel/lyricist/data/lyrics/*' #os.getenv(x)함수는 환경 변수x의 값을 포함하는 문자열 변수를 반환합니다. txt_file_path 에 \"/root/aiffel/lyricist/data/lyrics/*\" 저장\n",
    "\n",
    "txt_list = glob.glob(txt_file_path) #txt_file_path 경로에 있는 모든 파일명을 리스트 형식으로 txt_list 에 할당\n",
    "\n",
    "raw_corpus = [] \n",
    "\n",
    "# 여러개의 txt 파일을 모두 읽어서 raw_corpus 에 담습니다.\n",
    "for txt_file in txt_list:\n",
    "    with open(txt_file, \"r\") as f:\n",
    "        raw = f.read().splitlines() #read() : 파일 전체의 내용을 하나의 문자열로 읽어온다. , splitlines()  : 여러라인으로 구분되어 있는 문자열을 한라인씩 분리하여 리스트로 반환\n",
    "        raw_corpus.extend(raw) # extend() : 리스트함수로 추가적인 내용을 연장 한다.\n",
    "\n",
    "print(\"데이터 크기:\", len(raw_corpus))\n",
    "print(\"Examples:\\n\", raw_corpus[:10])"
   ]
  },
  {
   "cell_type": "code",
   "execution_count": 4,
   "id": "cb75aa3d",
   "metadata": {},
   "outputs": [
    {
     "name": "stdout",
     "output_type": "stream",
     "text": [
      "[Spoken Intro:]\n",
      "You ever want something \n",
      "that you know you shouldn't have \n",
      "The more you know you shouldn't have it, \n",
      "The more you want it \n",
      "And then one day you get it, \n",
      "It's so good too \n",
      "But it's just like my girl \n"
     ]
    }
   ],
   "source": [
    "import re\n",
    "import numpy as np\n",
    "import tensorflow as tf\n",
    "\n",
    "for idx, sentence in enumerate(raw_corpus):\n",
    "    if len(sentence) == 0: continue   # 길이가 0인 문장은 건너뜁니다.\n",
    "    if sentence[-1] == \":\": continue  # 문장의 끝이 : 인 문장은 건너뜁니다.\n",
    "\n",
    "    if idx > 9: break   # 일단 문장 10개만 확인해 볼 겁니다.\n",
    "        \n",
    "    print(sentence)"
   ]
  },
  {
   "cell_type": "code",
   "execution_count": 5,
   "id": "bb8d22a8",
   "metadata": {},
   "outputs": [
    {
     "name": "stdout",
     "output_type": "stream",
     "text": [
      "<start> this is sample sentence . <end>\n"
     ]
    }
   ],
   "source": [
    "def preprocess_sentence(sentence):\n",
    "    sentence = sentence.lower().strip() # 1\n",
    "    sentence = re.sub(r\"([?.!,¿])\", r\" \\1 \", sentence) # 2\n",
    "    sentence = re.sub(r'[\" \"]+', \" \", sentence) # 3\n",
    "    sentence = re.sub(r\"[^a-zA-Z?.!,¿]+\", \" \", sentence) # 4\n",
    "    sentence = sentence.strip() # 5\n",
    "    sentence = '<start> ' + sentence + ' <end>' # 6\n",
    "    return sentence\n",
    "\n",
    "# 이 문장이 어떻게 필터링되는지 확인해 보세요.\n",
    "print(preprocess_sentence(\"This @_is ;;;sample        sentence.\"))"
   ]
  },
  {
   "cell_type": "code",
   "execution_count": 6,
   "id": "3c3b5866",
   "metadata": {},
   "outputs": [
    {
     "data": {
      "text/plain": [
       "['<start> spoken intro <end>',\n",
       " '<start> you ever want something <end>',\n",
       " '<start> that you know you shouldn t have <end>',\n",
       " '<start> the more you know you shouldn t have it , <end>',\n",
       " '<start> the more you want it <end>',\n",
       " '<start> and then one day you get it , <end>',\n",
       " '<start> it s so good too <end>',\n",
       " '<start> but it s just like my girl <end>',\n",
       " '<start> when she s around me <end>',\n",
       " '<start> i just feel so good , so good <end>']"
      ]
     },
     "execution_count": 6,
     "metadata": {},
     "output_type": "execute_result"
    }
   ],
   "source": [
    "# 여기에 정제된 문장을 모을겁니다\n",
    "corpus = []\n",
    "\n",
    "# raw_corpus list에 저장된 문장들을 순서대로 반환하여 sentence에 저장\n",
    "for sentence in raw_corpus:\n",
    "    # 우리가 원하지 않는 문장은 건너뜁니다\n",
    "    if len(sentence) == 0: continue\n",
    "    if sentence[-1] == \":\": continue\n",
    "    \n",
    "    # 앞서 구현한 preprocess_sentence() 함수를 이용하여 문장을 정제를 하고 담아주세요\n",
    "    preprocessed_sentence = preprocess_sentence(sentence)\n",
    "    corpus.append(preprocessed_sentence)\n",
    "        \n",
    "# 정제된 결과를 10개만 확인해보죠\n",
    "corpus[:10]"
   ]
  },
  {
   "cell_type": "code",
   "execution_count": 18,
   "id": "a5609c72",
   "metadata": {},
   "outputs": [],
   "source": [
    "def tokenize(corpus):\n",
    "    tokenizer = tf.keras.preprocessing.text.Tokenizer(\n",
    "        num_words=12000, \n",
    "        filters=' ',\n",
    "        oov_token=\"<unk>\"\n",
    "    )\n",
    "    tokenizer.fit_on_texts(corpus)\n",
    "    tensor = tokenizer.texts_to_sequences(corpus)\n",
    "    filtered_tensor = []\n",
    "    for seq in tensor:\n",
    "        if len(seq) <= 15:\n",
    "            filtered_tensor.append(seq)\n",
    "    \n",
    "    filtered_tensor = tf.keras.preprocessing.sequence.pad_sequences(filtered_tensor, padding='post', maxlen=15)\n",
    "    \n",
    "    return filtered_tensor, tokenizer\n",
    "tensor, tokenizer = tokenize(corpus)"
   ]
  },
  {
   "cell_type": "code",
   "execution_count": 20,
   "id": "60cc1ea7",
   "metadata": {},
   "outputs": [
    {
     "name": "stdout",
     "output_type": "stream",
     "text": [
      "enc_train shape: (124810, 15)\n",
      "enc_val shape: (31203, 15)\n",
      "dec_train shape: (124810, 15)\n",
      "dec_val shape: (31203, 15)\n"
     ]
    }
   ],
   "source": [
    "from sklearn.model_selection import train_test_split\n",
    "\n",
    "# 훈련 데이터와 평가 데이터로 분리\n",
    "enc_train, enc_val, dec_train, dec_val = train_test_split(tensor, tensor, test_size=0.2)\n",
    "\n",
    "# 결과 출력\n",
    "print(\"enc_train shape:\", enc_train.shape)\n",
    "print(\"enc_val shape:\", enc_val.shape)\n",
    "print(\"dec_train shape:\", dec_train.shape)\n",
    "print(\"dec_val shape:\", dec_val.shape)"
   ]
  },
  {
   "cell_type": "code",
   "execution_count": 39,
   "id": "2324784f",
   "metadata": {},
   "outputs": [
    {
     "name": "stdout",
     "output_type": "stream",
     "text": [
      "[[    2   667  1140   183   140    12     3     0     0     0     0     0\n",
      "      0     0     0]\n",
      " [    2   309    56    55    37    15   292    18     7     3     0     0\n",
      "      0     0     0]\n",
      " [    2    36    31     6  1034    10   100     7    54   287     3     0\n",
      "      0     0     0]\n",
      " [    2    23   145   751    10   645     3     0     0     0     0     0\n",
      "      0     0     0]\n",
      " [    2  4497   248    20     3     0     0     0     0     0     0     0\n",
      "      0     0     0]\n",
      " [    2     8 10984   193  1511  1306   397     8   133  1028     3     0\n",
      "      0     0     0]\n",
      " [    2  4140  2718     1    20     3     0     0     0     0     0     0\n",
      "      0     0     0]\n",
      " [    2   236     4     8     5    61    53   225     3     0     0     0\n",
      "      0     0     0]\n",
      " [    2  1312   658     7    29     3     0     0     0     0     0     0\n",
      "      0     0     0]\n",
      " [    2   446    47   215    16    14    13   776     3     0     0     0\n",
      "      0     0     0]\n",
      " [    2    36    65    16    38    58    93    17    16   244    10    92\n",
      "      3     0     0]\n",
      " [    2   139     4     5    61   249    18   974  3845    14  1733   350\n",
      "      3     0     0]\n",
      " [    2     5   227    69    38     4    48   953  2050  4570     3     0\n",
      "      0     0     0]\n",
      " [    2     8     6   387   277   106   103   161     3     0     0     0\n",
      "      0     0     0]\n",
      " [    2    36  1138   106    31    21   385    28     1     3     0     0\n",
      "      0     0     0]\n",
      " [    2    23    68    58    58    49    49     3     0     0     0     0\n",
      "      0     0     0]\n",
      " [    2    13   262    68     5   198   504    13  1617     3     0     0\n",
      "      0     0     0]\n",
      " [    2    36     7   210    11   119     8    68    78    26   229    51\n",
      "      3     0     0]\n",
      " [    2     5    33   167  6205    14   553   110  1525     3     0     0\n",
      "      0     0     0]\n",
      " [    2     8   727    42   351     3     0     0     0     0     0     0\n",
      "      0     0     0]]\n"
     ]
    }
   ],
   "source": [
    "print(enc_train[:20, :])"
   ]
  },
  {
   "cell_type": "code",
   "execution_count": 40,
   "id": "c2ec86ce",
   "metadata": {},
   "outputs": [
    {
     "name": "stdout",
     "output_type": "stream",
     "text": [
      "1 : <unk>\n",
      "2 : <start>\n",
      "3 : <end>\n",
      "4 : ,\n",
      "5 : i\n",
      "6 : the\n",
      "7 : you\n",
      "8 : and\n",
      "9 : a\n",
      "10 : to\n"
     ]
    }
   ],
   "source": [
    "for idx in tokenizer.index_word:\n",
    "    print(idx, \":\", tokenizer.index_word[idx])\n",
    "\n",
    "    if idx >= 10: break"
   ]
  },
  {
   "cell_type": "code",
   "execution_count": 44,
   "id": "4af0b028",
   "metadata": {},
   "outputs": [
    {
     "name": "stdout",
     "output_type": "stream",
     "text": [
      "[   2  667 1140  183  140   12    3    0    0    0    0    0    0    0]\n",
      "[  2   5  22  18  13  85  10  64  17  80  19 216   3   0]\n",
      "[ 667 1140  183  140   12    3    0    0    0    0    0    0    0    0]\n",
      "[  5  22  18  13  85  10  64  17  80  19 216   3   0   0]\n"
     ]
    }
   ],
   "source": [
    "# tensor에서 마지막 토큰을 잘라내서 소스 문장을 생성합니다\n",
    "# 마지막 토큰은 <end>가 아니라 <pad>일 가능성이 높습니다.\n",
    "train_src_input = enc_train[:, :-1]  \n",
    "val_src_input = enc_val[:, :-1]\n",
    "# tensor에서 <start>를 잘라내서 타겟 문장을 생성합니다.\n",
    "train_tgt_input = dec_train[:, 1:]    \n",
    "val_tgt_input = dec_val[:, 1:]    \n",
    "print(train_src_input[0])\n",
    "print(val_src_input[0])\n",
    "print(train_tgt_input[0])\n",
    "print(val_tgt_input[0])"
   ]
  },
  {
   "cell_type": "code",
   "execution_count": 67,
   "id": "9efe3d44",
   "metadata": {},
   "outputs": [
    {
     "data": {
      "text/plain": [
       "<BatchDataset shapes: ((256, 14), (256, 14)), types: (tf.int32, tf.int32)>"
      ]
     },
     "execution_count": 67,
     "metadata": {},
     "output_type": "execute_result"
    }
   ],
   "source": [
    "BUFFER_SIZE = len(train_src_input)\n",
    "BATCH_SIZE = 256\n",
    "steps_per_epoch = len(train_src_input) // BATCH_SIZE\n",
    "\n",
    " # tokenizer가 구축한 단어사전 내 12000개와, 여기 포함되지 않은 0:<pad>를 포함하여 12001개\n",
    " # tokenizer.num_words: 주어진 데이터의 문장들에서 빈도수가 높은 n개의 단어만 선택\n",
    " # tokenize() 함수에서 num_words를 12000개로 선언했기 때문에, tokenizer.num_words의 값은 12000\n",
    "VOCAB_SIZE = tokenizer.num_words + 1   \n",
    "\n",
    "# 준비한 데이터 소스로부터 데이터셋을 만듭니다\n",
    "# 데이터셋에 대해서는 아래 문서를 참고하세요\n",
    "# 자세히 알아둘수록 도움이 많이 되는 중요한 문서입니다\n",
    "# https://www.tensorflow.org/api_docs/python/tf/data/Dataset\n",
    "train_dataset = tf.data.Dataset.from_tensor_slices((train_src_input, train_tgt_input))\n",
    "train_dataset = train_dataset.shuffle(BUFFER_SIZE)\n",
    "train_dataset = train_dataset.batch(BATCH_SIZE, drop_remainder=True)\n",
    "train_dataset"
   ]
  },
  {
   "cell_type": "code",
   "execution_count": 68,
   "id": "6ac42c8b",
   "metadata": {},
   "outputs": [
    {
     "data": {
      "text/plain": [
       "<BatchDataset shapes: ((256, 14), (256, 14)), types: (tf.int32, tf.int32)>"
      ]
     },
     "execution_count": 68,
     "metadata": {},
     "output_type": "execute_result"
    }
   ],
   "source": [
    "BUFFER_SIZE = len(val_src_input)\n",
    "BATCH_SIZE = 256\n",
    "steps_per_epoch = len(val_src_input) // BATCH_SIZE\n",
    "\n",
    " # tokenizer가 구축한 단어사전 내 12000개와, 여기 포함되지 않은 0:<pad>를 포함하여 12001개\n",
    " # tokenizer.num_words: 주어진 데이터의 문장들에서 빈도수가 높은 n개의 단어만 선택\n",
    " # tokenize() 함수에서 num_words를 12000개로 선언했기 때문에, tokenizer.num_words의 값은 12000\n",
    "VOCAB_SIZE = tokenizer.num_words + 1   \n",
    "\n",
    "# 준비한 데이터 소스로부터 데이터셋을 만듭니다\n",
    "# 데이터셋에 대해서는 아래 문서를 참고하세요\n",
    "# 자세히 알아둘수록 도움이 많이 되는 중요한 문서입니다\n",
    "# https://www.tensorflow.org/api_docs/python/tf/data/Dataset\n",
    "val_dataset = tf.data.Dataset.from_tensor_slices((val_src_input, val_tgt_input))\n",
    "val_dataset = val_dataset.shuffle(BUFFER_SIZE)\n",
    "val_dataset = val_dataset.batch(BATCH_SIZE, drop_remainder=True)\n",
    "val_dataset"
   ]
  },
  {
   "cell_type": "code",
   "execution_count": 83,
   "id": "0d9cd898",
   "metadata": {},
   "outputs": [],
   "source": [
    "class TextGenerator(tf.keras.Model):\n",
    "    def __init__(self, vocab_size, embedding_size, hidden_size):\n",
    "        super().__init__()\n",
    "        # Embedding 레이어, 2개의 LSTM 레이어, 1개의 Dense 레이어로 구성되어 있다.\n",
    "        # Embedding 레이어는 단어 사전의 인덱스 값을 해당 인덱스 번째의 워드 벡터로 바꿔준다.\n",
    "        # 이 워드 벡터는 의미 벡터 공간에서 단어의 추상적 표현으로 사용된다. \n",
    "        self.embedding = tf.keras.layers.Embedding(vocab_size, embedding_size) \n",
    "        self.rnn_1 = tf.keras.layers.LSTM(hidden_size, return_sequences=True)  \n",
    "        self.rnn_2 = tf.keras.layers.LSTM(hidden_size, return_sequences=True)\n",
    "        self.linear = tf.keras.layers.Dense(vocab_size)\n",
    "        \n",
    "    def call(self, x):\n",
    "        out = self.embedding(x)\n",
    "        out = self.rnn_1(out)\n",
    "        out = self.rnn_2(out)\n",
    "        out = self.linear(out)\n",
    "        \n",
    "        return out\n",
    "# embedding size 값이 커질수록 단어의 추상적인 특징들을 더 잡아낼 수 있지만\n",
    "# 그만큼 충분한 데이터가 없으면 안좋은 결과 값을 가져옵니다!   \n",
    "embedding_size = 512 # 워드 벡터의 차원수를 말하며 단어가 추상적으로 표현되는 크기입니다.\n",
    "hidden_size = 2048 # 모델에 얼마나 많은 일꾼을 둘 것인가? 정도로 이해하면 좋다.\n",
    "model = TextGenerator(tokenizer.num_words + 1, embedding_size , hidden_size) # tokenizer.num_words에 +1인 이유는 문장에 없는 pad가 사용되었기 때문이다."
   ]
  },
  {
   "cell_type": "code",
   "execution_count": 137,
   "id": "8872cf9a",
   "metadata": {},
   "outputs": [
    {
     "data": {
      "text/plain": [
       "<tf.Tensor: shape=(256, 14, 12001), dtype=float32, numpy=\n",
       "array([[[ -2.399432 ,   3.4696307, -11.795337 , ..., -10.625549 ,\n",
       "         -10.421461 , -11.764851 ],\n",
       "        [ -5.7951274,   4.0280704, -12.897945 , ...,  -8.704094 ,\n",
       "          -8.085398 , -12.91992  ],\n",
       "        [ -3.4825697,   7.796071 , -10.128011 , ..., -12.637671 ,\n",
       "          -9.987819 , -10.391852 ],\n",
       "        ...,\n",
       "        [ 16.744806 ,   5.3439574, -17.437952 , ..., -14.947506 ,\n",
       "         -14.934046 , -17.492596 ],\n",
       "        [ 19.73973  ,   4.793841 , -18.466776 , ..., -15.542299 ,\n",
       "         -14.51721  , -18.659498 ],\n",
       "        [ 21.636787 ,   4.56243  , -18.77944  , ..., -15.771791 ,\n",
       "         -13.586947 , -19.065031 ]],\n",
       "\n",
       "       [[ -2.399432 ,   3.4696307, -11.795337 , ..., -10.625549 ,\n",
       "         -10.421461 , -11.764851 ],\n",
       "        [ -2.971292 ,   5.40478  ,  -7.52974  , ...,  -6.304164 ,\n",
       "          -7.757793 ,  -7.4714046],\n",
       "        [ -7.2699647,   5.128393 ,  -8.849103 , ...,  -8.882236 ,\n",
       "         -10.719846 ,  -8.777653 ],\n",
       "        ...,\n",
       "        [ 22.170286 ,   2.9928725, -18.632156 , ..., -15.789745 ,\n",
       "         -11.834994 , -18.759623 ],\n",
       "        [ 22.052319 ,   2.9139965, -18.56704  , ..., -15.747865 ,\n",
       "         -11.7491   , -18.69713  ],\n",
       "        [ 22.0285   ,   2.895911 , -18.563887 , ..., -15.786761 ,\n",
       "         -11.779754 , -18.683012 ]],\n",
       "\n",
       "       [[ -2.399432 ,   3.4696307, -11.795337 , ..., -10.625549 ,\n",
       "         -10.421461 , -11.764851 ],\n",
       "        [ -5.4086394,   5.5466747, -11.899909 , ...,  -8.600545 ,\n",
       "         -10.39506  , -11.788638 ],\n",
       "        [ -0.6319784,   6.5717444,  -9.591398 , ..., -14.15232  ,\n",
       "          -9.564149 ,  -9.638182 ],\n",
       "        ...,\n",
       "        [ 23.083    ,   3.346526 , -18.545755 , ..., -14.196676 ,\n",
       "         -12.570053 , -18.70004  ],\n",
       "        [ 23.019175 ,   3.3991   , -18.762224 , ..., -14.830919 ,\n",
       "         -12.546813 , -18.893145 ],\n",
       "        [ 23.06699  ,   3.6376994, -18.936905 , ..., -15.115337 ,\n",
       "         -12.688586 , -19.073475 ]],\n",
       "\n",
       "       ...,\n",
       "\n",
       "       [[ -2.399432 ,   3.4696307, -11.795337 , ..., -10.625549 ,\n",
       "         -10.421461 , -11.764851 ],\n",
       "        [ -8.216726 ,   3.5103004, -16.167494 , ..., -13.663947 ,\n",
       "         -11.372854 , -16.184912 ],\n",
       "        [ -4.396537 ,   6.2967625, -11.354737 , ...,  -8.811176 ,\n",
       "          -6.39125  , -11.0605545],\n",
       "        ...,\n",
       "        [ 22.833921 ,   2.254413 , -18.60011  , ..., -14.924398 ,\n",
       "         -10.940957 , -18.685513 ],\n",
       "        [ 22.585636 ,   1.7496902, -18.524136 , ..., -14.705123 ,\n",
       "         -10.724886 , -18.649307 ],\n",
       "        [ 22.450571 ,   1.8466973, -18.501087 , ..., -14.610021 ,\n",
       "         -10.784888 , -18.64197  ]],\n",
       "\n",
       "       [[ -2.399432 ,   3.4696307, -11.795337 , ..., -10.625549 ,\n",
       "         -10.421461 , -11.764851 ],\n",
       "        [ -2.4295778,   8.344742 ,  -9.615076 , ...,  -8.041294 ,\n",
       "         -10.254728 ,  -9.439076 ],\n",
       "        [ -5.011874 ,   5.917344 , -10.501329 , ...,  -9.028035 ,\n",
       "          -7.53569  , -10.505708 ],\n",
       "        ...,\n",
       "        [  2.1747115,   9.876269 ,  -5.109162 , ...,  -8.969116 ,\n",
       "          -7.6185145,  -4.646263 ],\n",
       "        [ -3.890318 ,   4.966634 , -10.571555 , ...,  -8.422277 ,\n",
       "         -10.067049 , -10.384275 ],\n",
       "        [ 20.245184 ,   6.989431 , -19.001019 , ..., -16.125246 ,\n",
       "         -16.164675 , -18.614079 ]],\n",
       "\n",
       "       [[ -2.399432 ,   3.4696307, -11.795337 , ..., -10.625549 ,\n",
       "         -10.421461 , -11.764851 ],\n",
       "        [ -7.478248 ,   3.9017317, -17.65207  , ..., -14.41453  ,\n",
       "         -10.330558 , -17.809187 ],\n",
       "        [-10.25778  ,   1.1896824, -17.111881 , ..., -12.284592 ,\n",
       "          -7.6806207, -17.373867 ],\n",
       "        ...,\n",
       "        [ 21.76396  ,   3.6767166, -17.290325 , ..., -13.865411 ,\n",
       "         -10.96532  , -17.22072  ],\n",
       "        [ 22.399832 ,   3.5317547, -18.012163 , ..., -14.70265  ,\n",
       "         -11.028974 , -18.038263 ],\n",
       "        [ 23.082956 ,   3.5444398, -18.90495  , ..., -14.522498 ,\n",
       "         -10.75384  , -18.948332 ]]], dtype=float32)>"
      ]
     },
     "execution_count": 137,
     "metadata": {},
     "output_type": "execute_result"
    }
   ],
   "source": [
    "# 데이터셋에서 데이터 한 배치만 불러오는 방법입니다.\n",
    "for train_src_sample, train_tgt_sample in train_dataset.take(1): break\n",
    "\n",
    "# 한 배치만 불러온 데이터를 모델에 넣어봅니다\n",
    "model(train_src_sample)"
   ]
  },
  {
   "cell_type": "code",
   "execution_count": 72,
   "id": "543aa081",
   "metadata": {},
   "outputs": [
    {
     "name": "stdout",
     "output_type": "stream",
     "text": [
      "Model: \"text_generator_7\"\n",
      "_________________________________________________________________\n",
      "Layer (type)                 Output Shape              Param #   \n",
      "=================================================================\n",
      "embedding_7 (Embedding)      multiple                  6144512   \n",
      "_________________________________________________________________\n",
      "lstm_14 (LSTM)               multiple                  6295552   \n",
      "_________________________________________________________________\n",
      "lstm_15 (LSTM)               multiple                  8392704   \n",
      "_________________________________________________________________\n",
      "dense_7 (Dense)              multiple                  12301025  \n",
      "=================================================================\n",
      "Total params: 33,133,793\n",
      "Trainable params: 33,133,793\n",
      "Non-trainable params: 0\n",
      "_________________________________________________________________\n"
     ]
    }
   ],
   "source": [
    "model.summary()"
   ]
  },
  {
   "cell_type": "code",
   "execution_count": 85,
   "id": "bafc2edf",
   "metadata": {},
   "outputs": [
    {
     "name": "stdout",
     "output_type": "stream",
     "text": [
      "Epoch 1/30\n",
      "487/487 [==============================] - 243s 495ms/step - loss: 3.2697 - val_loss: 2.8841\n",
      "Epoch 2/30\n",
      "487/487 [==============================] - 241s 495ms/step - loss: 2.7231 - val_loss: 2.6287\n",
      "Epoch 3/30\n",
      "487/487 [==============================] - 241s 495ms/step - loss: 2.4015 - val_loss: 2.4450\n",
      "Epoch 4/30\n",
      "487/487 [==============================] - 241s 495ms/step - loss: 2.0815 - val_loss: 2.3080\n",
      "Epoch 5/30\n",
      "487/487 [==============================] - 241s 495ms/step - loss: 1.7827 - val_loss: 2.2126\n",
      "Epoch 6/30\n",
      "487/487 [==============================] - 242s 496ms/step - loss: 1.5229 - val_loss: 2.1517\n",
      "Epoch 7/30\n",
      "487/487 [==============================] - 242s 496ms/step - loss: 1.3156 - val_loss: 2.1269\n",
      "Epoch 8/30\n",
      "487/487 [==============================] - 242s 496ms/step - loss: 1.1636 - val_loss: 2.1299\n",
      "Epoch 9/30\n",
      "487/487 [==============================] - 242s 496ms/step - loss: 1.0678 - val_loss: 2.1432\n",
      "Epoch 10/30\n",
      "487/487 [==============================] - 242s 496ms/step - loss: 1.0153 - val_loss: 2.1661\n",
      "Epoch 11/30\n",
      "487/487 [==============================] - 242s 496ms/step - loss: 0.9863 - val_loss: 2.1844\n",
      "Epoch 12/30\n",
      "487/487 [==============================] - 242s 496ms/step - loss: 0.9694 - val_loss: 2.1977\n"
     ]
    },
    {
     "data": {
      "text/plain": [
       "<keras.callbacks.History at 0x7f7839183640>"
      ]
     },
     "execution_count": 85,
     "metadata": {},
     "output_type": "execute_result"
    }
   ],
   "source": [
    "optimizer = tf.keras.optimizers.Adam() \n",
    "loss = tf.keras.losses.SparseCategoricalCrossentropy( # 훈련 데이터의 라벨이 정수의 형태로 제공될 때 사용하는 손실함수이다.\n",
    "    from_logits=True, # 기본값은 False이다. 모델에 의해 생성된 출력 값이 정규화되지 않았음을 손실 함수에 알려준다. 즉 softmax함수가 적용되지 않았다는걸 의미한다. \n",
    "    reduction='none'  # 기본값은 SUM이다. 각자 나오는 값의 반환 원할 때 None을 사용한다.\n",
    ")\n",
    "# 모델을 학습시키키 위한 학습과정을 설정하는 단계이다.\n",
    "model.compile(loss=loss, optimizer=optimizer) # 손실함수와 훈련과정을 설정했다.\n",
    "\n",
    "from keras.callbacks import EarlyStopping\n",
    "\n",
    "# EarlyStopping 콜백 정의\n",
    "early_stopping = EarlyStopping(monitor='val_loss', patience=5)\n",
    "\n",
    "# 모델 학습\n",
    "model.fit(train_dataset, validation_data=val_dataset, epochs=30, callbacks=[early_stopping])"
   ]
  },
  {
   "cell_type": "code",
   "execution_count": 86,
   "id": "66f15850",
   "metadata": {},
   "outputs": [],
   "source": [
    "#문장생성 함수 정의\n",
    "#모델에게 시작 문장을 전달하면 모델이 시작 문장을 바탕으로 작문을 진행\n",
    "def generate_text(model, tokenizer, init_sentence=\"<start>\", max_len=15): #시작 문자열을 init_sentence 로 받으며 디폴트값은 <start> 를 받는다\n",
    "    # 테스트를 위해서 입력받은 init_sentence도 텐서로 변환합니다\n",
    "    test_input = tokenizer.texts_to_sequences([init_sentence]) #텍스트 안의 단어들을 숫자의 시퀀스의 형태로 변환\n",
    "    test_tensor = tf.convert_to_tensor(test_input, dtype=tf.int64)\n",
    "    end_token = tokenizer.word_index[\"<end>\"]\n",
    "\n",
    "    # 단어 하나씩 예측해 문장을 만듭니다\n",
    "    #    1. 입력받은 문장의 텐서를 입력합니다\n",
    "    #    2. 예측된 값 중 가장 높은 확률인 word index를 뽑아냅니다\n",
    "    #    3. 2에서 예측된 word index를 문장 뒤에 붙입니다\n",
    "    #    4. 모델이 <end>를 예측했거나, max_len에 도달했다면 문장 생성을 마칩니다 (도달 하지 못하였으면 while 루프를 돌면서 다음 단어를 예측)\n",
    "    while True: #루프를 돌면서 init_sentence에 단어를 하나씩 생성성\n",
    "        # 1\n",
    "        predict = model(test_tensor) \n",
    "        # 2\n",
    "        predict_word = tf.argmax(tf.nn.softmax(predict, axis=-1), axis=-1)[:, -1] \n",
    "        # 3 \n",
    "        test_tensor = tf.concat([test_tensor, tf.expand_dims(predict_word, axis=0)], axis=-1)\n",
    "        # 4 \n",
    "        if predict_word.numpy()[0] == end_token: break\n",
    "        if test_tensor.shape[1] >= max_len: break\n",
    "\n",
    "    generated = \"\"\n",
    "    # tokenizer를 이용해 word index를 단어로 하나씩 변환합니다 \n",
    "    for word_index in test_tensor[0].numpy():\n",
    "        generated += tokenizer.index_word[word_index] + \" \"\n",
    "\n",
    "    return generated #최종적으로 모델이 생성한 문장을 반환"
   ]
  },
  {
   "cell_type": "code",
   "execution_count": 133,
   "id": "55601e3e",
   "metadata": {},
   "outputs": [
    {
     "data": {
      "text/plain": [
       "'<start> i love you , i love you , i love you <end> '"
      ]
     },
     "execution_count": 133,
     "metadata": {},
     "output_type": "execute_result"
    }
   ],
   "source": [
    "generate_text(model, tokenizer, init_sentence=\"<start> i love\") # 시작문장으로 i love를 넣어 문장생성 함수 실행"
   ]
  },
  {
   "cell_type": "code",
   "execution_count": 134,
   "id": "d5c3c890",
   "metadata": {},
   "outputs": [
    {
     "data": {
      "text/plain": [
       "'<start> kiss girls like katy perry <end> '"
      ]
     },
     "execution_count": 134,
     "metadata": {},
     "output_type": "execute_result"
    }
   ],
   "source": [
    "generate_text(model, tokenizer, init_sentence=\"<start> kiss\") # 시작문장으로 kiss를 넣어 문장생성 함수 실행"
   ]
  },
  {
   "cell_type": "markdown",
   "id": "3b220234",
   "metadata": {},
   "source": [
    "Katy Perry 언급까지. I kissed a girl 이란 노래를 아는 거니?"
   ]
  }
 ],
 "metadata": {
  "kernelspec": {
   "display_name": "Python 3 (ipykernel)",
   "language": "python",
   "name": "python3"
  },
  "language_info": {
   "codemirror_mode": {
    "name": "ipython",
    "version": 3
   },
   "file_extension": ".py",
   "mimetype": "text/x-python",
   "name": "python",
   "nbconvert_exporter": "python",
   "pygments_lexer": "ipython3",
   "version": "3.9.7"
  }
 },
 "nbformat": 4,
 "nbformat_minor": 5
}
