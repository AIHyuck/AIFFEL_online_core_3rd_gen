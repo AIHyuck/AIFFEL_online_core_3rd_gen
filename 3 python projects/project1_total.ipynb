{
 "cells": [
  {
   "cell_type": "code",
   "execution_count": null,
   "id": "7dc53f85",
   "metadata": {},
   "outputs": [],
   "source": [
    "#1_전화번호 가리기\n",
    "def change_num(nums):\n",
    "    answer=nums.replace(nums[-5:],'#####')\n",
    "    return answer\n",
    "\n",
    "change_num('010-13579-24688')"
   ]
  },
  {
   "cell_type": "code",
   "execution_count": null,
   "id": "be8f857b",
   "metadata": {},
   "outputs": [],
   "source": [
    "#2_리스트 평탄화\n",
    "def flatten(data):\n",
    "    output = []  # 빈 리스트를 만듭니다.\n",
    "    # 반복문과 재귀를 활용하여 함수 채워봐요.\n",
    "    for item in data:\n",
    "        if type(item) == list:\n",
    "            output+=flatten(item)\n",
    "        else:\n",
    "            output.append(item)\n",
    "    return output"
   ]
  },
  {
   "cell_type": "code",
   "execution_count": null,
   "id": "88cff87f",
   "metadata": {},
   "outputs": [],
   "source": [
    "a = [[1, 2], 3, [[4, 5, 6], 7], 8, 9]\n",
    "flatten(a)"
   ]
  },
  {
   "cell_type": "code",
   "execution_count": null,
   "id": "b678bd2d",
   "metadata": {},
   "outputs": [],
   "source": [
    "#3_10 이하 숫자만 곱하기\n",
    "def mul(*values):\n",
    "    # pass를 활용하여 함수를 완성해봐요!\n",
    "    output =1\n",
    "    for num in values:\n",
    "        if num <= 10:\n",
    "            output *= num\n",
    "        else:\n",
    "            pass    \n",
    "    return output"
   ]
  },
  {
   "cell_type": "code",
   "execution_count": null,
   "id": "55e3f991",
   "metadata": {},
   "outputs": [],
   "source": [
    "mul(2, 3, 4, 5)"
   ]
  },
  {
   "cell_type": "code",
   "execution_count": null,
   "id": "24d7681a",
   "metadata": {},
   "outputs": [],
   "source": [
    "mul(3, 12, 10)"
   ]
  }
 ],
 "metadata": {
  "kernelspec": {
   "display_name": "Python 3 (ipykernel)",
   "language": "python",
   "name": "python3"
  },
  "language_info": {
   "codemirror_mode": {
    "name": "ipython",
    "version": 3
   },
   "file_extension": ".py",
   "mimetype": "text/x-python",
   "name": "python",
   "nbconvert_exporter": "python",
   "pygments_lexer": "ipython3",
   "version": "3.9.7"
  }
 },
 "nbformat": 4,
 "nbformat_minor": 5
}
