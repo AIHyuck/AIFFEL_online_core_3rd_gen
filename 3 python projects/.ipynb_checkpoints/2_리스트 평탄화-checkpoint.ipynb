{
 "cells": [
  {
   "cell_type": "code",
   "execution_count": 3,
   "id": "e0401353",
   "metadata": {},
   "outputs": [],
   "source": [
    "#2_리스트 평탄화\n",
    "def flatten(data):\n",
    "    output = []  # 빈 리스트를 만듭니다.\n",
    "    # 반복문과 재귀를 활용하여 함수 채워봐요.\n",
    "    for item in data:\n",
    "        if type(item) == list:\n",
    "            output+=flatten(item)\n",
    "        else:\n",
    "            output.append(item)\n",
    "    return output"
   ]
  },
  {
   "cell_type": "code",
   "execution_count": 4,
   "id": "bed92fb8",
   "metadata": {},
   "outputs": [
    {
     "data": {
      "text/plain": [
       "[1, 2, 3, 4, 5, 6, 7, 8, 9]"
      ]
     },
     "execution_count": 4,
     "metadata": {},
     "output_type": "execute_result"
    }
   ],
   "source": [
    "a = [[1, 2], 3, [[4, 5, 6], 7], 8, 9]\n",
    "flatten(a)"
   ]
  }
 ],
 "metadata": {
  "kernelspec": {
   "display_name": "Python 3 (ipykernel)",
   "language": "python",
   "name": "python3"
  },
  "language_info": {
   "codemirror_mode": {
    "name": "ipython",
    "version": 3
   },
   "file_extension": ".py",
   "mimetype": "text/x-python",
   "name": "python",
   "nbconvert_exporter": "python",
   "pygments_lexer": "ipython3",
   "version": "3.9.7"
  }
 },
 "nbformat": 4,
 "nbformat_minor": 5
}
