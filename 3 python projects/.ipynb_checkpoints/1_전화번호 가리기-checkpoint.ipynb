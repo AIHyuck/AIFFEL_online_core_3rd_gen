{
 "cells": [
  {
   "cell_type": "code",
   "execution_count": 2,
   "id": "4cba7861",
   "metadata": {},
   "outputs": [
    {
     "data": {
      "text/plain": [
       "'010-13579-#####'"
      ]
     },
     "execution_count": 2,
     "metadata": {},
     "output_type": "execute_result"
    }
   ],
   "source": [
    "#1_전화번호 가리기\n",
    "def change_num(nums):\n",
    "    answer=nums.replace(nums[-5:],'#####')\n",
    "    return answer\n",
    "\n",
    "change_num('010-13579-24688')"
   ]
  }
 ],
 "metadata": {
  "kernelspec": {
   "display_name": "Python 3 (ipykernel)",
   "language": "python",
   "name": "python3"
  },
  "language_info": {
   "codemirror_mode": {
    "name": "ipython",
    "version": 3
   },
   "file_extension": ".py",
   "mimetype": "text/x-python",
   "name": "python",
   "nbconvert_exporter": "python",
   "pygments_lexer": "ipython3",
   "version": "3.9.7"
  }
 },
 "nbformat": 4,
 "nbformat_minor": 5
}
