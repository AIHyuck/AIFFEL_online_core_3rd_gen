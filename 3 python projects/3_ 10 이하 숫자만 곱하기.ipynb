{
 "cells": [
  {
   "cell_type": "code",
   "execution_count": 1,
   "id": "cfc2ebc5",
   "metadata": {},
   "outputs": [],
   "source": [
    "#3_10 이하 숫자만 곱하기\n",
    "def mul(*values):\n",
    "    # pass를 활용하여 함수를 완성해봐요!\n",
    "    output =1\n",
    "    for num in values:\n",
    "        if num <= 10:\n",
    "            output *= num\n",
    "        else:\n",
    "            pass    \n",
    "    return output"
   ]
  },
  {
   "cell_type": "code",
   "execution_count": 2,
   "id": "e4bda9f3",
   "metadata": {},
   "outputs": [
    {
     "data": {
      "text/plain": [
       "120"
      ]
     },
     "execution_count": 2,
     "metadata": {},
     "output_type": "execute_result"
    }
   ],
   "source": [
    "mul(2, 3, 4, 5)"
   ]
  },
  {
   "cell_type": "code",
   "execution_count": 5,
   "id": "f975cb4b",
   "metadata": {},
   "outputs": [
    {
     "data": {
      "text/plain": [
       "30"
      ]
     },
     "execution_count": 5,
     "metadata": {},
     "output_type": "execute_result"
    }
   ],
   "source": [
    "mul(3, 12, 10)"
   ]
  }
 ],
 "metadata": {
  "kernelspec": {
   "display_name": "Python 3 (ipykernel)",
   "language": "python",
   "name": "python3"
  },
  "language_info": {
   "codemirror_mode": {
    "name": "ipython",
    "version": 3
   },
   "file_extension": ".py",
   "mimetype": "text/x-python",
   "name": "python",
   "nbconvert_exporter": "python",
   "pygments_lexer": "ipython3",
   "version": "3.9.7"
  }
 },
 "nbformat": 4,
 "nbformat_minor": 5
}
