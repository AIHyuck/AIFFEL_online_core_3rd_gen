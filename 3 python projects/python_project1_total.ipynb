{
 "cells": [
  {
   "cell_type": "code",
   "execution_count": null,
   "id": "06591a2c",
   "metadata": {},
   "outputs": [],
   "source": [
    "#1_전화번호 가리기\n",
    "def change_num(nums):\n",
    "    answer=nums.replace(nums[-5:],'#####')\n",
    "    return answer\n",
    "\n",
    "change_num('010-13579-24688')\n",
    "\n",
    "\n",
    "#2_리스트 평탄화\n",
    "def flatten(data):\n",
    "    output = []  # 빈 리스트를 만듭니다.\n",
    "    # 반복문과 재귀를 활용하여 함수 채워봐요.\n",
    "    for item in data:\n",
    "        if type(item) == list:\n",
    "            output+=flatten(item)\n",
    "        else:\n",
    "            output.append(item)\n",
    "    return output\n",
    "    \n",
    "    \n",
    "#3_10 이하 숫자만 곱하기\n",
    "def mul(*values):\n",
    "    # pass를 활용하여 함수를 완성해봐요!\n",
    "    output =1\n",
    "    for num in values:\n",
    "        if num <= 10:\n",
    "            output *= num\n",
    "        else:\n",
    "            pass    \n",
    "    return output"
   ]
  }
 ],
 "metadata": {
  "kernelspec": {
   "display_name": "Python 3 (ipykernel)",
   "language": "python",
   "name": "python3"
  },
  "language_info": {
   "codemirror_mode": {
    "name": "ipython",
    "version": 3
   },
   "file_extension": ".py",
   "mimetype": "text/x-python",
   "name": "python",
   "nbconvert_exporter": "python",
   "pygments_lexer": "ipython3",
   "version": "3.9.7"
  }
 },
 "nbformat": 4,
 "nbformat_minor": 5
}
