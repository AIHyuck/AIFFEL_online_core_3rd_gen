{
 "cells": [
  {
   "cell_type": "code",
   "execution_count": 9,
   "id": "4ea89c44",
   "metadata": {
    "colab": {
     "base_uri": "https://localhost:8080/"
    },
    "executionInfo": {
     "elapsed": 6357,
     "status": "ok",
     "timestamp": 1679382734872,
     "user": {
      "displayName": "한기혁",
      "userId": "18343953987471850827"
     },
     "user_tz": -540
    },
    "id": "tDW8X8rtgQAR",
    "outputId": "dedae2f8-89f9-421b-f403-bc2f869a3968"
   },
   "outputs": [],
   "source": [
    "# 필요 라이브러리 호출하기\n",
    "import pandas as pd\n",
    "import numpy as np\n",
    "import matplotlib.pyplot as plt\n",
    "import seaborn as sns\n",
    "\n",
    "plt.style.use('default')"
   ]
  },
  {
   "cell_type": "code",
   "execution_count": 36,
   "id": "3d1dce5a",
   "metadata": {
    "executionInfo": {
     "elapsed": 368,
     "status": "ok",
     "timestamp": 1679382757162,
     "user": {
      "displayName": "한기혁",
      "userId": "18343953987471850827"
     },
     "user_tz": -540
    },
    "id": "nAZ4juaKgaOt"
   },
   "outputs": [
    {
     "name": "stdout",
     "output_type": "stream",
     "text": [
      "완료!\n"
     ]
    }
   ],
   "source": [
    "# 한글이 포함된 시각화를 위해 Matplotlib 설정\n",
    "import matplotlib as mpl\n",
    "import matplotlib.pyplot as plt\n",
    "import matplotlib.font_manager as fm\n",
    "\n",
    "fontpath = '/usr/share/fonts/truetype/nanum/NanumBarunGothic.ttf'\n",
    "font = fm.FontProperties(fname=fontpath, size=9)\n",
    "plt.rc('font', family='NanumBarunGothic') \n",
    "mpl.font_manager.findfont(font)\n",
    "print(\"완료!\")"
   ]
  },
  {
   "cell_type": "code",
   "execution_count": 11,
   "id": "ee8919d8",
   "metadata": {
    "executionInfo": {
     "elapsed": 98,
     "status": "ok",
     "timestamp": 1679382734876,
     "user": {
      "displayName": "한기혁",
      "userId": "18343953987471850827"
     },
     "user_tz": -540
    },
    "id": "3f149ce3"
   },
   "outputs": [],
   "source": [
    "# 필요 라이브러리 호출하기\n",
    "import pandas as pd\n",
    "import numpy as np\n",
    "import matplotlib.pyplot as plt\n",
    "import seaborn as sns\n",
    "\n",
    "plt.style.use('default')"
   ]
  },
  {
   "cell_type": "code",
   "execution_count": 12,
   "id": "042a07c9",
   "metadata": {
    "executionInfo": {
     "elapsed": 42,
     "status": "ok",
     "timestamp": 1679382737585,
     "user": {
      "displayName": "한기혁",
      "userId": "18343953987471850827"
     },
     "user_tz": -540
    },
    "id": "7a537dd2"
   },
   "outputs": [],
   "source": [
    "# 데이터 호출하기\n",
    "entry_data = pd.read_csv('/aiffel/aiffel/workplace/Data_Analysis_ABC/data/entry_data.csv')\n",
    "sales_data = pd.read_csv('/aiffel/aiffel/workplace/Data_Analysis_ABC/data/sales_data.csv')\n",
    "item_data = pd.read_csv('/aiffel/aiffel/workplace/Data_Analysis_ABC/data/item_data.csv')\n",
    "item_entry_data = pd.read_csv('/aiffel/aiffel/workplace/Data_Analysis_ABC/data/item_entry_data.csv')"
   ]
  },
  {
   "cell_type": "code",
   "execution_count": 13,
   "id": "dc3649de",
   "metadata": {
    "colab": {
     "base_uri": "https://localhost:8080/"
    },
    "executionInfo": {
     "elapsed": 42,
     "status": "ok",
     "timestamp": 1679382737586,
     "user": {
      "displayName": "한기혁",
      "userId": "18343953987471850827"
     },
     "user_tz": -540
    },
    "id": "60d02144",
    "outputId": "8e09653d-361e-4faa-87b1-f2f9f32ec63c"
   },
   "outputs": [
    {
     "name": "stdout",
     "output_type": "stream",
     "text": [
      "<class 'pandas.core.frame.DataFrame'>\n",
      "RangeIndex: 22555 entries, 0 to 22554\n",
      "Data columns (total 8 columns):\n",
      " #   Column  Non-Null Count  Dtype \n",
      "---  ------  --------------  ----- \n",
      " 0   요금제명    22292 non-null  object\n",
      " 1   입실      22555 non-null  object\n",
      " 2   퇴실      22555 non-null  object\n",
      " 3   이용      22533 non-null  object\n",
      " 4   위치      22555 non-null  object\n",
      " 5   금액      22555 non-null  int64 \n",
      " 6   구분      22555 non-null  object\n",
      " 7   고객      22555 non-null  object\n",
      "dtypes: int64(1), object(7)\n",
      "memory usage: 1.4+ MB\n"
     ]
    }
   ],
   "source": [
    "#고객들의 입퇴실에 대한 데이터\n",
    "entry_data.info()"
   ]
  },
  {
   "cell_type": "code",
   "execution_count": 14,
   "id": "b0de8ebf",
   "metadata": {
    "colab": {
     "base_uri": "https://localhost:8080/"
    },
    "executionInfo": {
     "elapsed": 42,
     "status": "ok",
     "timestamp": 1679382737588,
     "user": {
      "displayName": "한기혁",
      "userId": "18343953987471850827"
     },
     "user_tz": -540
    },
    "id": "f5e286bf",
    "outputId": "bed1a551-5c28-4033-c4d1-1e98b8b40765"
   },
   "outputs": [
    {
     "name": "stdout",
     "output_type": "stream",
     "text": [
      "<class 'pandas.core.frame.DataFrame'>\n",
      "RangeIndex: 7105 entries, 0 to 7104\n",
      "Data columns (total 8 columns):\n",
      " #   Column  Non-Null Count  Dtype \n",
      "---  ------  --------------  ----- \n",
      " 0   결제일시    7105 non-null   object\n",
      " 1   판매위치    7105 non-null   object\n",
      " 2   상품명     7105 non-null   object\n",
      " 3   결제방식    7105 non-null   object\n",
      " 4   비고      7105 non-null   object\n",
      " 5   판매수량    7105 non-null   int64 \n",
      " 6   결제금액    7105 non-null   object\n",
      " 7   고객      6300 non-null   object\n",
      "dtypes: int64(1), object(7)\n",
      "memory usage: 444.2+ KB\n"
     ]
    }
   ],
   "source": [
    "#고객들의 상품 구매에 대한 데이터\n",
    "sales_data.info()"
   ]
  },
  {
   "cell_type": "code",
   "execution_count": 15,
   "id": "5c9ae3cf",
   "metadata": {
    "colab": {
     "base_uri": "https://localhost:8080/",
     "height": 424
    },
    "executionInfo": {
     "elapsed": 36,
     "status": "ok",
     "timestamp": 1679382737589,
     "user": {
      "displayName": "한기혁",
      "userId": "18343953987471850827"
     },
     "user_tz": -540
    },
    "id": "c77303f5",
    "outputId": "d64caebd-95c5-4551-da15-2ad1d49bc701"
   },
   "outputs": [
    {
     "data": {
      "text/html": [
       "<div>\n",
       "<style scoped>\n",
       "    .dataframe tbody tr th:only-of-type {\n",
       "        vertical-align: middle;\n",
       "    }\n",
       "\n",
       "    .dataframe tbody tr th {\n",
       "        vertical-align: top;\n",
       "    }\n",
       "\n",
       "    .dataframe thead th {\n",
       "        text-align: right;\n",
       "    }\n",
       "</style>\n",
       "<table border=\"1\" class=\"dataframe\">\n",
       "  <thead>\n",
       "    <tr style=\"text-align: right;\">\n",
       "      <th></th>\n",
       "      <th>구분</th>\n",
       "      <th>분류</th>\n",
       "      <th>상품명</th>\n",
       "      <th>판매금액</th>\n",
       "    </tr>\n",
       "  </thead>\n",
       "  <tbody>\n",
       "    <tr>\n",
       "      <th>0</th>\n",
       "      <td>1</td>\n",
       "      <td>게임&amp;TV</td>\n",
       "      <td>이어폰(커널형)</td>\n",
       "      <td>3,000원</td>\n",
       "    </tr>\n",
       "    <tr>\n",
       "      <th>1</th>\n",
       "      <td>2</td>\n",
       "      <td>디저트</td>\n",
       "      <td>초코머핀</td>\n",
       "      <td>3,500원</td>\n",
       "    </tr>\n",
       "    <tr>\n",
       "      <th>2</th>\n",
       "      <td>3</td>\n",
       "      <td>디저트</td>\n",
       "      <td>쿠키(초코칩)</td>\n",
       "      <td>1,500원</td>\n",
       "    </tr>\n",
       "    <tr>\n",
       "      <th>3</th>\n",
       "      <td>4</td>\n",
       "      <td>디저트</td>\n",
       "      <td>쿠키(마카다미아)</td>\n",
       "      <td>1,500원</td>\n",
       "    </tr>\n",
       "    <tr>\n",
       "      <th>4</th>\n",
       "      <td>5</td>\n",
       "      <td>디저트</td>\n",
       "      <td>미니마카롱(3개)</td>\n",
       "      <td>2,000원</td>\n",
       "    </tr>\n",
       "    <tr>\n",
       "      <th>...</th>\n",
       "      <td>...</td>\n",
       "      <td>...</td>\n",
       "      <td>...</td>\n",
       "      <td>...</td>\n",
       "    </tr>\n",
       "    <tr>\n",
       "      <th>169</th>\n",
       "      <td>170</td>\n",
       "      <td>커피</td>\n",
       "      <td>카페모카(ICE)</td>\n",
       "      <td>2,500원</td>\n",
       "    </tr>\n",
       "    <tr>\n",
       "      <th>170</th>\n",
       "      <td>171</td>\n",
       "      <td>커피</td>\n",
       "      <td>헤이즐넛라떼(ICE)</td>\n",
       "      <td>2,500원</td>\n",
       "    </tr>\n",
       "    <tr>\n",
       "      <th>171</th>\n",
       "      <td>172</td>\n",
       "      <td>포장</td>\n",
       "      <td>오늘은 순살닭다리 덮밥</td>\n",
       "      <td>9,000원</td>\n",
       "    </tr>\n",
       "    <tr>\n",
       "      <th>172</th>\n",
       "      <td>173</td>\n",
       "      <td>포장</td>\n",
       "      <td>오늘은 한돈간장불고기</td>\n",
       "      <td>8,000원</td>\n",
       "    </tr>\n",
       "    <tr>\n",
       "      <th>173</th>\n",
       "      <td>174</td>\n",
       "      <td>포장</td>\n",
       "      <td>오늘은 한돈고추장불고기</td>\n",
       "      <td>8,000원</td>\n",
       "    </tr>\n",
       "  </tbody>\n",
       "</table>\n",
       "<p>174 rows × 4 columns</p>\n",
       "</div>"
      ],
      "text/plain": [
       "      구분     분류           상품명    판매금액\n",
       "0      1  게임&TV      이어폰(커널형)  3,000원\n",
       "1      2    디저트          초코머핀  3,500원\n",
       "2      3    디저트       쿠키(초코칩)  1,500원\n",
       "3      4    디저트     쿠키(마카다미아)  1,500원\n",
       "4      5    디저트     미니마카롱(3개)  2,000원\n",
       "..   ...    ...           ...     ...\n",
       "169  170     커피     카페모카(ICE)  2,500원\n",
       "170  171     커피   헤이즐넛라떼(ICE)  2,500원\n",
       "171  172     포장  오늘은 순살닭다리 덮밥  9,000원\n",
       "172  173     포장   오늘은 한돈간장불고기  8,000원\n",
       "173  174     포장  오늘은 한돈고추장불고기  8,000원\n",
       "\n",
       "[174 rows x 4 columns]"
      ]
     },
     "execution_count": 15,
     "metadata": {},
     "output_type": "execute_result"
    }
   ],
   "source": [
    "item_data"
   ]
  },
  {
   "cell_type": "code",
   "execution_count": 16,
   "id": "f6b5b5b5",
   "metadata": {
    "colab": {
     "base_uri": "https://localhost:8080/",
     "height": 1000
    },
    "executionInfo": {
     "elapsed": 34,
     "status": "ok",
     "timestamp": 1679382737590,
     "user": {
      "displayName": "한기혁",
      "userId": "18343953987471850827"
     },
     "user_tz": -540
    },
    "id": "8b0b1f99",
    "outputId": "a7762085-74c4-4d82-8bd3-22e1690476ac"
   },
   "outputs": [
    {
     "data": {
      "text/html": [
       "<div>\n",
       "<style scoped>\n",
       "    .dataframe tbody tr th:only-of-type {\n",
       "        vertical-align: middle;\n",
       "    }\n",
       "\n",
       "    .dataframe tbody tr th {\n",
       "        vertical-align: top;\n",
       "    }\n",
       "\n",
       "    .dataframe thead th {\n",
       "        text-align: right;\n",
       "    }\n",
       "</style>\n",
       "<table border=\"1\" class=\"dataframe\">\n",
       "  <thead>\n",
       "    <tr style=\"text-align: right;\">\n",
       "      <th></th>\n",
       "      <th>순위</th>\n",
       "      <th>분류</th>\n",
       "      <th>상품명</th>\n",
       "      <th>판매금액</th>\n",
       "    </tr>\n",
       "  </thead>\n",
       "  <tbody>\n",
       "    <tr>\n",
       "      <th>0</th>\n",
       "      <td>1</td>\n",
       "      <td>한국대생</td>\n",
       "      <td>한국대생 요금제</td>\n",
       "      <td>2,000원</td>\n",
       "    </tr>\n",
       "    <tr>\n",
       "      <th>1</th>\n",
       "      <td>2</td>\n",
       "      <td>심야-조조</td>\n",
       "      <td>심야-조조 요금제</td>\n",
       "      <td>5,000원</td>\n",
       "    </tr>\n",
       "    <tr>\n",
       "      <th>2</th>\n",
       "      <td>3</td>\n",
       "      <td>일반인</td>\n",
       "      <td>일반요금제</td>\n",
       "      <td>2,500원</td>\n",
       "    </tr>\n",
       "    <tr>\n",
       "      <th>3</th>\n",
       "      <td>4</td>\n",
       "      <td>한국대생</td>\n",
       "      <td>한국대생 요금제</td>\n",
       "      <td>2,500원</td>\n",
       "    </tr>\n",
       "    <tr>\n",
       "      <th>4</th>\n",
       "      <td>5</td>\n",
       "      <td>일반인</td>\n",
       "      <td>일반요금제</td>\n",
       "      <td>2,000원</td>\n",
       "    </tr>\n",
       "    <tr>\n",
       "      <th>5</th>\n",
       "      <td>6</td>\n",
       "      <td>한국대생</td>\n",
       "      <td>한국대생 요금제</td>\n",
       "      <td>1,500원</td>\n",
       "    </tr>\n",
       "    <tr>\n",
       "      <th>6</th>\n",
       "      <td>7</td>\n",
       "      <td>18시이후</td>\n",
       "      <td>거리두기4단계</td>\n",
       "      <td>1,000원</td>\n",
       "    </tr>\n",
       "    <tr>\n",
       "      <th>7</th>\n",
       "      <td>8</td>\n",
       "      <td>심야-조조</td>\n",
       "      <td>심야-조조 요금제</td>\n",
       "      <td>2,500원</td>\n",
       "    </tr>\n",
       "    <tr>\n",
       "      <th>8</th>\n",
       "      <td>9</td>\n",
       "      <td>일반인</td>\n",
       "      <td>일반요금제</td>\n",
       "      <td>3,000원</td>\n",
       "    </tr>\n",
       "    <tr>\n",
       "      <th>9</th>\n",
       "      <td>10</td>\n",
       "      <td>일반인</td>\n",
       "      <td>일반요금제</td>\n",
       "      <td>7,000원</td>\n",
       "    </tr>\n",
       "    <tr>\n",
       "      <th>10</th>\n",
       "      <td>11</td>\n",
       "      <td>심야-조조</td>\n",
       "      <td>심야-조조 요금제</td>\n",
       "      <td>4,000원</td>\n",
       "    </tr>\n",
       "    <tr>\n",
       "      <th>11</th>\n",
       "      <td>12</td>\n",
       "      <td>심야-조조</td>\n",
       "      <td>심야-조조 요금제</td>\n",
       "      <td>6,000원</td>\n",
       "    </tr>\n",
       "    <tr>\n",
       "      <th>12</th>\n",
       "      <td>13</td>\n",
       "      <td>심야-조조</td>\n",
       "      <td>심야-조조 요금제</td>\n",
       "      <td>7,000원</td>\n",
       "    </tr>\n",
       "    <tr>\n",
       "      <th>13</th>\n",
       "      <td>14</td>\n",
       "      <td>한국대생</td>\n",
       "      <td>한국대생 요금제</td>\n",
       "      <td>7,000원</td>\n",
       "    </tr>\n",
       "    <tr>\n",
       "      <th>14</th>\n",
       "      <td>15</td>\n",
       "      <td>한국대생</td>\n",
       "      <td>한국대생 요금제</td>\n",
       "      <td>3,000원</td>\n",
       "    </tr>\n",
       "    <tr>\n",
       "      <th>15</th>\n",
       "      <td>16</td>\n",
       "      <td>18시이후</td>\n",
       "      <td>거리두기4단계</td>\n",
       "      <td>2,500원</td>\n",
       "    </tr>\n",
       "    <tr>\n",
       "      <th>16</th>\n",
       "      <td>17</td>\n",
       "      <td>심야-조조</td>\n",
       "      <td>심야-조조 요금제</td>\n",
       "      <td>3,000원</td>\n",
       "    </tr>\n",
       "    <tr>\n",
       "      <th>17</th>\n",
       "      <td>18</td>\n",
       "      <td>18시이후</td>\n",
       "      <td>마감요금</td>\n",
       "      <td>2,500원</td>\n",
       "    </tr>\n",
       "    <tr>\n",
       "      <th>18</th>\n",
       "      <td>19</td>\n",
       "      <td>기본</td>\n",
       "      <td>기본요금제</td>\n",
       "      <td>2,500원</td>\n",
       "    </tr>\n",
       "    <tr>\n",
       "      <th>19</th>\n",
       "      <td>20</td>\n",
       "      <td>일반인</td>\n",
       "      <td>일반요금제</td>\n",
       "      <td>8,000원</td>\n",
       "    </tr>\n",
       "    <tr>\n",
       "      <th>20</th>\n",
       "      <td>21</td>\n",
       "      <td>심야-조조</td>\n",
       "      <td>심야-조조 요금제</td>\n",
       "      <td>8,000원</td>\n",
       "    </tr>\n",
       "    <tr>\n",
       "      <th>21</th>\n",
       "      <td>22</td>\n",
       "      <td>심야-조조</td>\n",
       "      <td>추석당일 요금제</td>\n",
       "      <td>5,000원</td>\n",
       "    </tr>\n",
       "    <tr>\n",
       "      <th>22</th>\n",
       "      <td>23</td>\n",
       "      <td>심야-조조</td>\n",
       "      <td>추석당일 요금제</td>\n",
       "      <td>7,000원</td>\n",
       "    </tr>\n",
       "    <tr>\n",
       "      <th>23</th>\n",
       "      <td>24</td>\n",
       "      <td>기본</td>\n",
       "      <td>기본요금제</td>\n",
       "      <td>2,000원</td>\n",
       "    </tr>\n",
       "    <tr>\n",
       "      <th>24</th>\n",
       "      <td>25</td>\n",
       "      <td>한국대생</td>\n",
       "      <td>한국대생 요금제</td>\n",
       "      <td>8,000원</td>\n",
       "    </tr>\n",
       "    <tr>\n",
       "      <th>25</th>\n",
       "      <td>26</td>\n",
       "      <td>18시이후</td>\n",
       "      <td>거리두기4단계</td>\n",
       "      <td>7,000원</td>\n",
       "    </tr>\n",
       "    <tr>\n",
       "      <th>26</th>\n",
       "      <td>27</td>\n",
       "      <td>기본</td>\n",
       "      <td>기본요금제</td>\n",
       "      <td>2,400원</td>\n",
       "    </tr>\n",
       "    <tr>\n",
       "      <th>27</th>\n",
       "      <td>28</td>\n",
       "      <td>기본그룹</td>\n",
       "      <td>기본요금제</td>\n",
       "      <td>2,500원</td>\n",
       "    </tr>\n",
       "    <tr>\n",
       "      <th>28</th>\n",
       "      <td>29</td>\n",
       "      <td>일반인</td>\n",
       "      <td>일반요금제</td>\n",
       "      <td>6,000원</td>\n",
       "    </tr>\n",
       "    <tr>\n",
       "      <th>29</th>\n",
       "      <td>30</td>\n",
       "      <td>심야-조조</td>\n",
       "      <td>추석당일 요금제</td>\n",
       "      <td>2,500원</td>\n",
       "    </tr>\n",
       "    <tr>\n",
       "      <th>30</th>\n",
       "      <td>31</td>\n",
       "      <td>기본그룹</td>\n",
       "      <td>기본요금제</td>\n",
       "      <td>2,000원</td>\n",
       "    </tr>\n",
       "    <tr>\n",
       "      <th>31</th>\n",
       "      <td>32</td>\n",
       "      <td>일반인</td>\n",
       "      <td>일반요금제</td>\n",
       "      <td>3,500원</td>\n",
       "    </tr>\n",
       "    <tr>\n",
       "      <th>32</th>\n",
       "      <td>33</td>\n",
       "      <td>일반인</td>\n",
       "      <td>일반요금제</td>\n",
       "      <td>6,500원</td>\n",
       "    </tr>\n",
       "    <tr>\n",
       "      <th>33</th>\n",
       "      <td>34</td>\n",
       "      <td>한국대생</td>\n",
       "      <td>한국대생 요금제</td>\n",
       "      <td>4,900원</td>\n",
       "    </tr>\n",
       "  </tbody>\n",
       "</table>\n",
       "</div>"
      ],
      "text/plain": [
       "    순위     분류        상품명    판매금액\n",
       "0    1   한국대생   한국대생 요금제  2,000원\n",
       "1    2  심야-조조  심야-조조 요금제  5,000원\n",
       "2    3    일반인      일반요금제  2,500원\n",
       "3    4   한국대생   한국대생 요금제  2,500원\n",
       "4    5    일반인      일반요금제  2,000원\n",
       "5    6   한국대생   한국대생 요금제  1,500원\n",
       "6    7  18시이후    거리두기4단계  1,000원\n",
       "7    8  심야-조조  심야-조조 요금제  2,500원\n",
       "8    9    일반인      일반요금제  3,000원\n",
       "9   10    일반인      일반요금제  7,000원\n",
       "10  11  심야-조조  심야-조조 요금제  4,000원\n",
       "11  12  심야-조조  심야-조조 요금제  6,000원\n",
       "12  13  심야-조조  심야-조조 요금제  7,000원\n",
       "13  14   한국대생   한국대생 요금제  7,000원\n",
       "14  15   한국대생   한국대생 요금제  3,000원\n",
       "15  16  18시이후    거리두기4단계  2,500원\n",
       "16  17  심야-조조  심야-조조 요금제  3,000원\n",
       "17  18  18시이후       마감요금  2,500원\n",
       "18  19     기본      기본요금제  2,500원\n",
       "19  20    일반인      일반요금제  8,000원\n",
       "20  21  심야-조조  심야-조조 요금제  8,000원\n",
       "21  22  심야-조조   추석당일 요금제  5,000원\n",
       "22  23  심야-조조   추석당일 요금제  7,000원\n",
       "23  24     기본      기본요금제  2,000원\n",
       "24  25   한국대생   한국대생 요금제  8,000원\n",
       "25  26  18시이후    거리두기4단계  7,000원\n",
       "26  27     기본      기본요금제  2,400원\n",
       "27  28   기본그룹      기본요금제  2,500원\n",
       "28  29    일반인      일반요금제  6,000원\n",
       "29  30  심야-조조   추석당일 요금제  2,500원\n",
       "30  31   기본그룹      기본요금제  2,000원\n",
       "31  32    일반인      일반요금제  3,500원\n",
       "32  33    일반인      일반요금제  6,500원\n",
       "33  34   한국대생   한국대생 요금제  4,900원"
      ]
     },
     "execution_count": 16,
     "metadata": {},
     "output_type": "execute_result"
    }
   ],
   "source": [
    "item_entry_data"
   ]
  },
  {
   "cell_type": "code",
   "execution_count": 17,
   "id": "3018f803",
   "metadata": {
    "colab": {
     "base_uri": "https://localhost:8080/"
    },
    "executionInfo": {
     "elapsed": 33,
     "status": "ok",
     "timestamp": 1679382737591,
     "user": {
      "displayName": "한기혁",
      "userId": "18343953987471850827"
     },
     "user_tz": -540
    },
    "id": "fJ7gUa2vrG5B",
    "outputId": "f53a24de-3322-4f04-9c77-3ccb2d75b712"
   },
   "outputs": [
    {
     "name": "stdout",
     "output_type": "stream",
     "text": [
      "['시간요금제(1시간)' '무제한 입장권' '한국대생 무제한 입장권' '기간권' '시간요금제(3시간)' '심야-조조무제한' '시간권'\n",
      " nan '입장권(종일권)' '한국대생 입장권(종일권)' '1시간' '조조무제한' '18시이후 무제한' '3시간'\n",
      " '심야-조조무제한(06시까지)' '이용권' '시간 요금제(1시간당)' '시간요금제(1시간당)' '무제한(한국대생)'\n",
      " '1시간 요금제' '무제한(일반요금)' '종일요금제' '시간요금제']\n",
      "['한국대생 요금제' '심야-조조 요금제' '일반요금제' '거리두기4단계' '마감요금' '기본요금제' '추석당일 요금제']\n"
     ]
    }
   ],
   "source": [
    "#전처리 -> entry_data와 item_entry_data\n",
    "unique_data_e=entry_data['요금제명'].unique()\n",
    "unique_data_ie=item_entry_data['상품명'].unique()\n",
    "print(unique_data_e)\n",
    "print(unique_data_ie)"
   ]
  },
  {
   "cell_type": "code",
   "execution_count": 18,
   "id": "fda90e45",
   "metadata": {
    "colab": {
     "base_uri": "https://localhost:8080/"
    },
    "executionInfo": {
     "elapsed": 1215,
     "status": "ok",
     "timestamp": 1679382738781,
     "user": {
      "displayName": "한기혁",
      "userId": "18343953987471850827"
     },
     "user_tz": -540
    },
    "id": "y5B08Pwu5qge",
    "outputId": "ccd8dbe6-4737-4026-bd38-418f36a8e800"
   },
   "outputs": [
    {
     "name": "stdout",
     "output_type": "stream",
     "text": [
      "시간요금제(1시간)\n",
      "[3000 2500]\n",
      "무제한 입장권\n",
      "[7400 8400 8900 6900 7900 8600 7500]\n",
      "한국대생 무제한 입장권\n",
      "[7400 6400 6900 8400 7900 8100]\n",
      "기간권\n",
      "[0]\n",
      "시간요금제(3시간)\n",
      "[8000 7000]\n",
      "심야-조조무제한\n",
      "[6000 5000]\n",
      "시간권\n",
      "[0]\n",
      "nan\n",
      "[]\n",
      "입장권(종일권)\n",
      "[7000 6500 7500 6000 8000 5500]\n",
      "한국대생 입장권(종일권)\n",
      "[6000 5500 6500 7500 7000 5000]\n",
      "1시간\n",
      "[2500]\n",
      "조조무제한\n",
      "[5000 4000]\n",
      "18시이후 무제한\n",
      "[5000 4500 6500 5500 6000]\n",
      "3시간\n",
      "[7000]\n",
      "심야-조조무제한(06시까지)\n",
      "[5000]\n",
      "이용권\n",
      "[0]\n",
      "시간 요금제(1시간당)\n",
      "[2500]\n",
      "시간요금제(1시간당)\n",
      "[2500]\n",
      "무제한(한국대생)\n",
      "[7000]\n",
      "1시간 요금제\n",
      "[2000]\n",
      "무제한(일반요금)\n",
      "[6000]\n",
      "종일요금제\n",
      "[6000 7000 6500 7500]\n",
      "시간요금제\n",
      "[5900 6400]\n"
     ]
    }
   ],
   "source": [
    "#요금제, 상품 비교.. 실패!\n",
    "for i in unique_data_e:\n",
    "  sorted_entry_data=entry_data[entry_data['요금제명']== i ]\n",
    "  uniqueval=sorted_entry_data['금액'].unique()\n",
    "  print(i)\n",
    "  print(uniqueval)"
   ]
  },
  {
   "cell_type": "code",
   "execution_count": 19,
   "id": "e3247a91",
   "metadata": {
    "colab": {
     "base_uri": "https://localhost:8080/"
    },
    "executionInfo": {
     "elapsed": 36,
     "status": "ok",
     "timestamp": 1679382738782,
     "user": {
      "displayName": "한기혁",
      "userId": "18343953987471850827"
     },
     "user_tz": -540
    },
    "id": "1C-qulbs7trV",
    "outputId": "77fe01f4-b9ff-4267-e8ca-eab7124a1301"
   },
   "outputs": [
    {
     "name": "stdout",
     "output_type": "stream",
     "text": [
      "             요금제명                입실                퇴실           이용    위치  \\\n",
      "0      시간요금제(1시간)  2022-04-01 23:39   2022-04-02 0:39   오전 1:00:00  선불기2   \n",
      "1      시간요금제(1시간)  2022-04-01 23:39   2022-04-02 0:39   오전 1:00:00  선불기2   \n",
      "19     시간요금제(1시간)  2022-04-01 16:26  2022-04-01 16:55  오전 12:29:00  선불기2   \n",
      "66     시간요금제(1시간)  2022-03-31 16:13  2022-03-31 17:26   오전 1:12:00  선불기2   \n",
      "67     시간요금제(1시간)  2022-03-31 16:13  2022-03-31 17:26   오전 1:12:00  선불기2   \n",
      "...           ...               ...               ...          ...   ...   \n",
      "22047  시간요금제(1시간)  2021-03-10 17:45  2021-03-10 19:18   오전 1:32:00  선불기2   \n",
      "22048  시간요금제(1시간)  2021-03-10 17:45  2021-03-10 19:18   오전 1:32:00  선불기2   \n",
      "22105  시간요금제(1시간)  2021-03-09 17:18  2021-03-09 18:38   오전 1:19:00  선불기2   \n",
      "22130  시간요금제(1시간)  2021-03-08 23:05   2021-03-09 1:34   오전 2:29:00  선불기2   \n",
      "22192  시간요금제(1시간)   2021-03-08 8:59  2021-03-08 10:52   오전 1:53:00  선불기2   \n",
      "\n",
      "         금액  구분              고객  \n",
      "0      3000  퇴실  customer263717  \n",
      "1      3000  퇴실  customer263717  \n",
      "19     3000  퇴실  customer909486  \n",
      "66     3000  퇴실  customer442243  \n",
      "67     3000  퇴실  customer442243  \n",
      "...     ...  ..             ...  \n",
      "22047  2500  퇴실  customer388104  \n",
      "22048  2500  퇴실  customer388104  \n",
      "22105  2500  퇴실  customer241622  \n",
      "22130  2500  퇴실  customer936282  \n",
      "22192  2500  퇴실  customer714334  \n",
      "\n",
      "[1048 rows x 8 columns]\n",
      "[3000 2500]\n"
     ]
    }
   ],
   "source": [
    "#\n",
    "sorted_entry_data=entry_data[entry_data['요금제명']=='시간요금제(1시간)']\n",
    "print(sorted_entry_data)\n",
    "uniqueval=sorted_entry_data['금액'].unique()\n",
    "print(uniqueval)"
   ]
  },
  {
   "cell_type": "code",
   "execution_count": 20,
   "id": "c8d4bb9a",
   "metadata": {
    "colab": {
     "base_uri": "https://localhost:8080/",
     "height": 424
    },
    "executionInfo": {
     "elapsed": 555,
     "status": "ok",
     "timestamp": 1679387347596,
     "user": {
      "displayName": "한기혁",
      "userId": "18343953987471850827"
     },
     "user_tz": -540
    },
    "id": "ec7bbb46",
    "outputId": "9dd17e62-8253-4125-df72-f420a417305f"
   },
   "outputs": [
    {
     "data": {
      "text/html": [
       "<div>\n",
       "<style scoped>\n",
       "    .dataframe tbody tr th:only-of-type {\n",
       "        vertical-align: middle;\n",
       "    }\n",
       "\n",
       "    .dataframe tbody tr th {\n",
       "        vertical-align: top;\n",
       "    }\n",
       "\n",
       "    .dataframe thead th {\n",
       "        text-align: right;\n",
       "    }\n",
       "</style>\n",
       "<table border=\"1\" class=\"dataframe\">\n",
       "  <thead>\n",
       "    <tr style=\"text-align: right;\">\n",
       "      <th></th>\n",
       "      <th>결제일시</th>\n",
       "      <th>판매위치</th>\n",
       "      <th>상품명</th>\n",
       "      <th>결제방식</th>\n",
       "      <th>비고</th>\n",
       "      <th>판매수량</th>\n",
       "      <th>결제금액</th>\n",
       "      <th>고객</th>\n",
       "      <th>date</th>\n",
       "    </tr>\n",
       "  </thead>\n",
       "  <tbody>\n",
       "    <tr>\n",
       "      <th>0</th>\n",
       "      <td>2022-04-01 19:41</td>\n",
       "      <td>선불기1</td>\n",
       "      <td>치킨카라아케 6pc</td>\n",
       "      <td>신용카드</td>\n",
       "      <td>결제완료</td>\n",
       "      <td>1</td>\n",
       "      <td>4,500</td>\n",
       "      <td>customer275507</td>\n",
       "      <td>2022-04</td>\n",
       "    </tr>\n",
       "    <tr>\n",
       "      <th>1</th>\n",
       "      <td>2022-04-01 19:41</td>\n",
       "      <td>선불기1</td>\n",
       "      <td>짜장라면(계란추가)</td>\n",
       "      <td>신용카드</td>\n",
       "      <td>결제완료</td>\n",
       "      <td>1</td>\n",
       "      <td>5,500</td>\n",
       "      <td>customer275507</td>\n",
       "      <td>2022-04</td>\n",
       "    </tr>\n",
       "    <tr>\n",
       "      <th>2</th>\n",
       "      <td>2022-04-01 19:41</td>\n",
       "      <td>선불기1</td>\n",
       "      <td>라면</td>\n",
       "      <td>신용카드</td>\n",
       "      <td>결제완료</td>\n",
       "      <td>1</td>\n",
       "      <td>4,000</td>\n",
       "      <td>customer275507</td>\n",
       "      <td>2022-04</td>\n",
       "    </tr>\n",
       "    <tr>\n",
       "      <th>3</th>\n",
       "      <td>2022-04-01 19:41</td>\n",
       "      <td>선불기1</td>\n",
       "      <td>비엔나소세지(토핑)</td>\n",
       "      <td>신용카드</td>\n",
       "      <td>결제완료</td>\n",
       "      <td>1</td>\n",
       "      <td>1,000</td>\n",
       "      <td>customer275507</td>\n",
       "      <td>2022-04</td>\n",
       "    </tr>\n",
       "    <tr>\n",
       "      <th>4</th>\n",
       "      <td>2022-04-01 19:41</td>\n",
       "      <td>선불기1</td>\n",
       "      <td>라면(계란/치즈추가)</td>\n",
       "      <td>신용카드</td>\n",
       "      <td>결제완료</td>\n",
       "      <td>1</td>\n",
       "      <td>5,000</td>\n",
       "      <td>customer275507</td>\n",
       "      <td>2022-04</td>\n",
       "    </tr>\n",
       "    <tr>\n",
       "      <th>...</th>\n",
       "      <td>...</td>\n",
       "      <td>...</td>\n",
       "      <td>...</td>\n",
       "      <td>...</td>\n",
       "      <td>...</td>\n",
       "      <td>...</td>\n",
       "      <td>...</td>\n",
       "      <td>...</td>\n",
       "      <td>...</td>\n",
       "    </tr>\n",
       "    <tr>\n",
       "      <th>7100</th>\n",
       "      <td>2021-02-17 14:21</td>\n",
       "      <td>카운터</td>\n",
       "      <td>아메리카노(HOT)</td>\n",
       "      <td>현금</td>\n",
       "      <td>결제취소</td>\n",
       "      <td>-1</td>\n",
       "      <td>-3,500</td>\n",
       "      <td>NaN</td>\n",
       "      <td>2021-02</td>\n",
       "    </tr>\n",
       "    <tr>\n",
       "      <th>7101</th>\n",
       "      <td>2021-02-17 13:51</td>\n",
       "      <td>선불기2</td>\n",
       "      <td>카페모카(HOT)</td>\n",
       "      <td>신용카드</td>\n",
       "      <td>결제완료</td>\n",
       "      <td>1</td>\n",
       "      <td>4,500</td>\n",
       "      <td>NaN</td>\n",
       "      <td>2021-02</td>\n",
       "    </tr>\n",
       "    <tr>\n",
       "      <th>7102</th>\n",
       "      <td>2021-02-17 13:51</td>\n",
       "      <td>선불기2</td>\n",
       "      <td>카페모카(HOT)</td>\n",
       "      <td>신용카드</td>\n",
       "      <td>판매취소</td>\n",
       "      <td>-1</td>\n",
       "      <td>-4,500</td>\n",
       "      <td>NaN</td>\n",
       "      <td>2021-02</td>\n",
       "    </tr>\n",
       "    <tr>\n",
       "      <th>7103</th>\n",
       "      <td>2021-02-17 13:26</td>\n",
       "      <td>카운터</td>\n",
       "      <td>카페라떼(HOT)</td>\n",
       "      <td>신용카드</td>\n",
       "      <td>결제완료</td>\n",
       "      <td>1</td>\n",
       "      <td>4,000</td>\n",
       "      <td>NaN</td>\n",
       "      <td>2021-02</td>\n",
       "    </tr>\n",
       "    <tr>\n",
       "      <th>7104</th>\n",
       "      <td>2021-02-17 13:27</td>\n",
       "      <td>카운터</td>\n",
       "      <td>카페라떼(HOT)</td>\n",
       "      <td>신용카드</td>\n",
       "      <td>판매취소</td>\n",
       "      <td>-1</td>\n",
       "      <td>-4,000</td>\n",
       "      <td>NaN</td>\n",
       "      <td>2021-02</td>\n",
       "    </tr>\n",
       "  </tbody>\n",
       "</table>\n",
       "<p>7105 rows × 9 columns</p>\n",
       "</div>"
      ],
      "text/plain": [
       "                  결제일시  판매위치          상품명  결제방식    비고  판매수량    결제금액  \\\n",
       "0     2022-04-01 19:41  선불기1   치킨카라아케 6pc  신용카드  결제완료     1   4,500   \n",
       "1     2022-04-01 19:41  선불기1   짜장라면(계란추가)  신용카드  결제완료     1   5,500   \n",
       "2     2022-04-01 19:41  선불기1           라면  신용카드  결제완료     1   4,000   \n",
       "3     2022-04-01 19:41  선불기1   비엔나소세지(토핑)  신용카드  결제완료     1   1,000   \n",
       "4     2022-04-01 19:41  선불기1  라면(계란/치즈추가)  신용카드  결제완료     1   5,000   \n",
       "...                ...   ...          ...   ...   ...   ...     ...   \n",
       "7100  2021-02-17 14:21   카운터   아메리카노(HOT)    현금  결제취소    -1  -3,500   \n",
       "7101  2021-02-17 13:51  선불기2    카페모카(HOT)  신용카드  결제완료     1   4,500   \n",
       "7102  2021-02-17 13:51  선불기2    카페모카(HOT)  신용카드  판매취소    -1  -4,500   \n",
       "7103  2021-02-17 13:26   카운터    카페라떼(HOT)  신용카드  결제완료     1   4,000   \n",
       "7104  2021-02-17 13:27   카운터    카페라떼(HOT)  신용카드  판매취소    -1  -4,000   \n",
       "\n",
       "                  고객     date  \n",
       "0     customer275507  2022-04  \n",
       "1     customer275507  2022-04  \n",
       "2     customer275507  2022-04  \n",
       "3     customer275507  2022-04  \n",
       "4     customer275507  2022-04  \n",
       "...              ...      ...  \n",
       "7100             NaN  2021-02  \n",
       "7101             NaN  2021-02  \n",
       "7102             NaN  2021-02  \n",
       "7103             NaN  2021-02  \n",
       "7104             NaN  2021-02  \n",
       "\n",
       "[7105 rows x 9 columns]"
      ]
     },
     "execution_count": 20,
     "metadata": {},
     "output_type": "execute_result"
    }
   ],
   "source": [
    "# 문제 1: 월별 매출액 추세\n",
    "# 활용할 데이터(sales_data)를 temp_var로 정의하기\n",
    "# [[YOUR CODE]]\n",
    "temp_var = sales_data\n",
    "\n",
    "\n",
    "# temp_var의 date열을 만들고, sales_date의 결제일시 중 앞에서 7번째 값까지 할당\n",
    "# [[YOUR CODE]]\n",
    "temp_var['date'] = sales_data['결제일시'].str[:7]\n",
    "temp_var"
   ]
  },
  {
   "cell_type": "code",
   "execution_count": 21,
   "id": "0e3a7cef",
   "metadata": {
    "executionInfo": {
     "elapsed": 354,
     "status": "ok",
     "timestamp": 1679387349998,
     "user": {
      "displayName": "한기혁",
      "userId": "18343953987471850827"
     },
     "user_tz": -540
    },
    "id": "c92c61ff"
   },
   "outputs": [],
   "source": [
    "# sales_data의 결제금액에 포함된 쉼표(,) 지우기\n",
    "# [[YOUR CODE]]\n",
    "\n",
    "temp_var['결제금액'] = temp_var['결제금액'].replace(',','',regex = True)\n",
    "# sales_data의 결제금액을 숫자형태로 바꾸기\n",
    "# [[YOUR CODE]]\n",
    "temp_var['결제금액'] = temp_var['결제금액'].astype(int)\n",
    "# temp_var의 payment열을 date 기준으로 집계하기\n",
    "# [[YOUR CODE]]\n",
    "payment_data = temp_var['결제금액'].groupby(temp_var['date']).sum()\n",
    "payment_data = payment_data.reset_index()\n"
   ]
  },
  {
   "cell_type": "code",
   "execution_count": 37,
   "id": "fcc08c97",
   "metadata": {
    "colab": {
     "base_uri": "https://localhost:8080/",
     "height": 717
    },
    "executionInfo": {
     "elapsed": 1256,
     "status": "ok",
     "timestamp": 1679387355054,
     "user": {
      "displayName": "한기혁",
      "userId": "18343953987471850827"
     },
     "user_tz": -540
    },
    "id": "594c3ec2",
    "outputId": "a5aef05a-6065-4950-806d-a60a9dd25aa4"
   },
   "outputs": [
    {
     "data": {
      "image/png": "[encoded data removed]",
      "text/plain": [
       "<Figure size 1500x800 with 1 Axes>"
      ]
     },
     "metadata": {},
     "output_type": "display_data"
    }
   ],
   "source": [
    "# 집계 결과를 시각화하기\n",
    "# [[YOUR CODE]]\n",
    "plt.figure(figsize = (15,8))\n",
    "ax = sns.barplot(data=payment_data, x='date', y='결제금액')\n",
    "containers = ax.containers[0]\n",
    "ax.bar_label(containers, labels=[f'{x:,.0f}' for x in containers.datavalues], label_type='center')\n",
    "plt.title('Sales by Months')\n",
    "plt.show()"
   ]
  },
  {
   "cell_type": "code",
   "execution_count": 23,
   "id": "4746ce6f",
   "metadata": {
    "colab": {
     "base_uri": "https://localhost:8080/",
     "height": 363
    },
    "executionInfo": {
     "elapsed": 340,
     "status": "ok",
     "timestamp": 1679386613665,
     "user": {
      "displayName": "한기혁",
      "userId": "18343953987471850827"
     },
     "user_tz": -540
    },
    "id": "cdf22547",
    "outputId": "6b89dcc8-4320-4f30-d2d1-775fe1228369"
   },
   "outputs": [
    {
     "data": {
      "text/html": [
       "<div>\n",
       "<style scoped>\n",
       "    .dataframe tbody tr th:only-of-type {\n",
       "        vertical-align: middle;\n",
       "    }\n",
       "\n",
       "    .dataframe tbody tr th {\n",
       "        vertical-align: top;\n",
       "    }\n",
       "\n",
       "    .dataframe thead th {\n",
       "        text-align: right;\n",
       "    }\n",
       "</style>\n",
       "<table border=\"1\" class=\"dataframe\">\n",
       "  <thead>\n",
       "    <tr style=\"text-align: right;\">\n",
       "      <th></th>\n",
       "      <th>상품명</th>\n",
       "      <th>판매수량</th>\n",
       "    </tr>\n",
       "  </thead>\n",
       "  <tbody>\n",
       "    <tr>\n",
       "      <th>0</th>\n",
       "      <td>김치볶음밥</td>\n",
       "      <td>1204</td>\n",
       "    </tr>\n",
       "    <tr>\n",
       "      <th>1</th>\n",
       "      <td>라면</td>\n",
       "      <td>749</td>\n",
       "    </tr>\n",
       "    <tr>\n",
       "      <th>2</th>\n",
       "      <td>짜장라면</td>\n",
       "      <td>455</td>\n",
       "    </tr>\n",
       "    <tr>\n",
       "      <th>3</th>\n",
       "      <td>치즈불고기볶음밥</td>\n",
       "      <td>420</td>\n",
       "    </tr>\n",
       "    <tr>\n",
       "      <th>4</th>\n",
       "      <td>계란추가</td>\n",
       "      <td>314</td>\n",
       "    </tr>\n",
       "    <tr>\n",
       "      <th>5</th>\n",
       "      <td>낙지볶음밥</td>\n",
       "      <td>312</td>\n",
       "    </tr>\n",
       "    <tr>\n",
       "      <th>6</th>\n",
       "      <td>새우볶음밥</td>\n",
       "      <td>309</td>\n",
       "    </tr>\n",
       "    <tr>\n",
       "      <th>7</th>\n",
       "      <td>아메리카노(ICE)</td>\n",
       "      <td>284</td>\n",
       "    </tr>\n",
       "    <tr>\n",
       "      <th>8</th>\n",
       "      <td>치즈감자튀김</td>\n",
       "      <td>246</td>\n",
       "    </tr>\n",
       "    <tr>\n",
       "      <th>9</th>\n",
       "      <td>감자튀김</td>\n",
       "      <td>242</td>\n",
       "    </tr>\n",
       "  </tbody>\n",
       "</table>\n",
       "</div>"
      ],
      "text/plain": [
       "          상품명  판매수량\n",
       "0       김치볶음밥  1204\n",
       "1          라면   749\n",
       "2        짜장라면   455\n",
       "3    치즈불고기볶음밥   420\n",
       "4        계란추가   314\n",
       "5       낙지볶음밥   312\n",
       "6       새우볶음밥   309\n",
       "7  아메리카노(ICE)   284\n",
       "8      치즈감자튀김   246\n",
       "9        감자튀김   242"
      ]
     },
     "execution_count": 23,
     "metadata": {},
     "output_type": "execute_result"
    }
   ],
   "source": [
    "# 문제 2: 가장 인기 있는 음식/음료\n",
    "# temp_var의 상품명을 value_counts를 이용해 집계하기\n",
    "# 주의! value_counts로 바로 집계하면 판매취소와 결제취소가 함께 집계됩니다.\n",
    "# 따라서 '판매수량' 칼럼 값이 '-1'인 데이터를 제외하고 집계해야 합니다.\n",
    "# 힌트 코드 : temp_var[temp_var['판매수량']==-1]\n",
    "# [[YOUR CODE]]\n",
    "temp_var_sales = temp_var[temp_var['판매수량'] != -1]\n",
    "popular_items = temp_var_sales['상품명'].value_counts()\n",
    "\n",
    "# 집계 결과를 데이터프레임으로 변환하고, 상위 10개 선정하기\n",
    "# [[YOUR CODE]]\n",
    "items_count=popular_items.reset_index().rename(columns={'index':'상품명','상품명':'판매수량'})\n",
    "items_count.head(10)"
   ]
  },
  {
   "cell_type": "code",
   "execution_count": 38,
   "id": "7b84f80a",
   "metadata": {
    "colab": {
     "base_uri": "https://localhost:8080/",
     "height": 717
    },
    "executionInfo": {
     "elapsed": 674,
     "status": "ok",
     "timestamp": 1679386616293,
     "user": {
      "displayName": "한기혁",
      "userId": "18343953987471850827"
     },
     "user_tz": -540
    },
    "id": "10f86189",
    "outputId": "0e3abebb-4308-45ee-b1e6-33e96795962c"
   },
   "outputs": [
    {
     "data": {
      "image/png": "[encoded data removed]",
      "text/plain": [
       "<Figure size 1500x800 with 1 Axes>"
      ]
     },
     "metadata": {},
     "output_type": "display_data"
    }
   ],
   "source": [
    "# 집계 결과를 시각화하기\n",
    "# [[YOUR CODE]]\n",
    "plt.figure(figsize = (15,8))\n",
    "ax = sns.barplot(data=items_count.head(10), x='상품명', y='판매수량')\n",
    "containers = ax.containers[0]\n",
    "ax.bar_label(containers, labels=[f'{x:,.0f}' for x in containers.datavalues], label_type='center')\n",
    "plt.title('상품별 판매수량 TOP 10')\n",
    "plt.show()"
   ]
  },
  {
   "cell_type": "code",
   "execution_count": 25,
   "id": "6b9c2d26",
   "metadata": {
    "colab": {
     "base_uri": "https://localhost:8080/",
     "height": 363
    },
    "executionInfo": {
     "elapsed": 38,
     "status": "ok",
     "timestamp": 1679386619335,
     "user": {
      "displayName": "한기혁",
      "userId": "18343953987471850827"
     },
     "user_tz": -540
    },
    "id": "032bc911",
    "outputId": "adb0c57e-47c8-41e9-e26a-6125ab3cae2c"
   },
   "outputs": [
    {
     "data": {
      "text/html": [
       "<div>\n",
       "<style scoped>\n",
       "    .dataframe tbody tr th:only-of-type {\n",
       "        vertical-align: middle;\n",
       "    }\n",
       "\n",
       "    .dataframe tbody tr th {\n",
       "        vertical-align: top;\n",
       "    }\n",
       "\n",
       "    .dataframe thead th {\n",
       "        text-align: right;\n",
       "    }\n",
       "</style>\n",
       "<table border=\"1\" class=\"dataframe\">\n",
       "  <thead>\n",
       "    <tr style=\"text-align: right;\">\n",
       "      <th></th>\n",
       "      <th>상품명</th>\n",
       "      <th>매출</th>\n",
       "    </tr>\n",
       "  </thead>\n",
       "  <tbody>\n",
       "    <tr>\n",
       "      <th>0</th>\n",
       "      <td>김치볶음밥</td>\n",
       "      <td>6004400</td>\n",
       "    </tr>\n",
       "    <tr>\n",
       "      <th>1</th>\n",
       "      <td>라면</td>\n",
       "      <td>2941500</td>\n",
       "    </tr>\n",
       "    <tr>\n",
       "      <th>2</th>\n",
       "      <td>치즈불고기볶음밥</td>\n",
       "      <td>2292600</td>\n",
       "    </tr>\n",
       "    <tr>\n",
       "      <th>3</th>\n",
       "      <td>짜장라면</td>\n",
       "      <td>2038500</td>\n",
       "    </tr>\n",
       "    <tr>\n",
       "      <th>4</th>\n",
       "      <td>낙지볶음밥</td>\n",
       "      <td>1710700</td>\n",
       "    </tr>\n",
       "    <tr>\n",
       "      <th>5</th>\n",
       "      <td>새우볶음밥</td>\n",
       "      <td>1539800</td>\n",
       "    </tr>\n",
       "    <tr>\n",
       "      <th>6</th>\n",
       "      <td>치즈감자튀김</td>\n",
       "      <td>1354200</td>\n",
       "    </tr>\n",
       "    <tr>\n",
       "      <th>7</th>\n",
       "      <td>감자튀김</td>\n",
       "      <td>1083800</td>\n",
       "    </tr>\n",
       "    <tr>\n",
       "      <th>8</th>\n",
       "      <td>아메리카노(ICE)</td>\n",
       "      <td>1058100</td>\n",
       "    </tr>\n",
       "    <tr>\n",
       "      <th>9</th>\n",
       "      <td>불닭볶음면</td>\n",
       "      <td>693000</td>\n",
       "    </tr>\n",
       "  </tbody>\n",
       "</table>\n",
       "</div>"
      ],
      "text/plain": [
       "          상품명       매출\n",
       "0       김치볶음밥  6004400\n",
       "1          라면  2941500\n",
       "2    치즈불고기볶음밥  2292600\n",
       "3        짜장라면  2038500\n",
       "4       낙지볶음밥  1710700\n",
       "5       새우볶음밥  1539800\n",
       "6      치즈감자튀김  1354200\n",
       "7        감자튀김  1083800\n",
       "8  아메리카노(ICE)  1058100\n",
       "9       불닭볶음면   693000"
      ]
     },
     "execution_count": 25,
     "metadata": {},
     "output_type": "execute_result"
    }
   ],
   "source": [
    "# temp_var의 payment열을 상품명을 기준으로 집계하기\n",
    "# [[YOUR CODE]]\n",
    "items_payment = temp_var_sales['결제금액'].groupby(temp_var_sales['상품명']).sum()\n",
    "\n",
    "\n",
    "# item_payment의 값을 내림차순으로 정렬하고 상위 10개 도출하기\n",
    "# [[YOUR CODE]]\n",
    "items_payment = items_payment.sort_values(ascending=False)\n",
    "items_payment = items_payment.reset_index().rename(columns={'결제금액':'매출'})\n",
    "items_payment.head(10)\n"
   ]
  },
  {
   "cell_type": "code",
   "execution_count": 39,
   "id": "59264d28",
   "metadata": {
    "colab": {
     "base_uri": "https://localhost:8080/",
     "height": 717
    },
    "executionInfo": {
     "elapsed": 1845,
     "status": "ok",
     "timestamp": 1679386629549,
     "user": {
      "displayName": "한기혁",
      "userId": "18343953987471850827"
     },
     "user_tz": -540
    },
    "id": "43a24a18",
    "outputId": "a1997c83-34f4-4ace-a72c-01e02fb449e0"
   },
   "outputs": [
    {
     "data": {
      "image/png": "[encoded data removed]",
      "text/plain": [
       "<Figure size 1500x800 with 1 Axes>"
      ]
     },
     "metadata": {},
     "output_type": "display_data"
    }
   ],
   "source": [
    "# 집계 결과 시각화하기\n",
    "# [[YOUR CODE]]\n",
    "plt.figure(figsize = (15,8))\n",
    "ax = sns.barplot(data=items_payment.head(10), x='상품명', y='매출')\n",
    "containers = ax.containers[0]\n",
    "ax.bar_label(containers, labels=[f'{x:,.0f}' for x in containers.datavalues], label_type='center')\n",
    "plt.title('상품별 매출 TOP 10')\n",
    "plt.show()"
   ]
  },
  {
   "cell_type": "code",
   "execution_count": 27,
   "id": "c127cdea",
   "metadata": {
    "colab": {
     "base_uri": "https://localhost:8080/",
     "height": 363
    },
    "executionInfo": {
     "elapsed": 15,
     "status": "ok",
     "timestamp": 1679386631330,
     "user": {
      "displayName": "한기혁",
      "userId": "18343953987471850827"
     },
     "user_tz": -540
    },
    "id": "2ea2568b",
    "outputId": "317f2d29-1d91-4225-8a6e-7415feb68abe"
   },
   "outputs": [
    {
     "data": {
      "text/html": [
       "<div>\n",
       "<style scoped>\n",
       "    .dataframe tbody tr th:only-of-type {\n",
       "        vertical-align: middle;\n",
       "    }\n",
       "\n",
       "    .dataframe tbody tr th {\n",
       "        vertical-align: top;\n",
       "    }\n",
       "\n",
       "    .dataframe thead th {\n",
       "        text-align: right;\n",
       "    }\n",
       "</style>\n",
       "<table border=\"1\" class=\"dataframe\">\n",
       "  <thead>\n",
       "    <tr style=\"text-align: right;\">\n",
       "      <th></th>\n",
       "      <th>요금제명</th>\n",
       "      <th>매출</th>\n",
       "    </tr>\n",
       "  </thead>\n",
       "  <tbody>\n",
       "    <tr>\n",
       "      <th>0</th>\n",
       "      <td>한국대생 입장권(종일권)</td>\n",
       "      <td>70037000</td>\n",
       "    </tr>\n",
       "    <tr>\n",
       "      <th>1</th>\n",
       "      <td>입장권(종일권)</td>\n",
       "      <td>23570500</td>\n",
       "    </tr>\n",
       "    <tr>\n",
       "      <th>2</th>\n",
       "      <td>심야-조조무제한(06시까지)</td>\n",
       "      <td>11600000</td>\n",
       "    </tr>\n",
       "    <tr>\n",
       "      <th>3</th>\n",
       "      <td>심야-조조무제한</td>\n",
       "      <td>6221000</td>\n",
       "    </tr>\n",
       "    <tr>\n",
       "      <th>4</th>\n",
       "      <td>한국대생 무제한 입장권</td>\n",
       "      <td>5207500</td>\n",
       "    </tr>\n",
       "    <tr>\n",
       "      <th>5</th>\n",
       "      <td>시간요금제(1시간)</td>\n",
       "      <td>2665500</td>\n",
       "    </tr>\n",
       "    <tr>\n",
       "      <th>6</th>\n",
       "      <td>시간요금제(3시간)</td>\n",
       "      <td>2042000</td>\n",
       "    </tr>\n",
       "    <tr>\n",
       "      <th>7</th>\n",
       "      <td>무제한 입장권</td>\n",
       "      <td>1568600</td>\n",
       "    </tr>\n",
       "    <tr>\n",
       "      <th>8</th>\n",
       "      <td>18시이후 무제한</td>\n",
       "      <td>1330500</td>\n",
       "    </tr>\n",
       "    <tr>\n",
       "      <th>9</th>\n",
       "      <td>조조무제한</td>\n",
       "      <td>693000</td>\n",
       "    </tr>\n",
       "  </tbody>\n",
       "</table>\n",
       "</div>"
      ],
      "text/plain": [
       "              요금제명        매출\n",
       "0    한국대생 입장권(종일권)  70037000\n",
       "1         입장권(종일권)  23570500\n",
       "2  심야-조조무제한(06시까지)  11600000\n",
       "3         심야-조조무제한   6221000\n",
       "4     한국대생 무제한 입장권   5207500\n",
       "5       시간요금제(1시간)   2665500\n",
       "6       시간요금제(3시간)   2042000\n",
       "7          무제한 입장권   1568600\n",
       "8        18시이후 무제한   1330500\n",
       "9            조조무제한    693000"
      ]
     },
     "execution_count": 27,
     "metadata": {},
     "output_type": "execute_result"
    }
   ],
   "source": [
    "# 문제 3: 가장 많이 팔린 입장권 종류\n",
    "# 활용할 데이터(entry_data)를 temp_var로 정의하기\n",
    "# [[YOUR CODE]]\n",
    "temp_var = entry_data\n",
    "# temp_var의 금액을 숫자형태로 변환하기\n",
    "# [[YOUR CODE]]\n",
    "temp_var['금액'] = temp_var['금액'].astype(int)\n",
    "\n",
    "# temp_var의 금액을 요금제명을 기준으로 집계하기\n",
    "# [[YOUR CODE]]\n",
    "tickets = temp_var['금액'].groupby(temp_var['요금제명']).sum()\n",
    "\n",
    "# tickets의 값을 내림차순으로 정렬하고 상위 10개 도출하기\n",
    "# [[YOUR CODE]]\n",
    "tickets = tickets.sort_values(ascending=False)\n",
    "tickets = tickets.reset_index().rename(columns={'금액':'매출'})\n",
    "tickets.head(10)\n"
   ]
  },
  {
   "cell_type": "code",
   "execution_count": 40,
   "id": "cf311e16",
   "metadata": {
    "colab": {
     "base_uri": "https://localhost:8080/",
     "height": 717
    },
    "executionInfo": {
     "elapsed": 1247,
     "status": "ok",
     "timestamp": 1679386634604,
     "user": {
      "displayName": "한기혁",
      "userId": "18343953987471850827"
     },
     "user_tz": -540
    },
    "id": "03983d04",
    "outputId": "15390573-350c-4695-cc26-4d4894b630c2"
   },
   "outputs": [
    {
     "data": {
      "image/png": "[encoded data removed]",
      "text/plain": [
       "<Figure size 1500x800 with 1 Axes>"
      ]
     },
     "metadata": {},
     "output_type": "display_data"
    }
   ],
   "source": [
    "# 집계 결과 시각화하기\n",
    "# [[YOUR CODE]]\n",
    "plt.figure(figsize = (15,8))\n",
    "ax = sns.barplot(data=tickets.head(10), x='요금제명', y='매출')\n",
    "containers = ax.containers[0]\n",
    "ax.bar_label(containers, labels=[f'{x:,.0f}' for x in containers.datavalues], label_type='center')\n",
    "plt.title('요금제별 매출 TOP 10')\n",
    "plt.show()"
   ]
  },
  {
   "cell_type": "code",
   "execution_count": 29,
   "id": "b1ea901e",
   "metadata": {
    "colab": {
     "base_uri": "https://localhost:8080/"
    },
    "executionInfo": {
     "elapsed": 5,
     "status": "ok",
     "timestamp": 1679386635355,
     "user": {
      "displayName": "한기혁",
      "userId": "18343953987471850827"
     },
     "user_tz": -540
    },
    "id": "tNZhnMZn_eCB",
    "outputId": "ca2c03b7-fd52-441f-9ca7-4ada2c1d3197"
   },
   "outputs": [
    {
     "data": {
      "text/plain": [
       "date\n",
       "2021-02      292800\n",
       "2021-03     9831500\n",
       "2021-04    16440000\n",
       "2021-05    15073500\n",
       "2021-06    15856500\n",
       "2021-07     4783000\n",
       "2021-08     3837000\n",
       "2021-09     3815000\n",
       "2021-10     9202500\n",
       "2021-11    15157000\n",
       "2021-12    13093000\n",
       "2022-01     4815500\n",
       "2022-02     4024500\n",
       "2022-03     8821000\n",
       "2022-04      330600\n",
       "Name: 금액, dtype: int64"
      ]
     },
     "execution_count": 29,
     "metadata": {},
     "output_type": "execute_result"
    }
   ],
   "source": [
    "# 문제 4: 월별 입장권 매출액 추세\n",
    "#활용할 데이터(entry_data)를 temp_var로 정의하기\n",
    "temp_var = entry_data\n",
    "\n",
    "# temp_var의 date열을 만들고, entry_data의 입실 중 앞에서 7번째 값까지 할당\n",
    "temp_var['date'] = entry_data['입실'].str[:7]\n",
    "\n",
    "# '금액' 칼럼 값이 '0'인 데이터를 제외하고, entry_data의 금액열을 date 기준으로 집계하기\n",
    "temp_var = temp_var[temp_var['금액'] != 0]\n",
    "tickets_payment_data = temp_var['금액'].groupby(temp_var['date']).sum()\n",
    "tickets_payment_data"
   ]
  },
  {
   "cell_type": "code",
   "execution_count": 30,
   "id": "db84e624",
   "metadata": {
    "colab": {
     "base_uri": "https://localhost:8080/"
    },
    "executionInfo": {
     "elapsed": 384,
     "status": "ok",
     "timestamp": 1679386637737,
     "user": {
      "displayName": "한기혁",
      "userId": "18343953987471850827"
     },
     "user_tz": -540
    },
    "id": "DOqpe6ZI_ip3",
    "outputId": "fb777f25-b5dc-4c79-ace5-6365d04be1a9"
   },
   "outputs": [
    {
     "data": {
      "text/plain": [
       "date\n",
       "2021-03     9831500\n",
       "2021-04    16440000\n",
       "2021-05    15073500\n",
       "2021-06    15856500\n",
       "2021-07     4783000\n",
       "2021-08     3837000\n",
       "2021-09     3815000\n",
       "2021-10     9202500\n",
       "2021-11    15157000\n",
       "2021-12    13093000\n",
       "2022-01     4815500\n",
       "2022-02     4024500\n",
       "2022-03     8821000\n",
       "Name: 금액, dtype: int64"
      ]
     },
     "execution_count": 30,
     "metadata": {},
     "output_type": "execute_result"
    }
   ],
   "source": [
    "# 이상치 제거하기\n",
    "tickets_payment_data = tickets_payment_data.drop(['2021-02', '2022-04'])\n",
    "tickets_payment_data\n",
    "\n"
   ]
  },
  {
   "cell_type": "code",
   "execution_count": 41,
   "id": "f35811a7",
   "metadata": {
    "colab": {
     "base_uri": "https://localhost:8080/",
     "height": 717
    },
    "executionInfo": {
     "elapsed": 658,
     "status": "ok",
     "timestamp": 1679386640175,
     "user": {
      "displayName": "한기혁",
      "userId": "18343953987471850827"
     },
     "user_tz": -540
    },
    "id": "AuUmZJ4H_maQ",
    "outputId": "8c79ea7b-940f-4c83-f258-631cfdccc77e"
   },
   "outputs": [
    {
     "data": {
      "image/png": "[encoded data removed]",
      "text/plain": [
       "<Figure size 1500x800 with 1 Axes>"
      ]
     },
     "metadata": {},
     "output_type": "display_data"
    }
   ],
   "source": [
    "# 집계 결과를 시각화하기\n",
    "# barplot은 데이터 프레임으로만 만들 수 있다. 시리즈는 불가능하다.\n",
    "\n",
    "tickets_payment_data = tickets_payment_data.reset_index().copy()\n",
    "tickets_payment_data\n",
    "plt.figure(figsize = (15,8))\n",
    "ax = sns.barplot(data=tickets_payment_data, x= 'date' , y= '금액')\n",
    "containers = ax.containers[0]\n",
    "ax.bar_label(containers, labels=[f'{x:,.0f}' for x in containers.datavalues], label_type='center')\n",
    "plt.title('월별 입장권 매출액')\n",
    "plt.show()"
   ]
  },
  {
   "cell_type": "code",
   "execution_count": 32,
   "id": "0068c511",
   "metadata": {
    "colab": {
     "base_uri": "https://localhost:8080/",
     "height": 457
    },
    "executionInfo": {
     "elapsed": 1004,
     "status": "ok",
     "timestamp": 1679387389852,
     "user": {
      "displayName": "한기혁",
      "userId": "18343953987471850827"
     },
     "user_tz": -540
    },
    "id": "OeLFBYd9OHVh",
    "outputId": "8e963efa-cf79-4eee-8fe6-24cf40400f78"
   },
   "outputs": [
    {
     "data": {
      "text/html": [
       "<div>\n",
       "<style scoped>\n",
       "    .dataframe tbody tr th:only-of-type {\n",
       "        vertical-align: middle;\n",
       "    }\n",
       "\n",
       "    .dataframe tbody tr th {\n",
       "        vertical-align: top;\n",
       "    }\n",
       "\n",
       "    .dataframe thead th {\n",
       "        text-align: right;\n",
       "    }\n",
       "</style>\n",
       "<table border=\"1\" class=\"dataframe\">\n",
       "  <thead>\n",
       "    <tr style=\"text-align: right;\">\n",
       "      <th></th>\n",
       "      <th>date</th>\n",
       "      <th>금액</th>\n",
       "    </tr>\n",
       "  </thead>\n",
       "  <tbody>\n",
       "    <tr>\n",
       "      <th>0</th>\n",
       "      <td>2021-03</td>\n",
       "      <td>9831500</td>\n",
       "    </tr>\n",
       "    <tr>\n",
       "      <th>1</th>\n",
       "      <td>2021-04</td>\n",
       "      <td>16440000</td>\n",
       "    </tr>\n",
       "    <tr>\n",
       "      <th>2</th>\n",
       "      <td>2021-05</td>\n",
       "      <td>15073500</td>\n",
       "    </tr>\n",
       "    <tr>\n",
       "      <th>3</th>\n",
       "      <td>2021-06</td>\n",
       "      <td>15856500</td>\n",
       "    </tr>\n",
       "    <tr>\n",
       "      <th>4</th>\n",
       "      <td>2021-07</td>\n",
       "      <td>4783000</td>\n",
       "    </tr>\n",
       "    <tr>\n",
       "      <th>5</th>\n",
       "      <td>2021-08</td>\n",
       "      <td>3837000</td>\n",
       "    </tr>\n",
       "    <tr>\n",
       "      <th>6</th>\n",
       "      <td>2021-09</td>\n",
       "      <td>3815000</td>\n",
       "    </tr>\n",
       "    <tr>\n",
       "      <th>7</th>\n",
       "      <td>2021-10</td>\n",
       "      <td>9202500</td>\n",
       "    </tr>\n",
       "    <tr>\n",
       "      <th>8</th>\n",
       "      <td>2021-11</td>\n",
       "      <td>15157000</td>\n",
       "    </tr>\n",
       "    <tr>\n",
       "      <th>9</th>\n",
       "      <td>2021-12</td>\n",
       "      <td>13093000</td>\n",
       "    </tr>\n",
       "    <tr>\n",
       "      <th>10</th>\n",
       "      <td>2022-01</td>\n",
       "      <td>4815500</td>\n",
       "    </tr>\n",
       "    <tr>\n",
       "      <th>11</th>\n",
       "      <td>2022-02</td>\n",
       "      <td>4024500</td>\n",
       "    </tr>\n",
       "    <tr>\n",
       "      <th>12</th>\n",
       "      <td>2022-03</td>\n",
       "      <td>8821000</td>\n",
       "    </tr>\n",
       "  </tbody>\n",
       "</table>\n",
       "</div>"
      ],
      "text/plain": [
       "       date        금액\n",
       "0   2021-03   9831500\n",
       "1   2021-04  16440000\n",
       "2   2021-05  15073500\n",
       "3   2021-06  15856500\n",
       "4   2021-07   4783000\n",
       "5   2021-08   3837000\n",
       "6   2021-09   3815000\n",
       "7   2021-10   9202500\n",
       "8   2021-11  15157000\n",
       "9   2021-12  13093000\n",
       "10  2022-01   4815500\n",
       "11  2022-02   4024500\n",
       "12  2022-03   8821000"
      ]
     },
     "execution_count": 32,
     "metadata": {},
     "output_type": "execute_result"
    }
   ],
   "source": [
    "tickets_payment_data"
   ]
  },
  {
   "cell_type": "code",
   "execution_count": 33,
   "id": "5bd2f6e3",
   "metadata": {
    "colab": {
     "base_uri": "https://localhost:8080/",
     "height": 520
    },
    "executionInfo": {
     "elapsed": 9,
     "status": "ok",
     "timestamp": 1679387394386,
     "user": {
      "displayName": "한기혁",
      "userId": "18343953987471850827"
     },
     "user_tz": -540
    },
    "id": "68cVgXzcOHbQ",
    "outputId": "6464c618-ed48-4398-fca2-a2f5c3284d00"
   },
   "outputs": [
    {
     "data": {
      "text/html": [
       "<div>\n",
       "<style scoped>\n",
       "    .dataframe tbody tr th:only-of-type {\n",
       "        vertical-align: middle;\n",
       "    }\n",
       "\n",
       "    .dataframe tbody tr th {\n",
       "        vertical-align: top;\n",
       "    }\n",
       "\n",
       "    .dataframe thead th {\n",
       "        text-align: right;\n",
       "    }\n",
       "</style>\n",
       "<table border=\"1\" class=\"dataframe\">\n",
       "  <thead>\n",
       "    <tr style=\"text-align: right;\">\n",
       "      <th></th>\n",
       "      <th>date</th>\n",
       "      <th>결제금액</th>\n",
       "    </tr>\n",
       "  </thead>\n",
       "  <tbody>\n",
       "    <tr>\n",
       "      <th>0</th>\n",
       "      <td>2021-02</td>\n",
       "      <td>7000</td>\n",
       "    </tr>\n",
       "    <tr>\n",
       "      <th>1</th>\n",
       "      <td>2021-03</td>\n",
       "      <td>2104500</td>\n",
       "    </tr>\n",
       "    <tr>\n",
       "      <th>2</th>\n",
       "      <td>2021-04</td>\n",
       "      <td>3116600</td>\n",
       "    </tr>\n",
       "    <tr>\n",
       "      <th>3</th>\n",
       "      <td>2021-05</td>\n",
       "      <td>2537000</td>\n",
       "    </tr>\n",
       "    <tr>\n",
       "      <th>4</th>\n",
       "      <td>2021-06</td>\n",
       "      <td>3621500</td>\n",
       "    </tr>\n",
       "    <tr>\n",
       "      <th>5</th>\n",
       "      <td>2021-07</td>\n",
       "      <td>1215000</td>\n",
       "    </tr>\n",
       "    <tr>\n",
       "      <th>6</th>\n",
       "      <td>2021-08</td>\n",
       "      <td>1229000</td>\n",
       "    </tr>\n",
       "    <tr>\n",
       "      <th>7</th>\n",
       "      <td>2021-09</td>\n",
       "      <td>1197500</td>\n",
       "    </tr>\n",
       "    <tr>\n",
       "      <th>8</th>\n",
       "      <td>2021-10</td>\n",
       "      <td>2138500</td>\n",
       "    </tr>\n",
       "    <tr>\n",
       "      <th>9</th>\n",
       "      <td>2021-11</td>\n",
       "      <td>2748500</td>\n",
       "    </tr>\n",
       "    <tr>\n",
       "      <th>10</th>\n",
       "      <td>2021-12</td>\n",
       "      <td>3290000</td>\n",
       "    </tr>\n",
       "    <tr>\n",
       "      <th>11</th>\n",
       "      <td>2022-01</td>\n",
       "      <td>1430500</td>\n",
       "    </tr>\n",
       "    <tr>\n",
       "      <th>12</th>\n",
       "      <td>2022-02</td>\n",
       "      <td>1181500</td>\n",
       "    </tr>\n",
       "    <tr>\n",
       "      <th>13</th>\n",
       "      <td>2022-03</td>\n",
       "      <td>1870900</td>\n",
       "    </tr>\n",
       "    <tr>\n",
       "      <th>14</th>\n",
       "      <td>2022-04</td>\n",
       "      <td>49900</td>\n",
       "    </tr>\n",
       "  </tbody>\n",
       "</table>\n",
       "</div>"
      ],
      "text/plain": [
       "       date     결제금액\n",
       "0   2021-02     7000\n",
       "1   2021-03  2104500\n",
       "2   2021-04  3116600\n",
       "3   2021-05  2537000\n",
       "4   2021-06  3621500\n",
       "5   2021-07  1215000\n",
       "6   2021-08  1229000\n",
       "7   2021-09  1197500\n",
       "8   2021-10  2138500\n",
       "9   2021-11  2748500\n",
       "10  2021-12  3290000\n",
       "11  2022-01  1430500\n",
       "12  2022-02  1181500\n",
       "13  2022-03  1870900\n",
       "14  2022-04    49900"
      ]
     },
     "execution_count": 33,
     "metadata": {},
     "output_type": "execute_result"
    }
   ],
   "source": [
    "\n",
    "payment_data"
   ]
  },
  {
   "cell_type": "code",
   "execution_count": 51,
   "id": "1962d3c4",
   "metadata": {
    "executionInfo": {
     "elapsed": 288,
     "status": "ok",
     "timestamp": 1679389618298,
     "user": {
      "displayName": "한기혁",
      "userId": "18343953987471850827"
     },
     "user_tz": -540
    },
    "id": "Wp5FCP6ZSiyY"
   },
   "outputs": [],
   "source": [
    "#squeeze() 를 통해 시리즈로 만들어 barplot 만들기\n",
    "payment_data = payment_data.set_index('date')['결제금액'].squeeze()\n",
    "tickets_payment_data = tickets_payment_data.set_index('date')['금액'].squeeze()"
   ]
  },
  {
   "cell_type": "code",
   "execution_count": 47,
   "id": "23042942",
   "metadata": {
    "colab": {
     "base_uri": "https://localhost:8080/",
     "height": 327
    },
    "executionInfo": {
     "elapsed": 330,
     "status": "error",
     "timestamp": 1679389470677,
     "user": {
      "displayName": "한기혁",
      "userId": "18343953987471850827"
     },
     "user_tz": -540
    },
    "id": "3reOXuKwTR1r",
    "outputId": "93e3a5fe-4475-49e5-cba8-c63d934b840b"
   },
   "outputs": [],
   "source": [
    "payment_data=payment_data.drop(['2021-02','2022-04']) #민주님과 다르게 나는 이상치를 제거하지 않았었기에, 행 수를 맞추기 위해 제거해줬다."
   ]
  },
  {
   "cell_type": "code",
   "execution_count": 48,
   "id": "de4d3631",
   "metadata": {},
   "outputs": [
    {
     "data": {
      "text/plain": [
       "date\n",
       "2021-03    2104500\n",
       "2021-04    3116600\n",
       "2021-05    2537000\n",
       "2021-06    3621500\n",
       "2021-07    1215000\n",
       "2021-08    1229000\n",
       "2021-09    1197500\n",
       "2021-10    2138500\n",
       "2021-11    2748500\n",
       "2021-12    3290000\n",
       "2022-01    1430500\n",
       "2022-02    1181500\n",
       "2022-03    1870900\n",
       "Name: 결제금액, dtype: int64"
      ]
     },
     "execution_count": 48,
     "metadata": {},
     "output_type": "execute_result"
    }
   ],
   "source": [
    "payment_data"
   ]
  },
  {
   "cell_type": "code",
   "execution_count": 52,
   "id": "de2f6950",
   "metadata": {},
   "outputs": [
    {
     "data": {
      "text/plain": [
       "date\n",
       "2021-03     9831500\n",
       "2021-04    16440000\n",
       "2021-05    15073500\n",
       "2021-06    15856500\n",
       "2021-07     4783000\n",
       "2021-08     3837000\n",
       "2021-09     3815000\n",
       "2021-10     9202500\n",
       "2021-11    15157000\n",
       "2021-12    13093000\n",
       "2022-01     4815500\n",
       "2022-02     4024500\n",
       "2022-03     8821000\n",
       "Name: 금액, dtype: int64"
      ]
     },
     "execution_count": 52,
     "metadata": {},
     "output_type": "execute_result"
    }
   ],
   "source": [
    "tickets_payment_data"
   ]
  },
  {
   "cell_type": "code",
   "execution_count": 53,
   "id": "f5dc2419",
   "metadata": {
    "colab": {
     "base_uri": "https://localhost:8080/",
     "height": 753
    },
    "executionInfo": {
     "elapsed": 1129,
     "status": "ok",
     "timestamp": 1679390042646,
     "user": {
      "displayName": "한기혁",
      "userId": "18343953987471850827"
     },
     "user_tz": -540
    },
    "id": "Xl1dYYsvCxlT",
    "outputId": "c0206307-fbb8-4e5f-df85-ae8829942a66"
   },
   "outputs": [
    {
     "data": {
      "image/png": "[encoded data removed]",
      "text/plain": [
       "<Figure size 1500x800 with 1 Axes>"
      ]
     },
     "metadata": {},
     "output_type": "display_data"
    }
   ],
   "source": [
    "#월별 입장권과 상품 매출 합치기 (누적 막대 그래프 )\n",
    "\n",
    "plt.figure(figsize=(15,8))\n",
    "\n",
    "sns.barplot(x=tickets_payment_data.index, y=tickets_payment_data, color='lightblue')\n",
    "sns.barplot(x=payment_data.index, y=payment_data, color='pink', bottom=tickets_payment_data)\n",
    "\n",
    "plt.title('전체 매출액')\n",
    "plt.xticks(rotation=45)\n",
    "plt.xlabel('Month')\n",
    "plt.ylabel('Sales')\n",
    "\n",
    "plt.show()\n"
   ]
  },
  {
   "cell_type": "code",
   "execution_count": 54,
   "id": "2b4b55c8",
   "metadata": {
    "colab": {
     "base_uri": "https://localhost:8080/"
    },
    "executionInfo": {
     "elapsed": 596,
     "status": "ok",
     "timestamp": 1679382808629,
     "user": {
      "displayName": "한기혁",
      "userId": "18343953987471850827"
     },
     "user_tz": -540
    },
    "id": "bUEQ19KmhzqJ",
    "outputId": "2f15c997-5c67-424a-fafd-6b1376a2ae76"
   },
   "outputs": [
    {
     "name": "stdout",
     "output_type": "stream",
     "text": [
      "5404\n",
      "1973\n"
     ]
    }
   ],
   "source": [
    "#중복 없는 고객 수\n",
    "print(len(entry_data['고객'].unique()))\n",
    "print(len(sales_data['고객'].unique()))"
   ]
  },
  {
   "cell_type": "code",
   "execution_count": 55,
   "id": "ccc5b353",
   "metadata": {
    "colab": {
     "base_uri": "https://localhost:8080/"
    },
    "executionInfo": {
     "elapsed": 511,
     "status": "ok",
     "timestamp": 1679382809593,
     "user": {
      "displayName": "한기혁",
      "userId": "18343953987471850827"
     },
     "user_tz": -540
    },
    "id": "C0gF7i_giraU",
    "outputId": "4a321da2-f0de-4773-ee5c-38d3c9bfc25e"
   },
   "outputs": [
    {
     "name": "stdout",
     "output_type": "stream",
     "text": [
      "<class 'pandas.core.frame.DataFrame'>\n",
      "Int64Index: 10064 entries, 0 to 66831\n",
      "Data columns (total 21 columns):\n",
      " #   Column    Non-Null Count  Dtype          \n",
      "---  ------    --------------  -----          \n",
      " 0   요금제명      9971 non-null   object         \n",
      " 1   입실        10064 non-null  object         \n",
      " 2   퇴실        10064 non-null  object         \n",
      " 3   이용        10050 non-null  object         \n",
      " 4   위치        10064 non-null  object         \n",
      " 5   금액        10064 non-null  int64          \n",
      " 6   구분        10064 non-null  object         \n",
      " 7   고객        10064 non-null  object         \n",
      " 8   date_x    10064 non-null  object         \n",
      " 9   결제일시      10064 non-null  object         \n",
      " 10  판매위치      10064 non-null  object         \n",
      " 11  상품명       10064 non-null  object         \n",
      " 12  결제방식      10064 non-null  object         \n",
      " 13  비고        10064 non-null  object         \n",
      " 14  판매수량      10064 non-null  int64          \n",
      " 15  결제금액      10064 non-null  int64          \n",
      " 16  date_y    10064 non-null  object         \n",
      " 17  총금액       10064 non-null  int64          \n",
      " 18  Now       10064 non-null  datetime64[ns] \n",
      " 19  입실날짜      10064 non-null  datetime64[ns] \n",
      " 20  Interval  10064 non-null  timedelta64[ns]\n",
      "dtypes: datetime64[ns](2), int64(4), object(14), timedelta64[ns](1)\n",
      "memory usage: 1.7+ MB\n"
     ]
    }
   ],
   "source": [
    "#RFM 방식으로 고객 분류하기\n",
    "#entry, sales merge - 입장권을 구매하고 음식까지 주문한 고객들만.\n",
    "es_merged_data =  pd.merge(entry_data, sales_data, on= '고객')\n",
    "#입장권, 상품 결제 금액 합친 열 : '총금액'\n",
    "es_merged_data['총금액']=es_merged_data['결제금액']+es_merged_data['금액']\n",
    "es_merged_data['Now']=('2023-03-20')\n",
    "es_merged_data['Now']=pd.to_datetime(es_merged_data['Now'])\n",
    "es_merged_data['입실날짜']=pd.to_datetime(es_merged_data['입실'])\n",
    "es_merged_data['Interval'] = es_merged_data['Now'] - es_merged_data['입실날짜']\n",
    "#중복치 제거\n",
    "es_merged_data=es_merged_data.drop_duplicates(subset=['입실', '금액'])\n",
    "es_merged_data.info()"
   ]
  },
  {
   "cell_type": "code",
   "execution_count": 56,
   "id": "a534b581",
   "metadata": {
    "colab": {
     "base_uri": "https://localhost:8080/",
     "height": 455
    },
    "executionInfo": {
     "elapsed": 31,
     "status": "ok",
     "timestamp": 1679382809594,
     "user": {
      "displayName": "한기혁",
      "userId": "18343953987471850827"
     },
     "user_tz": -540
    },
    "id": "BYdfj8frkq5o",
    "outputId": "706d77f0-d6d8-40c6-874e-8885b732cf08"
   },
   "outputs": [
    {
     "data": {
      "text/html": [
       "<div>\n",
       "<style scoped>\n",
       "    .dataframe tbody tr th:only-of-type {\n",
       "        vertical-align: middle;\n",
       "    }\n",
       "\n",
       "    .dataframe tbody tr th {\n",
       "        vertical-align: top;\n",
       "    }\n",
       "\n",
       "    .dataframe thead th {\n",
       "        text-align: right;\n",
       "    }\n",
       "</style>\n",
       "<table border=\"1\" class=\"dataframe\">\n",
       "  <thead>\n",
       "    <tr style=\"text-align: right;\">\n",
       "      <th></th>\n",
       "      <th>Recency</th>\n",
       "      <th>Frequency</th>\n",
       "      <th>Monetary</th>\n",
       "    </tr>\n",
       "    <tr>\n",
       "      <th>고객</th>\n",
       "      <th></th>\n",
       "      <th></th>\n",
       "      <th></th>\n",
       "    </tr>\n",
       "  </thead>\n",
       "  <tbody>\n",
       "    <tr>\n",
       "      <th>customer200167</th>\n",
       "      <td>425 days 13:27:00</td>\n",
       "      <td>1</td>\n",
       "      <td>7000</td>\n",
       "    </tr>\n",
       "    <tr>\n",
       "      <th>customer200188</th>\n",
       "      <td>498 days 04:05:00</td>\n",
       "      <td>4</td>\n",
       "      <td>39000</td>\n",
       "    </tr>\n",
       "    <tr>\n",
       "      <th>customer200285</th>\n",
       "      <td>383 days 04:34:00</td>\n",
       "      <td>15</td>\n",
       "      <td>161500</td>\n",
       "    </tr>\n",
       "    <tr>\n",
       "      <th>customer200477</th>\n",
       "      <td>460 days 06:34:00</td>\n",
       "      <td>4</td>\n",
       "      <td>44000</td>\n",
       "    </tr>\n",
       "    <tr>\n",
       "      <th>customer200759</th>\n",
       "      <td>464 days 04:53:00</td>\n",
       "      <td>7</td>\n",
       "      <td>75500</td>\n",
       "    </tr>\n",
       "    <tr>\n",
       "      <th>...</th>\n",
       "      <td>...</td>\n",
       "      <td>...</td>\n",
       "      <td>...</td>\n",
       "    </tr>\n",
       "    <tr>\n",
       "      <th>customer999383</th>\n",
       "      <td>642 days 13:03:00</td>\n",
       "      <td>5</td>\n",
       "      <td>60000</td>\n",
       "    </tr>\n",
       "    <tr>\n",
       "      <th>customer999420</th>\n",
       "      <td>407 days 07:14:00</td>\n",
       "      <td>2</td>\n",
       "      <td>22500</td>\n",
       "    </tr>\n",
       "    <tr>\n",
       "      <th>customer999474</th>\n",
       "      <td>468 days 05:52:00</td>\n",
       "      <td>16</td>\n",
       "      <td>184500</td>\n",
       "    </tr>\n",
       "    <tr>\n",
       "      <th>customer999584</th>\n",
       "      <td>433 days 02:13:00</td>\n",
       "      <td>8</td>\n",
       "      <td>84000</td>\n",
       "    </tr>\n",
       "    <tr>\n",
       "      <th>customer999998</th>\n",
       "      <td>441 days 07:14:00</td>\n",
       "      <td>7</td>\n",
       "      <td>77000</td>\n",
       "    </tr>\n",
       "  </tbody>\n",
       "</table>\n",
       "<p>1803 rows × 3 columns</p>\n",
       "</div>"
      ],
      "text/plain": [
       "                         Recency  Frequency  Monetary\n",
       "고객                                                   \n",
       "customer200167 425 days 13:27:00          1      7000\n",
       "customer200188 498 days 04:05:00          4     39000\n",
       "customer200285 383 days 04:34:00         15    161500\n",
       "customer200477 460 days 06:34:00          4     44000\n",
       "customer200759 464 days 04:53:00          7     75500\n",
       "...                          ...        ...       ...\n",
       "customer999383 642 days 13:03:00          5     60000\n",
       "customer999420 407 days 07:14:00          2     22500\n",
       "customer999474 468 days 05:52:00         16    184500\n",
       "customer999584 433 days 02:13:00          8     84000\n",
       "customer999998 441 days 07:14:00          7     77000\n",
       "\n",
       "[1803 rows x 3 columns]"
      ]
     },
     "execution_count": 56,
     "metadata": {},
     "output_type": "execute_result"
    }
   ],
   "source": [
    "RFM_data = es_merged_data.groupby(es_merged_data['고객']).agg({'Interval':'min', '고객':'count', '총금액':'sum'})\n",
    "RFM_data.columns = ['Recency', 'Frequency', 'Monetary']\n",
    "RFM_data"
   ]
  },
  {
   "cell_type": "code",
   "execution_count": 57,
   "id": "59db3269",
   "metadata": {
    "colab": {
     "base_uri": "https://localhost:8080/",
     "height": 455
    },
    "executionInfo": {
     "elapsed": 29,
     "status": "ok",
     "timestamp": 1679382809594,
     "user": {
      "displayName": "한기혁",
      "userId": "18343953987471850827"
     },
     "user_tz": -540
    },
    "id": "M16kPQWvreR0",
    "outputId": "bca56770-e6e7-4004-ddc0-07fe6a887e3d"
   },
   "outputs": [
    {
     "data": {
      "text/html": [
       "<div>\n",
       "<style scoped>\n",
       "    .dataframe tbody tr th:only-of-type {\n",
       "        vertical-align: middle;\n",
       "    }\n",
       "\n",
       "    .dataframe tbody tr th {\n",
       "        vertical-align: top;\n",
       "    }\n",
       "\n",
       "    .dataframe thead th {\n",
       "        text-align: right;\n",
       "    }\n",
       "</style>\n",
       "<table border=\"1\" class=\"dataframe\">\n",
       "  <thead>\n",
       "    <tr style=\"text-align: right;\">\n",
       "      <th></th>\n",
       "      <th>Recency</th>\n",
       "      <th>Frequency</th>\n",
       "      <th>Monetary</th>\n",
       "    </tr>\n",
       "    <tr>\n",
       "      <th>고객</th>\n",
       "      <th></th>\n",
       "      <th></th>\n",
       "      <th></th>\n",
       "    </tr>\n",
       "  </thead>\n",
       "  <tbody>\n",
       "    <tr>\n",
       "      <th>customer200167</th>\n",
       "      <td>425</td>\n",
       "      <td>1</td>\n",
       "      <td>7000</td>\n",
       "    </tr>\n",
       "    <tr>\n",
       "      <th>customer200188</th>\n",
       "      <td>498</td>\n",
       "      <td>4</td>\n",
       "      <td>39000</td>\n",
       "    </tr>\n",
       "    <tr>\n",
       "      <th>customer200285</th>\n",
       "      <td>383</td>\n",
       "      <td>15</td>\n",
       "      <td>161500</td>\n",
       "    </tr>\n",
       "    <tr>\n",
       "      <th>customer200477</th>\n",
       "      <td>460</td>\n",
       "      <td>4</td>\n",
       "      <td>44000</td>\n",
       "    </tr>\n",
       "    <tr>\n",
       "      <th>customer200759</th>\n",
       "      <td>464</td>\n",
       "      <td>7</td>\n",
       "      <td>75500</td>\n",
       "    </tr>\n",
       "    <tr>\n",
       "      <th>...</th>\n",
       "      <td>...</td>\n",
       "      <td>...</td>\n",
       "      <td>...</td>\n",
       "    </tr>\n",
       "    <tr>\n",
       "      <th>customer999383</th>\n",
       "      <td>642</td>\n",
       "      <td>5</td>\n",
       "      <td>60000</td>\n",
       "    </tr>\n",
       "    <tr>\n",
       "      <th>customer999420</th>\n",
       "      <td>407</td>\n",
       "      <td>2</td>\n",
       "      <td>22500</td>\n",
       "    </tr>\n",
       "    <tr>\n",
       "      <th>customer999474</th>\n",
       "      <td>468</td>\n",
       "      <td>16</td>\n",
       "      <td>184500</td>\n",
       "    </tr>\n",
       "    <tr>\n",
       "      <th>customer999584</th>\n",
       "      <td>433</td>\n",
       "      <td>8</td>\n",
       "      <td>84000</td>\n",
       "    </tr>\n",
       "    <tr>\n",
       "      <th>customer999998</th>\n",
       "      <td>441</td>\n",
       "      <td>7</td>\n",
       "      <td>77000</td>\n",
       "    </tr>\n",
       "  </tbody>\n",
       "</table>\n",
       "<p>1803 rows × 3 columns</p>\n",
       "</div>"
      ],
      "text/plain": [
       "                Recency  Frequency  Monetary\n",
       "고객                                          \n",
       "customer200167      425          1      7000\n",
       "customer200188      498          4     39000\n",
       "customer200285      383         15    161500\n",
       "customer200477      460          4     44000\n",
       "customer200759      464          7     75500\n",
       "...                 ...        ...       ...\n",
       "customer999383      642          5     60000\n",
       "customer999420      407          2     22500\n",
       "customer999474      468         16    184500\n",
       "customer999584      433          8     84000\n",
       "customer999998      441          7     77000\n",
       "\n",
       "[1803 rows x 3 columns]"
      ]
     },
     "execution_count": 57,
     "metadata": {},
     "output_type": "execute_result"
    }
   ],
   "source": [
    "RFM_data['Recency'] = RFM_data['Recency'].dt.days\n",
    "RFM_data"
   ]
  },
  {
   "cell_type": "code",
   "execution_count": 58,
   "id": "488096ae",
   "metadata": {
    "colab": {
     "base_uri": "https://localhost:8080/",
     "height": 143
    },
    "executionInfo": {
     "elapsed": 26,
     "status": "ok",
     "timestamp": 1679382809595,
     "user": {
      "displayName": "한기혁",
      "userId": "18343953987471850827"
     },
     "user_tz": -540
    },
    "id": "H38IxoKjreMC",
    "outputId": "8fc4890e-313a-4d62-e77e-0cf34f5817e1"
   },
   "outputs": [
    {
     "data": {
      "text/html": [
       "<div>\n",
       "<style scoped>\n",
       "    .dataframe tbody tr th:only-of-type {\n",
       "        vertical-align: middle;\n",
       "    }\n",
       "\n",
       "    .dataframe tbody tr th {\n",
       "        vertical-align: top;\n",
       "    }\n",
       "\n",
       "    .dataframe thead th {\n",
       "        text-align: right;\n",
       "    }\n",
       "</style>\n",
       "<table border=\"1\" class=\"dataframe\">\n",
       "  <thead>\n",
       "    <tr style=\"text-align: right;\">\n",
       "      <th></th>\n",
       "      <th>count</th>\n",
       "      <th>mean</th>\n",
       "      <th>std</th>\n",
       "      <th>min</th>\n",
       "      <th>25%</th>\n",
       "      <th>50%</th>\n",
       "      <th>75%</th>\n",
       "      <th>max</th>\n",
       "    </tr>\n",
       "  </thead>\n",
       "  <tbody>\n",
       "    <tr>\n",
       "      <th>Recency</th>\n",
       "      <td>1803.0</td>\n",
       "      <td>515.66</td>\n",
       "      <td>108.02</td>\n",
       "      <td>352.0</td>\n",
       "      <td>442.0</td>\n",
       "      <td>485.0</td>\n",
       "      <td>622.0</td>\n",
       "      <td>760.0</td>\n",
       "    </tr>\n",
       "    <tr>\n",
       "      <th>Frequency</th>\n",
       "      <td>1803.0</td>\n",
       "      <td>5.58</td>\n",
       "      <td>8.85</td>\n",
       "      <td>1.0</td>\n",
       "      <td>2.0</td>\n",
       "      <td>3.0</td>\n",
       "      <td>7.0</td>\n",
       "      <td>150.0</td>\n",
       "    </tr>\n",
       "    <tr>\n",
       "      <th>Monetary</th>\n",
       "      <td>1803.0</td>\n",
       "      <td>56761.01</td>\n",
       "      <td>71314.75</td>\n",
       "      <td>4500.0</td>\n",
       "      <td>17000.0</td>\n",
       "      <td>34000.0</td>\n",
       "      <td>71000.0</td>\n",
       "      <td>1162500.0</td>\n",
       "    </tr>\n",
       "  </tbody>\n",
       "</table>\n",
       "</div>"
      ],
      "text/plain": [
       "            count      mean       std     min      25%      50%      75%  \\\n",
       "Recency    1803.0    515.66    108.02   352.0    442.0    485.0    622.0   \n",
       "Frequency  1803.0      5.58      8.85     1.0      2.0      3.0      7.0   \n",
       "Monetary   1803.0  56761.01  71314.75  4500.0  17000.0  34000.0  71000.0   \n",
       "\n",
       "                 max  \n",
       "Recency        760.0  \n",
       "Frequency      150.0  \n",
       "Monetary   1162500.0  "
      ]
     },
     "execution_count": 58,
     "metadata": {},
     "output_type": "execute_result"
    }
   ],
   "source": [
    "RFM_data.describe().T.round(2)"
   ]
  },
  {
   "cell_type": "code",
   "execution_count": 59,
   "id": "5c0fc35b",
   "metadata": {
    "colab": {
     "base_uri": "https://localhost:8080/",
     "height": 677
    },
    "executionInfo": {
     "elapsed": 23,
     "status": "ok",
     "timestamp": 1679382809595,
     "user": {
      "displayName": "한기혁",
      "userId": "18343953987471850827"
     },
     "user_tz": -540
    },
    "id": "SydaDOyqirgD",
    "outputId": "c474d7ce-c55d-4831-b584-77d8aabf30de"
   },
   "outputs": [
    {
     "data": {
      "text/html": [
       "<div>\n",
       "<style scoped>\n",
       "    .dataframe tbody tr th:only-of-type {\n",
       "        vertical-align: middle;\n",
       "    }\n",
       "\n",
       "    .dataframe tbody tr th {\n",
       "        vertical-align: top;\n",
       "    }\n",
       "\n",
       "    .dataframe thead th {\n",
       "        text-align: right;\n",
       "    }\n",
       "</style>\n",
       "<table border=\"1\" class=\"dataframe\">\n",
       "  <thead>\n",
       "    <tr style=\"text-align: right;\">\n",
       "      <th></th>\n",
       "      <th>고객</th>\n",
       "      <th>Recency</th>\n",
       "      <th>Frequency</th>\n",
       "      <th>Monetary</th>\n",
       "      <th>R_score</th>\n",
       "      <th>F_score</th>\n",
       "      <th>M_score</th>\n",
       "      <th>RFM_score</th>\n",
       "      <th>Class</th>\n",
       "    </tr>\n",
       "  </thead>\n",
       "  <tbody>\n",
       "    <tr>\n",
       "      <th>0</th>\n",
       "      <td>customer200167</td>\n",
       "      <td>425</td>\n",
       "      <td>1</td>\n",
       "      <td>7000</td>\n",
       "      <td>82.29</td>\n",
       "      <td>1.00</td>\n",
       "      <td>1.21</td>\n",
       "      <td>28.17</td>\n",
       "      <td>3</td>\n",
       "    </tr>\n",
       "    <tr>\n",
       "      <th>1</th>\n",
       "      <td>customer200188</td>\n",
       "      <td>498</td>\n",
       "      <td>4</td>\n",
       "      <td>39000</td>\n",
       "      <td>64.57</td>\n",
       "      <td>2.99</td>\n",
       "      <td>3.95</td>\n",
       "      <td>23.84</td>\n",
       "      <td>4</td>\n",
       "    </tr>\n",
       "    <tr>\n",
       "      <th>2</th>\n",
       "      <td>customer200285</td>\n",
       "      <td>383</td>\n",
       "      <td>15</td>\n",
       "      <td>161500</td>\n",
       "      <td>92.48</td>\n",
       "      <td>10.30</td>\n",
       "      <td>14.42</td>\n",
       "      <td>39.07</td>\n",
       "      <td>2</td>\n",
       "    </tr>\n",
       "    <tr>\n",
       "      <th>3</th>\n",
       "      <td>customer200477</td>\n",
       "      <td>460</td>\n",
       "      <td>4</td>\n",
       "      <td>44000</td>\n",
       "      <td>73.79</td>\n",
       "      <td>2.99</td>\n",
       "      <td>4.38</td>\n",
       "      <td>27.05</td>\n",
       "      <td>4</td>\n",
       "    </tr>\n",
       "    <tr>\n",
       "      <th>4</th>\n",
       "      <td>customer200759</td>\n",
       "      <td>464</td>\n",
       "      <td>7</td>\n",
       "      <td>75500</td>\n",
       "      <td>72.82</td>\n",
       "      <td>4.99</td>\n",
       "      <td>7.07</td>\n",
       "      <td>28.29</td>\n",
       "      <td>3</td>\n",
       "    </tr>\n",
       "    <tr>\n",
       "      <th>5</th>\n",
       "      <td>customer201274</td>\n",
       "      <td>461</td>\n",
       "      <td>4</td>\n",
       "      <td>41000</td>\n",
       "      <td>73.55</td>\n",
       "      <td>2.99</td>\n",
       "      <td>4.12</td>\n",
       "      <td>26.89</td>\n",
       "      <td>4</td>\n",
       "    </tr>\n",
       "    <tr>\n",
       "      <th>6</th>\n",
       "      <td>customer201282</td>\n",
       "      <td>548</td>\n",
       "      <td>3</td>\n",
       "      <td>26500</td>\n",
       "      <td>52.44</td>\n",
       "      <td>2.33</td>\n",
       "      <td>2.88</td>\n",
       "      <td>19.22</td>\n",
       "      <td>5</td>\n",
       "    </tr>\n",
       "    <tr>\n",
       "      <th>7</th>\n",
       "      <td>customer202584</td>\n",
       "      <td>498</td>\n",
       "      <td>2</td>\n",
       "      <td>25500</td>\n",
       "      <td>64.57</td>\n",
       "      <td>1.66</td>\n",
       "      <td>2.80</td>\n",
       "      <td>23.01</td>\n",
       "      <td>4</td>\n",
       "    </tr>\n",
       "    <tr>\n",
       "      <th>8</th>\n",
       "      <td>customer202794</td>\n",
       "      <td>471</td>\n",
       "      <td>3</td>\n",
       "      <td>32500</td>\n",
       "      <td>71.12</td>\n",
       "      <td>2.33</td>\n",
       "      <td>3.39</td>\n",
       "      <td>25.61</td>\n",
       "      <td>4</td>\n",
       "    </tr>\n",
       "    <tr>\n",
       "      <th>9</th>\n",
       "      <td>customer203019</td>\n",
       "      <td>484</td>\n",
       "      <td>12</td>\n",
       "      <td>117500</td>\n",
       "      <td>67.97</td>\n",
       "      <td>8.31</td>\n",
       "      <td>10.66</td>\n",
       "      <td>28.98</td>\n",
       "      <td>3</td>\n",
       "    </tr>\n",
       "    <tr>\n",
       "      <th>10</th>\n",
       "      <td>customer203447</td>\n",
       "      <td>651</td>\n",
       "      <td>5</td>\n",
       "      <td>46000</td>\n",
       "      <td>27.45</td>\n",
       "      <td>3.66</td>\n",
       "      <td>4.55</td>\n",
       "      <td>11.89</td>\n",
       "      <td>5</td>\n",
       "    </tr>\n",
       "    <tr>\n",
       "      <th>11</th>\n",
       "      <td>customer203486</td>\n",
       "      <td>384</td>\n",
       "      <td>11</td>\n",
       "      <td>119500</td>\n",
       "      <td>92.24</td>\n",
       "      <td>7.64</td>\n",
       "      <td>10.83</td>\n",
       "      <td>36.90</td>\n",
       "      <td>2</td>\n",
       "    </tr>\n",
       "    <tr>\n",
       "      <th>12</th>\n",
       "      <td>customer205116</td>\n",
       "      <td>696</td>\n",
       "      <td>1</td>\n",
       "      <td>11500</td>\n",
       "      <td>16.53</td>\n",
       "      <td>1.00</td>\n",
       "      <td>1.60</td>\n",
       "      <td>6.38</td>\n",
       "      <td>5</td>\n",
       "    </tr>\n",
       "    <tr>\n",
       "      <th>13</th>\n",
       "      <td>customer206190</td>\n",
       "      <td>660</td>\n",
       "      <td>2</td>\n",
       "      <td>22000</td>\n",
       "      <td>25.26</td>\n",
       "      <td>1.66</td>\n",
       "      <td>2.50</td>\n",
       "      <td>9.81</td>\n",
       "      <td>5</td>\n",
       "    </tr>\n",
       "    <tr>\n",
       "      <th>14</th>\n",
       "      <td>customer206880</td>\n",
       "      <td>364</td>\n",
       "      <td>2</td>\n",
       "      <td>26300</td>\n",
       "      <td>97.09</td>\n",
       "      <td>1.66</td>\n",
       "      <td>2.86</td>\n",
       "      <td>33.87</td>\n",
       "      <td>2</td>\n",
       "    </tr>\n",
       "    <tr>\n",
       "      <th>15</th>\n",
       "      <td>customer206911</td>\n",
       "      <td>631</td>\n",
       "      <td>1</td>\n",
       "      <td>12500</td>\n",
       "      <td>32.30</td>\n",
       "      <td>1.00</td>\n",
       "      <td>1.68</td>\n",
       "      <td>11.66</td>\n",
       "      <td>5</td>\n",
       "    </tr>\n",
       "    <tr>\n",
       "      <th>16</th>\n",
       "      <td>customer207548</td>\n",
       "      <td>551</td>\n",
       "      <td>7</td>\n",
       "      <td>71000</td>\n",
       "      <td>51.71</td>\n",
       "      <td>4.99</td>\n",
       "      <td>6.69</td>\n",
       "      <td>21.13</td>\n",
       "      <td>5</td>\n",
       "    </tr>\n",
       "    <tr>\n",
       "      <th>17</th>\n",
       "      <td>customer208002</td>\n",
       "      <td>440</td>\n",
       "      <td>6</td>\n",
       "      <td>58500</td>\n",
       "      <td>78.65</td>\n",
       "      <td>4.32</td>\n",
       "      <td>5.62</td>\n",
       "      <td>29.53</td>\n",
       "      <td>3</td>\n",
       "    </tr>\n",
       "    <tr>\n",
       "      <th>18</th>\n",
       "      <td>customer208498</td>\n",
       "      <td>569</td>\n",
       "      <td>3</td>\n",
       "      <td>31500</td>\n",
       "      <td>47.35</td>\n",
       "      <td>2.33</td>\n",
       "      <td>3.31</td>\n",
       "      <td>17.66</td>\n",
       "      <td>5</td>\n",
       "    </tr>\n",
       "    <tr>\n",
       "      <th>19</th>\n",
       "      <td>customer208508</td>\n",
       "      <td>504</td>\n",
       "      <td>9</td>\n",
       "      <td>101500</td>\n",
       "      <td>63.12</td>\n",
       "      <td>6.32</td>\n",
       "      <td>9.29</td>\n",
       "      <td>26.24</td>\n",
       "      <td>4</td>\n",
       "    </tr>\n",
       "  </tbody>\n",
       "</table>\n",
       "</div>"
      ],
      "text/plain": [
       "                고객  Recency  Frequency  Monetary  R_score  F_score  M_score  \\\n",
       "0   customer200167      425          1      7000    82.29     1.00     1.21   \n",
       "1   customer200188      498          4     39000    64.57     2.99     3.95   \n",
       "2   customer200285      383         15    161500    92.48    10.30    14.42   \n",
       "3   customer200477      460          4     44000    73.79     2.99     4.38   \n",
       "4   customer200759      464          7     75500    72.82     4.99     7.07   \n",
       "5   customer201274      461          4     41000    73.55     2.99     4.12   \n",
       "6   customer201282      548          3     26500    52.44     2.33     2.88   \n",
       "7   customer202584      498          2     25500    64.57     1.66     2.80   \n",
       "8   customer202794      471          3     32500    71.12     2.33     3.39   \n",
       "9   customer203019      484         12    117500    67.97     8.31    10.66   \n",
       "10  customer203447      651          5     46000    27.45     3.66     4.55   \n",
       "11  customer203486      384         11    119500    92.24     7.64    10.83   \n",
       "12  customer205116      696          1     11500    16.53     1.00     1.60   \n",
       "13  customer206190      660          2     22000    25.26     1.66     2.50   \n",
       "14  customer206880      364          2     26300    97.09     1.66     2.86   \n",
       "15  customer206911      631          1     12500    32.30     1.00     1.68   \n",
       "16  customer207548      551          7     71000    51.71     4.99     6.69   \n",
       "17  customer208002      440          6     58500    78.65     4.32     5.62   \n",
       "18  customer208498      569          3     31500    47.35     2.33     3.31   \n",
       "19  customer208508      504          9    101500    63.12     6.32     9.29   \n",
       "\n",
       "    RFM_score Class  \n",
       "0       28.17     3  \n",
       "1       23.84     4  \n",
       "2       39.07     2  \n",
       "3       27.05     4  \n",
       "4       28.29     3  \n",
       "5       26.89     4  \n",
       "6       19.22     5  \n",
       "7       23.01     4  \n",
       "8       25.61     4  \n",
       "9       28.98     3  \n",
       "10      11.89     5  \n",
       "11      36.90     2  \n",
       "12       6.38     5  \n",
       "13       9.81     5  \n",
       "14      33.87     2  \n",
       "15      11.66     5  \n",
       "16      21.13     5  \n",
       "17      29.53     3  \n",
       "18      17.66     5  \n",
       "19      26.24     4  "
      ]
     },
     "execution_count": 59,
     "metadata": {},
     "output_type": "execute_result"
    }
   ],
   "source": [
    "RFM_data['R_score'] = np.interp(RFM_data['Recency'], (RFM_data['Recency'].min(), RFM_data['Recency'].max()), (100, 1)).round(2)\n",
    "RFM_data['F_score'] = np.interp(RFM_data['Frequency'], (RFM_data['Frequency'].min(), RFM_data['Frequency'].max()), (1, 100)).round(2)\n",
    "RFM_data['M_score'] = np.interp(RFM_data['Monetary'], (RFM_data['Monetary'].min(), RFM_data['Monetary'].max()), (1, 100)).round(2)\n",
    "RFM_data[\"RFM_score\"] = ((RFM_data['R_score'] + RFM_data['F_score'] + RFM_data['M_score'])/3).round(2)\n",
    "RFM_data[\"Class\"] = pd.qcut(RFM_data['RFM_score'], q=[0, 0.4, 0.65, 0.85, 0.99, 1], labels=[5,4,3,2,1])\n",
    "RFM_data = RFM_data.reset_index()\n",
    "\n",
    "RFM_data.head(20)"
   ]
  },
  {
   "cell_type": "code",
   "execution_count": 60,
   "id": "3aeeaddf",
   "metadata": {
    "colab": {
     "base_uri": "https://localhost:8080/",
     "height": 471
    },
    "executionInfo": {
     "elapsed": 876,
     "status": "ok",
     "timestamp": 1679382810450,
     "user": {
      "displayName": "한기혁",
      "userId": "18343953987471850827"
     },
     "user_tz": -540
    },
    "id": "-psFNgNaueEk",
    "outputId": "e8619b2c-1d9c-4e13-c242-11b4857b92a3"
   },
   "outputs": [
    {
     "data": {
      "image/png": "[encoded data removed]",
      "text/plain": [
       "<Figure size 640x480 with 1 Axes>"
      ]
     },
     "metadata": {},
     "output_type": "display_data"
    }
   ],
   "source": [
    "sns.scatterplot(data=RFM_data, x='R_score', y='M_score', hue='Class')\n",
    "plt.title('Customer By Class')\n",
    "plt.show()"
   ]
  },
  {
   "cell_type": "code",
   "execution_count": 61,
   "id": "15424c0d",
   "metadata": {
    "colab": {
     "base_uri": "https://localhost:8080/"
    },
    "executionInfo": {
     "elapsed": 17,
     "status": "ok",
     "timestamp": 1679382810452,
     "user": {
      "displayName": "한기혁",
      "userId": "18343953987471850827"
     },
     "user_tz": -540
    },
    "id": "5kGRGlmSupeI",
    "outputId": "39ba6049-31eb-4f19-8c62-bd08634b2b22"
   },
   "outputs": [
    {
     "data": {
      "text/plain": [
       "Class\n",
       "5    721\n",
       "4    452\n",
       "3    360\n",
       "2    251\n",
       "1     19\n",
       "Name: 고객, dtype: int64"
      ]
     },
     "execution_count": 61,
     "metadata": {},
     "output_type": "execute_result"
    }
   ],
   "source": [
    "temp_var = RFM_data['고객'].groupby(RFM_data['Class']).count()\n",
    "temp_var"
   ]
  },
  {
   "cell_type": "code",
   "execution_count": 62,
   "id": "5e5ae8da",
   "metadata": {
    "colab": {
     "base_uri": "https://localhost:8080/",
     "height": 427
    },
    "executionInfo": {
     "elapsed": 1016,
     "status": "ok",
     "timestamp": 1679382811458,
     "user": {
      "displayName": "한기혁",
      "userId": "18343953987471850827"
     },
     "user_tz": -540
    },
    "id": "XoNEEezfusSD",
    "outputId": "ebbdb648-98e2-4e79-f45d-8a02cff4cede"
   },
   "outputs": [
    {
     "data": {
      "image/png": "[encoded data removed]",
      "text/plain": [
       "<Figure size 640x480 with 1 Axes>"
      ]
     },
     "metadata": {},
     "output_type": "display_data"
    }
   ],
   "source": [
    "plt.pie(temp_var, labels=temp_var.index, autopct = '%1.1f%%')\n",
    "plt.title('Class Proportion')\n",
    "plt.show()"
   ]
  },
  {
   "cell_type": "code",
   "execution_count": 63,
   "id": "d8610363",
   "metadata": {
    "colab": {
     "base_uri": "https://localhost:8080/",
     "height": 238
    },
    "executionInfo": {
     "elapsed": 50,
     "status": "ok",
     "timestamp": 1679382811460,
     "user": {
      "displayName": "한기혁",
      "userId": "18343953987471850827"
     },
     "user_tz": -540
    },
    "id": "Ve8Sg1HQu0qu",
    "outputId": "96b10d8a-727f-4480-bf55-06cad8f83c15"
   },
   "outputs": [
    {
     "data": {
      "text/html": [
       "<div>\n",
       "<style scoped>\n",
       "    .dataframe tbody tr th:only-of-type {\n",
       "        vertical-align: middle;\n",
       "    }\n",
       "\n",
       "    .dataframe tbody tr th {\n",
       "        vertical-align: top;\n",
       "    }\n",
       "\n",
       "    .dataframe thead th {\n",
       "        text-align: right;\n",
       "    }\n",
       "</style>\n",
       "<table border=\"1\" class=\"dataframe\">\n",
       "  <thead>\n",
       "    <tr style=\"text-align: right;\">\n",
       "      <th></th>\n",
       "      <th>Recency</th>\n",
       "      <th>Frequency</th>\n",
       "      <th>Monetary</th>\n",
       "    </tr>\n",
       "    <tr>\n",
       "      <th>Class</th>\n",
       "      <th></th>\n",
       "      <th></th>\n",
       "      <th></th>\n",
       "    </tr>\n",
       "  </thead>\n",
       "  <tbody>\n",
       "    <tr>\n",
       "      <th>5</th>\n",
       "      <td>629.3</td>\n",
       "      <td>3.1</td>\n",
       "      <td>33097.6</td>\n",
       "    </tr>\n",
       "    <tr>\n",
       "      <th>4</th>\n",
       "      <td>479.5</td>\n",
       "      <td>4.0</td>\n",
       "      <td>41378.3</td>\n",
       "    </tr>\n",
       "    <tr>\n",
       "      <th>3</th>\n",
       "      <td>431.7</td>\n",
       "      <td>6.3</td>\n",
       "      <td>66780.6</td>\n",
       "    </tr>\n",
       "    <tr>\n",
       "      <th>2</th>\n",
       "      <td>383.7</td>\n",
       "      <td>10.2</td>\n",
       "      <td>108170.5</td>\n",
       "    </tr>\n",
       "    <tr>\n",
       "      <th>1</th>\n",
       "      <td>398.4</td>\n",
       "      <td>61.2</td>\n",
       "      <td>451678.9</td>\n",
       "    </tr>\n",
       "  </tbody>\n",
       "</table>\n",
       "</div>"
      ],
      "text/plain": [
       "       Recency  Frequency  Monetary\n",
       "Class                              \n",
       "5        629.3        3.1   33097.6\n",
       "4        479.5        4.0   41378.3\n",
       "3        431.7        6.3   66780.6\n",
       "2        383.7       10.2  108170.5\n",
       "1        398.4       61.2  451678.9"
      ]
     },
     "execution_count": 63,
     "metadata": {},
     "output_type": "execute_result"
    }
   ],
   "source": [
    "temp_var = RFM_data.groupby('Class').agg({'Recency': 'mean', 'Frequency':'mean', 'Monetary':'mean'}).round(1)\n",
    "temp_var"
   ]
  },
  {
   "cell_type": "code",
   "execution_count": 64,
   "id": "bc698a20",
   "metadata": {
    "colab": {
     "base_uri": "https://localhost:8080/",
     "height": 206
    },
    "executionInfo": {
     "elapsed": 50,
     "status": "ok",
     "timestamp": 1679382811461,
     "user": {
      "displayName": "한기혁",
      "userId": "18343953987471850827"
     },
     "user_tz": -540
    },
    "id": "Z2nqgCWgvDdA",
    "outputId": "6172c4c7-bbe6-426d-cdca-366789161c34"
   },
   "outputs": [
    {
     "data": {
      "text/html": [
       "<div>\n",
       "<style scoped>\n",
       "    .dataframe tbody tr th:only-of-type {\n",
       "        vertical-align: middle;\n",
       "    }\n",
       "\n",
       "    .dataframe tbody tr th {\n",
       "        vertical-align: top;\n",
       "    }\n",
       "\n",
       "    .dataframe thead th {\n",
       "        text-align: right;\n",
       "    }\n",
       "</style>\n",
       "<table border=\"1\" class=\"dataframe\">\n",
       "  <thead>\n",
       "    <tr style=\"text-align: right;\">\n",
       "      <th></th>\n",
       "      <th>Recency</th>\n",
       "      <th>Frequency</th>\n",
       "      <th>Monetary</th>\n",
       "    </tr>\n",
       "  </thead>\n",
       "  <tbody>\n",
       "    <tr>\n",
       "      <th>5</th>\n",
       "      <td>629.3</td>\n",
       "      <td>3.1</td>\n",
       "      <td>33097.6</td>\n",
       "    </tr>\n",
       "    <tr>\n",
       "      <th>4</th>\n",
       "      <td>479.5</td>\n",
       "      <td>4.0</td>\n",
       "      <td>41378.3</td>\n",
       "    </tr>\n",
       "    <tr>\n",
       "      <th>3</th>\n",
       "      <td>431.7</td>\n",
       "      <td>6.3</td>\n",
       "      <td>66780.6</td>\n",
       "    </tr>\n",
       "    <tr>\n",
       "      <th>2</th>\n",
       "      <td>383.7</td>\n",
       "      <td>10.2</td>\n",
       "      <td>108170.5</td>\n",
       "    </tr>\n",
       "    <tr>\n",
       "      <th>1</th>\n",
       "      <td>398.4</td>\n",
       "      <td>61.2</td>\n",
       "      <td>451678.9</td>\n",
       "    </tr>\n",
       "  </tbody>\n",
       "</table>\n",
       "</div>"
      ],
      "text/plain": [
       "   Recency  Frequency  Monetary\n",
       "5    629.3        3.1   33097.6\n",
       "4    479.5        4.0   41378.3\n",
       "3    431.7        6.3   66780.6\n",
       "2    383.7       10.2  108170.5\n",
       "1    398.4       61.2  451678.9"
      ]
     },
     "execution_count": 64,
     "metadata": {},
     "output_type": "execute_result"
    }
   ],
   "source": [
    "temp_var.index = temp_var.index.tolist()\n",
    "temp_var"
   ]
  },
  {
   "cell_type": "code",
   "execution_count": 65,
   "id": "ceefb7df",
   "metadata": {
    "colab": {
     "base_uri": "https://localhost:8080/",
     "height": 206
    },
    "executionInfo": {
     "elapsed": 51,
     "status": "ok",
     "timestamp": 1679382811463,
     "user": {
      "displayName": "한기혁",
      "userId": "18343953987471850827"
     },
     "user_tz": -540
    },
    "id": "cKHG6meCvNHF",
    "outputId": "d6c56088-8bbe-414c-d9d7-64a9093bfe8a"
   },
   "outputs": [
    {
     "data": {
      "text/html": [
       "<div>\n",
       "<style scoped>\n",
       "    .dataframe tbody tr th:only-of-type {\n",
       "        vertical-align: middle;\n",
       "    }\n",
       "\n",
       "    .dataframe tbody tr th {\n",
       "        vertical-align: top;\n",
       "    }\n",
       "\n",
       "    .dataframe thead th {\n",
       "        text-align: right;\n",
       "    }\n",
       "</style>\n",
       "<table border=\"1\" class=\"dataframe\">\n",
       "  <thead>\n",
       "    <tr style=\"text-align: right;\">\n",
       "      <th></th>\n",
       "      <th>Class</th>\n",
       "      <th>Recency</th>\n",
       "      <th>Frequency</th>\n",
       "      <th>Monetary</th>\n",
       "    </tr>\n",
       "  </thead>\n",
       "  <tbody>\n",
       "    <tr>\n",
       "      <th>0</th>\n",
       "      <td>5</td>\n",
       "      <td>629.3</td>\n",
       "      <td>3.1</td>\n",
       "      <td>33097.6</td>\n",
       "    </tr>\n",
       "    <tr>\n",
       "      <th>1</th>\n",
       "      <td>4</td>\n",
       "      <td>479.5</td>\n",
       "      <td>4.0</td>\n",
       "      <td>41378.3</td>\n",
       "    </tr>\n",
       "    <tr>\n",
       "      <th>2</th>\n",
       "      <td>3</td>\n",
       "      <td>431.7</td>\n",
       "      <td>6.3</td>\n",
       "      <td>66780.6</td>\n",
       "    </tr>\n",
       "    <tr>\n",
       "      <th>3</th>\n",
       "      <td>2</td>\n",
       "      <td>383.7</td>\n",
       "      <td>10.2</td>\n",
       "      <td>108170.5</td>\n",
       "    </tr>\n",
       "    <tr>\n",
       "      <th>4</th>\n",
       "      <td>1</td>\n",
       "      <td>398.4</td>\n",
       "      <td>61.2</td>\n",
       "      <td>451678.9</td>\n",
       "    </tr>\n",
       "  </tbody>\n",
       "</table>\n",
       "</div>"
      ],
      "text/plain": [
       "   Class  Recency  Frequency  Monetary\n",
       "0      5    629.3        3.1   33097.6\n",
       "1      4    479.5        4.0   41378.3\n",
       "2      3    431.7        6.3   66780.6\n",
       "3      2    383.7       10.2  108170.5\n",
       "4      1    398.4       61.2  451678.9"
      ]
     },
     "execution_count": 65,
     "metadata": {},
     "output_type": "execute_result"
    }
   ],
   "source": [
    "temp_var = temp_var.reset_index()\n",
    "temp_var = temp_var.rename(columns = {'index':'Class'})\n",
    "temp_var"
   ]
  },
  {
   "cell_type": "code",
   "execution_count": 66,
   "id": "594648f5",
   "metadata": {
    "colab": {
     "base_uri": "https://localhost:8080/",
     "height": 471
    },
    "executionInfo": {
     "elapsed": 51,
     "status": "ok",
     "timestamp": 1679382811465,
     "user": {
      "displayName": "한기혁",
      "userId": "18343953987471850827"
     },
     "user_tz": -540
    },
    "id": "qwq16rjhvQ-_",
    "outputId": "4c0c5a2a-0b86-4889-d8ea-838e09de790d"
   },
   "outputs": [
    {
     "data": {
      "image/png": "[encoded data removed]",
      "text/plain": [
       "<Figure size 640x480 with 1 Axes>"
      ]
     },
     "metadata": {},
     "output_type": "display_data"
    }
   ],
   "source": [
    "ax = sns.barplot(data=temp_var, x='Class', y='Recency')\n",
    "containers = ax.containers[0]\n",
    "ax.bar_label(containers, labels=[f'{x:,.0f}' for x in containers.datavalues], label_type='center')\n",
    "plt.title('Recency By Class')\n",
    "plt.show()"
   ]
  },
  {
   "cell_type": "code",
   "execution_count": 67,
   "id": "f98fef7b",
   "metadata": {
    "colab": {
     "base_uri": "https://localhost:8080/",
     "height": 471
    },
    "executionInfo": {
     "elapsed": 51,
     "status": "ok",
     "timestamp": 1679382811466,
     "user": {
      "displayName": "한기혁",
      "userId": "18343953987471850827"
     },
     "user_tz": -540
    },
    "id": "YjkNITKbvRB0",
    "outputId": "f78312ac-53b6-4f51-f788-a7a9d5c475b0"
   },
   "outputs": [
    {
     "data": {
      "image/png": "[encoded data removed]",
      "text/plain": [
       "<Figure size 640x480 with 1 Axes>"
      ]
     },
     "metadata": {},
     "output_type": "display_data"
    }
   ],
   "source": [
    "ax = sns.barplot(data=temp_var, x='Class', y='Frequency')\n",
    "containers = ax.containers[0]\n",
    "ax.bar_label(containers, labels=[f'{x:,.0f}' for x in containers.datavalues], label_type='center')\n",
    "plt.title('Frequency By Class')\n",
    "plt.show()"
   ]
  },
  {
   "cell_type": "code",
   "execution_count": 68,
   "id": "3dce4dbf",
   "metadata": {
    "colab": {
     "base_uri": "https://localhost:8080/",
     "height": 471
    },
    "executionInfo": {
     "elapsed": 48,
     "status": "ok",
     "timestamp": 1679382811466,
     "user": {
      "displayName": "한기혁",
      "userId": "18343953987471850827"
     },
     "user_tz": -540
    },
    "id": "cJ1yB7NGvREg",
    "outputId": "d542e5ff-8aff-4503-c29e-60b2103552fe"
   },
   "outputs": [
    {
     "data": {
      "image/png": "[encoded data removed]",
      "text/plain": [
       "<Figure size 640x480 with 1 Axes>"
      ]
     },
     "metadata": {},
     "output_type": "display_data"
    }
   ],
   "source": [
    "ax = sns.barplot(data=temp_var, x='Class', y='Monetary')\n",
    "containers = ax.containers[0]\n",
    "ax.bar_label(containers, labels=[f'{x:,.0f}' for x in containers.datavalues], label_type='center')\n",
    "plt.title('Monetary By Class')\n",
    "plt.show()"
   ]
  },
  {
   "cell_type": "code",
   "execution_count": 69,
   "id": "28a3e62c",
   "metadata": {
    "colab": {
     "base_uri": "https://localhost:8080/",
     "height": 645
    },
    "executionInfo": {
     "elapsed": 44,
     "status": "ok",
     "timestamp": 1679382811467,
     "user": {
      "displayName": "한기혁",
      "userId": "18343953987471850827"
     },
     "user_tz": -540
    },
    "id": "MeugCjMPvbww",
    "outputId": "8153e616-c231-4389-ab2c-f45f880ae5b1"
   },
   "outputs": [
    {
     "data": {
      "text/html": [
       "<div>\n",
       "<style scoped>\n",
       "    .dataframe tbody tr th:only-of-type {\n",
       "        vertical-align: middle;\n",
       "    }\n",
       "\n",
       "    .dataframe tbody tr th {\n",
       "        vertical-align: top;\n",
       "    }\n",
       "\n",
       "    .dataframe thead th {\n",
       "        text-align: right;\n",
       "    }\n",
       "</style>\n",
       "<table border=\"1\" class=\"dataframe\">\n",
       "  <thead>\n",
       "    <tr style=\"text-align: right;\">\n",
       "      <th></th>\n",
       "      <th>고객</th>\n",
       "      <th>Recency</th>\n",
       "      <th>Frequency</th>\n",
       "      <th>Monetary</th>\n",
       "      <th>R_score</th>\n",
       "      <th>F_score</th>\n",
       "      <th>M_score</th>\n",
       "      <th>RFM_score</th>\n",
       "      <th>Class</th>\n",
       "    </tr>\n",
       "  </thead>\n",
       "  <tbody>\n",
       "    <tr>\n",
       "      <th>70</th>\n",
       "      <td>customer229550</td>\n",
       "      <td>441</td>\n",
       "      <td>97</td>\n",
       "      <td>339500</td>\n",
       "      <td>78.40</td>\n",
       "      <td>64.79</td>\n",
       "      <td>29.64</td>\n",
       "      <td>57.61</td>\n",
       "      <td>1</td>\n",
       "    </tr>\n",
       "    <tr>\n",
       "      <th>114</th>\n",
       "      <td>customer241622</td>\n",
       "      <td>385</td>\n",
       "      <td>34</td>\n",
       "      <td>351500</td>\n",
       "      <td>91.99</td>\n",
       "      <td>22.93</td>\n",
       "      <td>30.67</td>\n",
       "      <td>48.53</td>\n",
       "      <td>1</td>\n",
       "    </tr>\n",
       "    <tr>\n",
       "      <th>119</th>\n",
       "      <td>customer243082</td>\n",
       "      <td>381</td>\n",
       "      <td>35</td>\n",
       "      <td>410000</td>\n",
       "      <td>92.96</td>\n",
       "      <td>23.59</td>\n",
       "      <td>35.67</td>\n",
       "      <td>50.74</td>\n",
       "      <td>1</td>\n",
       "    </tr>\n",
       "    <tr>\n",
       "      <th>161</th>\n",
       "      <td>customer258946</td>\n",
       "      <td>440</td>\n",
       "      <td>138</td>\n",
       "      <td>745000</td>\n",
       "      <td>78.65</td>\n",
       "      <td>92.03</td>\n",
       "      <td>64.31</td>\n",
       "      <td>78.33</td>\n",
       "      <td>1</td>\n",
       "    </tr>\n",
       "    <tr>\n",
       "      <th>308</th>\n",
       "      <td>customer300766</td>\n",
       "      <td>352</td>\n",
       "      <td>90</td>\n",
       "      <td>180000</td>\n",
       "      <td>100.00</td>\n",
       "      <td>60.13</td>\n",
       "      <td>16.00</td>\n",
       "      <td>58.71</td>\n",
       "      <td>1</td>\n",
       "    </tr>\n",
       "    <tr>\n",
       "      <th>354</th>\n",
       "      <td>customer319091</td>\n",
       "      <td>373</td>\n",
       "      <td>29</td>\n",
       "      <td>324000</td>\n",
       "      <td>94.90</td>\n",
       "      <td>19.60</td>\n",
       "      <td>28.31</td>\n",
       "      <td>47.60</td>\n",
       "      <td>1</td>\n",
       "    </tr>\n",
       "    <tr>\n",
       "      <th>417</th>\n",
       "      <td>customer338849</td>\n",
       "      <td>475</td>\n",
       "      <td>142</td>\n",
       "      <td>1162500</td>\n",
       "      <td>70.15</td>\n",
       "      <td>94.68</td>\n",
       "      <td>100.00</td>\n",
       "      <td>88.28</td>\n",
       "      <td>1</td>\n",
       "    </tr>\n",
       "    <tr>\n",
       "      <th>645</th>\n",
       "      <td>customer440840</td>\n",
       "      <td>499</td>\n",
       "      <td>150</td>\n",
       "      <td>525000</td>\n",
       "      <td>64.33</td>\n",
       "      <td>100.00</td>\n",
       "      <td>45.50</td>\n",
       "      <td>69.94</td>\n",
       "      <td>1</td>\n",
       "    </tr>\n",
       "    <tr>\n",
       "      <th>778</th>\n",
       "      <td>customer488580</td>\n",
       "      <td>456</td>\n",
       "      <td>41</td>\n",
       "      <td>468000</td>\n",
       "      <td>74.76</td>\n",
       "      <td>27.58</td>\n",
       "      <td>40.63</td>\n",
       "      <td>47.66</td>\n",
       "      <td>1</td>\n",
       "    </tr>\n",
       "    <tr>\n",
       "      <th>986</th>\n",
       "      <td>customer581973</td>\n",
       "      <td>373</td>\n",
       "      <td>67</td>\n",
       "      <td>502500</td>\n",
       "      <td>94.90</td>\n",
       "      <td>44.85</td>\n",
       "      <td>43.58</td>\n",
       "      <td>61.11</td>\n",
       "      <td>1</td>\n",
       "    </tr>\n",
       "    <tr>\n",
       "      <th>1012</th>\n",
       "      <td>customer622319</td>\n",
       "      <td>431</td>\n",
       "      <td>31</td>\n",
       "      <td>464000</td>\n",
       "      <td>80.83</td>\n",
       "      <td>20.93</td>\n",
       "      <td>40.28</td>\n",
       "      <td>47.35</td>\n",
       "      <td>1</td>\n",
       "    </tr>\n",
       "    <tr>\n",
       "      <th>1080</th>\n",
       "      <td>customer654178</td>\n",
       "      <td>352</td>\n",
       "      <td>25</td>\n",
       "      <td>280300</td>\n",
       "      <td>100.00</td>\n",
       "      <td>16.95</td>\n",
       "      <td>24.58</td>\n",
       "      <td>47.18</td>\n",
       "      <td>1</td>\n",
       "    </tr>\n",
       "    <tr>\n",
       "      <th>1115</th>\n",
       "      <td>customer667032</td>\n",
       "      <td>464</td>\n",
       "      <td>100</td>\n",
       "      <td>874500</td>\n",
       "      <td>72.82</td>\n",
       "      <td>66.78</td>\n",
       "      <td>75.38</td>\n",
       "      <td>71.66</td>\n",
       "      <td>1</td>\n",
       "    </tr>\n",
       "    <tr>\n",
       "      <th>1229</th>\n",
       "      <td>customer744264</td>\n",
       "      <td>367</td>\n",
       "      <td>36</td>\n",
       "      <td>342400</td>\n",
       "      <td>96.36</td>\n",
       "      <td>24.26</td>\n",
       "      <td>29.89</td>\n",
       "      <td>50.17</td>\n",
       "      <td>1</td>\n",
       "    </tr>\n",
       "    <tr>\n",
       "      <th>1409</th>\n",
       "      <td>customer847542</td>\n",
       "      <td>353</td>\n",
       "      <td>26</td>\n",
       "      <td>346200</td>\n",
       "      <td>99.76</td>\n",
       "      <td>17.61</td>\n",
       "      <td>30.21</td>\n",
       "      <td>49.19</td>\n",
       "      <td>1</td>\n",
       "    </tr>\n",
       "    <tr>\n",
       "      <th>1546</th>\n",
       "      <td>customer903463</td>\n",
       "      <td>354</td>\n",
       "      <td>29</td>\n",
       "      <td>314900</td>\n",
       "      <td>99.51</td>\n",
       "      <td>19.60</td>\n",
       "      <td>27.54</td>\n",
       "      <td>48.88</td>\n",
       "      <td>1</td>\n",
       "    </tr>\n",
       "    <tr>\n",
       "      <th>1641</th>\n",
       "      <td>customer935817</td>\n",
       "      <td>355</td>\n",
       "      <td>28</td>\n",
       "      <td>296900</td>\n",
       "      <td>99.27</td>\n",
       "      <td>18.94</td>\n",
       "      <td>26.00</td>\n",
       "      <td>48.07</td>\n",
       "      <td>1</td>\n",
       "    </tr>\n",
       "    <tr>\n",
       "      <th>1680</th>\n",
       "      <td>customer948477</td>\n",
       "      <td>366</td>\n",
       "      <td>32</td>\n",
       "      <td>334900</td>\n",
       "      <td>96.60</td>\n",
       "      <td>21.60</td>\n",
       "      <td>29.25</td>\n",
       "      <td>49.15</td>\n",
       "      <td>1</td>\n",
       "    </tr>\n",
       "    <tr>\n",
       "      <th>1742</th>\n",
       "      <td>customer977070</td>\n",
       "      <td>352</td>\n",
       "      <td>33</td>\n",
       "      <td>319800</td>\n",
       "      <td>100.00</td>\n",
       "      <td>22.26</td>\n",
       "      <td>27.96</td>\n",
       "      <td>50.07</td>\n",
       "      <td>1</td>\n",
       "    </tr>\n",
       "  </tbody>\n",
       "</table>\n",
       "</div>"
      ],
      "text/plain": [
       "                  고객  Recency  Frequency  Monetary  R_score  F_score  M_score  \\\n",
       "70    customer229550      441         97    339500    78.40    64.79    29.64   \n",
       "114   customer241622      385         34    351500    91.99    22.93    30.67   \n",
       "119   customer243082      381         35    410000    92.96    23.59    35.67   \n",
       "161   customer258946      440        138    745000    78.65    92.03    64.31   \n",
       "308   customer300766      352         90    180000   100.00    60.13    16.00   \n",
       "354   customer319091      373         29    324000    94.90    19.60    28.31   \n",
       "417   customer338849      475        142   1162500    70.15    94.68   100.00   \n",
       "645   customer440840      499        150    525000    64.33   100.00    45.50   \n",
       "778   customer488580      456         41    468000    74.76    27.58    40.63   \n",
       "986   customer581973      373         67    502500    94.90    44.85    43.58   \n",
       "1012  customer622319      431         31    464000    80.83    20.93    40.28   \n",
       "1080  customer654178      352         25    280300   100.00    16.95    24.58   \n",
       "1115  customer667032      464        100    874500    72.82    66.78    75.38   \n",
       "1229  customer744264      367         36    342400    96.36    24.26    29.89   \n",
       "1409  customer847542      353         26    346200    99.76    17.61    30.21   \n",
       "1546  customer903463      354         29    314900    99.51    19.60    27.54   \n",
       "1641  customer935817      355         28    296900    99.27    18.94    26.00   \n",
       "1680  customer948477      366         32    334900    96.60    21.60    29.25   \n",
       "1742  customer977070      352         33    319800   100.00    22.26    27.96   \n",
       "\n",
       "      RFM_score Class  \n",
       "70        57.61     1  \n",
       "114       48.53     1  \n",
       "119       50.74     1  \n",
       "161       78.33     1  \n",
       "308       58.71     1  \n",
       "354       47.60     1  \n",
       "417       88.28     1  \n",
       "645       69.94     1  \n",
       "778       47.66     1  \n",
       "986       61.11     1  \n",
       "1012      47.35     1  \n",
       "1080      47.18     1  \n",
       "1115      71.66     1  \n",
       "1229      50.17     1  \n",
       "1409      49.19     1  \n",
       "1546      48.88     1  \n",
       "1641      48.07     1  \n",
       "1680      49.15     1  \n",
       "1742      50.07     1  "
      ]
     },
     "execution_count": 69,
     "metadata": {},
     "output_type": "execute_result"
    }
   ],
   "source": [
    "VIP_customer = RFM_data[RFM_data['Class']== 1]\n",
    "\n",
    "\n",
    "VIP_customer"
   ]
  },
  {
   "cell_type": "code",
   "execution_count": 70,
   "id": "8e1de2aa",
   "metadata": {
    "colab": {
     "base_uri": "https://localhost:8080/",
     "height": 437
    },
    "executionInfo": {
     "elapsed": 788,
     "status": "ok",
     "timestamp": 1679382812214,
     "user": {
      "displayName": "한기혁",
      "userId": "18343953987471850827"
     },
     "user_tz": -540
    },
    "id": "WB_B_0HSviDS",
    "outputId": "6dea079e-d079-46a8-fcb1-865b7bcca063"
   },
   "outputs": [
    {
     "data": {
      "image/png": "[encoded data removed]",
      "text/plain": [
       "<Figure size 640x480 with 1 Axes>"
      ]
     },
     "metadata": {},
     "output_type": "display_data"
    }
   ],
   "source": [
    "# 필요한 라이브러리를 호출합니다. \n",
    "from mpl_toolkits.mplot3d import Axes3D\n",
    "\n",
    "# 시각화를 위해 필요한 Figure와 ax를 정의합니다. \n",
    "fig=plt.figure()\n",
    "ax = fig.add_subplot(111, projection = '3d')\n",
    "\n",
    "# x축, y축, z축에 각 데이터를 할당합니다. \n",
    "x = RFM_data['R_score']\n",
    "y = RFM_data['F_score']\n",
    "z = RFM_data['M_score']\n",
    "\n",
    "# x축, y축, z축에 각 레이블을 부여합니다. . \n",
    "ax.set_xlabel('Recency')\n",
    "ax.set_ylabel('Frequency')\n",
    "ax.set_zlabel('Monetary')\n",
    "\n",
    "# 산포도 형태의 3차원 시각화를 수행합니다. \n",
    "# 이때 색깔은 x축을 기준으로 합니다. \n",
    "ax = ax.scatter(x,y,z, c=x)\n",
    "\n",
    "plt.title('RFM Score of All Customers')\n",
    "plt.show()"
   ]
  }
 ],
 "metadata": {
  "colab": {
   "provenance": []
  },
  "kernelspec": {
   "display_name": "Python 3 (ipykernel)",
   "language": "python",
   "name": "python3"
  },
  "language_info": {
   "codemirror_mode": {
    "name": "ipython",
    "version": 3
   },
   "file_extension": ".py",
   "mimetype": "text/x-python",
   "name": "python",
   "nbconvert_exporter": "python",
   "pygments_lexer": "ipython3",
   "version": "3.9.7"
  }
 },
 "nbformat": 4,
 "nbformat_minor": 5
}
