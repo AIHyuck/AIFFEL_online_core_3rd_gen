{
 "cells": [
  {
   "cell_type": "code",
   "execution_count": 6,
   "id": "caf27c49",
   "metadata": {},
   "outputs": [
    {
     "data": {
      "text/plain": [
       "(10, 20, 30, False, 'hello')"
      ]
     },
     "execution_count": 6,
     "metadata": {},
     "output_type": "execute_result"
    }
   ],
   "source": [
    "#2\n",
    "a=tuple([10,20,30])\n",
    "b=10,20,30,False,'hello'\n",
    "a\n",
    "b"
   ]
  },
  {
   "cell_type": "code",
   "execution_count": 2,
   "id": "fd2ed947",
   "metadata": {},
   "outputs": [
    {
     "name": "stdout",
     "output_type": "stream",
     "text": [
      "range(10, 31, 10)\n"
     ]
    }
   ],
   "source": [
    "print(range(10,31,10))"
   ]
  },
  {
   "cell_type": "code",
   "execution_count": 1,
   "id": "654ba61d",
   "metadata": {},
   "outputs": [
    {
     "data": {
      "text/plain": [
       "[10, 20, 30]"
      ]
     },
     "execution_count": 1,
     "metadata": {},
     "output_type": "execute_result"
    }
   ],
   "source": [
    "list(range(10, 31, 10))"
   ]
  },
  {
   "cell_type": "code",
   "execution_count": 7,
   "id": "e269d48c",
   "metadata": {},
   "outputs": [
    {
     "ename": "TypeError",
     "evalue": "tuple expected at most 1 argument, got 3",
     "output_type": "error",
     "traceback": [
      "\u001b[0;31m---------------------------------------------------------------------------\u001b[0m",
      "\u001b[0;31mTypeError\u001b[0m                                 Traceback (most recent call last)",
      "\u001b[0;32m/tmp/ipykernel_32/1428090196.py\u001b[0m in \u001b[0;36m<module>\u001b[0;34m\u001b[0m\n\u001b[0;32m----> 1\u001b[0;31m \u001b[0ma\u001b[0m\u001b[0;34m(\u001b[0m\u001b[0mtuple\u001b[0m\u001b[0;34m(\u001b[0m\u001b[0;34m-\u001b[0m\u001b[0;36m10\u001b[0m\u001b[0;34m,\u001b[0m\u001b[0;36m10\u001b[0m\u001b[0;34m,\u001b[0m\u001b[0;36m3\u001b[0m\u001b[0;34m)\u001b[0m\u001b[0;34m)\u001b[0m\u001b[0;34m\u001b[0m\u001b[0;34m\u001b[0m\u001b[0m\n\u001b[0m",
      "\u001b[0;31mTypeError\u001b[0m: tuple expected at most 1 argument, got 3"
     ]
    }
   ],
   "source": [
    "a(tuple(-10,10,3))"
   ]
  },
  {
   "cell_type": "code",
   "execution_count": 13,
   "id": "c4480f7d",
   "metadata": {},
   "outputs": [
    {
     "name": "stdout",
     "output_type": "stream",
     "text": [
      "range(-10, 10, 3)\n"
     ]
    },
    {
     "data": {
      "text/plain": [
       "range(-10, 10, 3)"
      ]
     },
     "execution_count": 13,
     "metadata": {},
     "output_type": "execute_result"
    }
   ],
   "source": [
    "a = list(range(10, 31, 10))\n",
    "a\n",
    "a = tuple(range(-10, 10, 3))\n",
    "a\n",
    "a = range(-10, 10, 3)\n",
    "a\n",
    "print(a)\n",
    "range(-10, 10, 3)"
   ]
  },
  {
   "cell_type": "code",
   "execution_count": 15,
   "id": "ee8d707c",
   "metadata": {},
   "outputs": [
    {
     "name": "stdout",
     "output_type": "stream",
     "text": [
      "[5, 3, 1, -1, -3, -5, -7, -9]\n"
     ]
    }
   ],
   "source": [
    "a=list(range(5,-10,-2))\n",
    "print(a)"
   ]
  },
  {
   "cell_type": "code",
   "execution_count": 2,
   "id": "e3782423",
   "metadata": {},
   "outputs": [
    {
     "name": "stdout",
     "output_type": "stream",
     "text": [
      "['연진', '동은', '도영']\n",
      "['연진', '동은']\n"
     ]
    }
   ],
   "source": [
    "a = ['연진','동은']\n",
    "a.append('도영')\n",
    "print(a)\n",
    "a.remove('도영')\n",
    "print(a)"
   ]
  },
  {
   "cell_type": "code",
   "execution_count": 3,
   "id": "1530c6a0",
   "metadata": {},
   "outputs": [
    {
     "name": "stdout",
     "output_type": "stream",
     "text": [
      "['연진', '현남', '동은', '도영']\n"
     ]
    }
   ],
   "source": [
    "a = ['연진','동은','도영']\n",
    "a.insert(1,'현남')\n",
    "print(a)"
   ]
  },
  {
   "cell_type": "code",
   "execution_count": 4,
   "id": "54b2fc23",
   "metadata": {},
   "outputs": [
    {
     "name": "stdout",
     "output_type": "stream",
     "text": [
      "['연진', '동은', '재준', '혜정', '사라']\n",
      "['재준', '혜정', '사라']\n"
     ]
    }
   ],
   "source": [
    "a = ['연진', '동은']\n",
    "b = ['재준', '혜정', '사라']\n",
    "a.extend(b)\n",
    "print(a)\n",
    "print(b)"
   ]
  },
  {
   "cell_type": "code",
   "execution_count": 5,
   "id": "4e36b108",
   "metadata": {},
   "outputs": [
    {
     "name": "stdout",
     "output_type": "stream",
     "text": [
      "['연진', '동은']\n",
      "['연진', '동은', '재준', '혜정', '사라']\n"
     ]
    }
   ],
   "source": [
    "a = ['연진','동은']\n",
    "b = ['재준','혜정','사라']\n",
    "c = []\n",
    "c.extend(a)\n",
    "print(c) # ['연진','동은'] 출력\n",
    "c.extend(b)\n",
    "print(c) # ['연진', '동은', '재준', '혜정','사라'] 출력"
   ]
  },
  {
   "cell_type": "code",
   "execution_count": 7,
   "id": "d8e8821e",
   "metadata": {},
   "outputs": [
    {
     "name": "stdout",
     "output_type": "stream",
     "text": [
      "리스트 a의 개수 즉 길이는 6\n",
      "리스트 a의 숫자들의 평균은 5.5\n"
     ]
    }
   ],
   "source": [
    "a = [3, 7, 4, 5, 6, 8]\n",
    "print('리스트 a의 개수 즉 길이는 '+str(len(a)))\n",
    "print('리스트 a의 숫자들의 평균은 '+str(sum(a)/len(a)))"
   ]
  },
  {
   "cell_type": "code",
   "execution_count": 33,
   "id": "24bddbd7",
   "metadata": {},
   "outputs": [
    {
     "name": "stdout",
     "output_type": "stream",
     "text": [
      "b : [1, 2, 3, 4, 5]\n",
      "c : ['a', 'b', 'c', 'd', 'e']\n",
      "d : [5, 'a']\n",
      "e : [1, 3, 5, 'b', 'd']\n",
      "f : [2, 4, 'a', 'c', 'e']\n"
     ]
    }
   ],
   "source": [
    "a = [1,2, 3, 4, 5, 'a', 'b', 'c', 'd', 'e']\n",
    "\n",
    "b = a[:5]\n",
    "print('b :',b)\n",
    "\n",
    "c = a[5:]\n",
    "print('c :',c)\n",
    "\n",
    "d = a[4:6]\n",
    "print('d :',d)\n",
    "\n",
    "e = a[::2]\n",
    "print('e :',e)\n",
    "\n",
    "f = a[1::2]\n",
    "print('f :',f)"
   ]
  },
  {
   "cell_type": "code",
   "execution_count": 31,
   "id": "bac0d6e1",
   "metadata": {},
   "outputs": [
    {
     "name": "stdout",
     "output_type": "stream",
     "text": [
      "['무성', '진환', '정은', '바롬']\n"
     ]
    }
   ],
   "source": [
    "a = ['바롬', '정은', '진환', '무성']\n",
    "b = a[::-1]\n",
    "print(b)"
   ]
  },
  {
   "cell_type": "code",
   "execution_count": 32,
   "id": "c23d6f15",
   "metadata": {},
   "outputs": [
    {
     "name": "stdout",
     "output_type": "stream",
     "text": [
      "현남 학생의 시험 점수는 95\n",
      "동은 학생의 시험 점수는 100\n",
      "도영 학생의 시험 점수는 98\n"
     ]
    }
   ],
   "source": [
    "a = [['현남', 95], ['동은', 100], ['도영', 98]]\n",
    "print(a[0][0],'학생의 시험 점수는', a[0][1])\n",
    "print(a[1][0],'학생의 시험 점수는', a[1][1])\n",
    "print(a[2][0],'학생의 시험 점수는', a[2][1])"
   ]
  }
 ],
 "metadata": {
  "kernelspec": {
   "display_name": "Python 3 (ipykernel)",
   "language": "python",
   "name": "python3"
  },
  "language_info": {
   "codemirror_mode": {
    "name": "ipython",
    "version": 3
   },
   "file_extension": ".py",
   "mimetype": "text/x-python",
   "name": "python",
   "nbconvert_exporter": "python",
   "pygments_lexer": "ipython3",
   "version": "3.9.7"
  }
 },
 "nbformat": 4,
 "nbformat_minor": 5
}
