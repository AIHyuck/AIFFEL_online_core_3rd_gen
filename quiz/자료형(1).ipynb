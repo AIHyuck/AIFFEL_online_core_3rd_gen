{
 "cells": [
  {
   "cell_type": "code",
   "execution_count": 1,
   "id": "3646c923",
   "metadata": {
    "scrolled": true
   },
   "outputs": [
    {
     "name": "stdout",
     "output_type": "stream",
     "text": [
      "makit \"code\"\n",
      "labshe's gone\n"
     ]
    }
   ],
   "source": [
    "a='''makit \"code\"\n",
    "labshe's gone'''\n",
    "print(a)"
   ]
  },
  {
   "cell_type": "code",
   "execution_count": 2,
   "id": "f40f7dca",
   "metadata": {},
   "outputs": [
    {
     "name": "stdout",
     "output_type": "stream",
     "text": [
      "30\n",
      "makitmakitmakit\n"
     ]
    }
   ],
   "source": [
    "a = 10\n",
    "b = 'makit'\n",
    "print(a * 3)\n",
    "print(b * 3)"
   ]
  },
  {
   "cell_type": "code",
   "execution_count": 5,
   "id": "c55525eb",
   "metadata": {},
   "outputs": [
    {
     "name": "stdout",
     "output_type": "stream",
     "text": [
      "30을 8로 나눈 몫은 3\n",
      "30을 8로 나눈 나머지는 6\n",
      "30을 8로 나눈 결과는 3.75\n"
     ]
    }
   ],
   "source": [
    "a=30//8\n",
    "b=30%8\n",
    "c=30/8\n",
    "print('30을 8로 나눈 몫은',a)\n",
    "print('30을 8로 나눈 나머지는',b)\n",
    "print('30을 8로 나눈 결과는',c)"
   ]
  }
 ],
 "metadata": {
  "kernelspec": {
   "display_name": "Python 3 (ipykernel)",
   "language": "python",
   "name": "python3"
  },
  "language_info": {
   "codemirror_mode": {
    "name": "ipython",
    "version": 3
   },
   "file_extension": ".py",
   "mimetype": "text/x-python",
   "name": "python",
   "nbconvert_exporter": "python",
   "pygments_lexer": "ipython3",
   "version": "3.9.7"
  }
 },
 "nbformat": 4,
 "nbformat_minor": 5
}
