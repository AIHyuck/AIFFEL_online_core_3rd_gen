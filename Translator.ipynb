{
 "cells": [
  {
   "cell_type": "code",
   "execution_count": 5,
   "id": "c3cf60f5",
   "metadata": {},
   "outputs": [
    {
     "name": "stdout",
     "output_type": "stream",
     "text": [
      "전체 샘플의 수 : 217975\n"
     ]
    },
    {
     "data": {
      "text/html": [
       "<div>\n",
       "<style scoped>\n",
       "    .dataframe tbody tr th:only-of-type {\n",
       "        vertical-align: middle;\n",
       "    }\n",
       "\n",
       "    .dataframe tbody tr th {\n",
       "        vertical-align: top;\n",
       "    }\n",
       "\n",
       "    .dataframe thead th {\n",
       "        text-align: right;\n",
       "    }\n",
       "</style>\n",
       "<table border=\"1\" class=\"dataframe\">\n",
       "  <thead>\n",
       "    <tr style=\"text-align: right;\">\n",
       "      <th></th>\n",
       "      <th>eng</th>\n",
       "      <th>fra</th>\n",
       "      <th>cc</th>\n",
       "    </tr>\n",
       "  </thead>\n",
       "  <tbody>\n",
       "    <tr>\n",
       "      <th>153292</th>\n",
       "      <td>We ate a nice meal and drank wine.</td>\n",
       "      <td>Nous avons mangé un bon repas et avons bu du vin.</td>\n",
       "      <td>CC-BY 2.0 (France) Attribution: tatoeba.org #5...</td>\n",
       "    </tr>\n",
       "    <tr>\n",
       "      <th>42792</th>\n",
       "      <td>Tom loves chocolate.</td>\n",
       "      <td>Tom adore le chocolat.</td>\n",
       "      <td>CC-BY 2.0 (France) Attribution: tatoeba.org #4...</td>\n",
       "    </tr>\n",
       "    <tr>\n",
       "      <th>132373</th>\n",
       "      <td>The computer is in the library.</td>\n",
       "      <td>L'ordinateur est à la bibliothèque.</td>\n",
       "      <td>CC-BY 2.0 (France) Attribution: tatoeba.org #9...</td>\n",
       "    </tr>\n",
       "    <tr>\n",
       "      <th>109611</th>\n",
       "      <td>Tom's parents weren't happy.</td>\n",
       "      <td>Les parents de Thomas n'étaient pas contents.</td>\n",
       "      <td>CC-BY 2.0 (France) Attribution: tatoeba.org #5...</td>\n",
       "    </tr>\n",
       "    <tr>\n",
       "      <th>207946</th>\n",
       "      <td>It was a fine day and there were no clouds in ...</td>\n",
       "      <td>C'était une belle journée et il n'y avait pas ...</td>\n",
       "      <td>CC-BY 2.0 (France) Attribution: tatoeba.org #2...</td>\n",
       "    </tr>\n",
       "  </tbody>\n",
       "</table>\n",
       "</div>"
      ],
      "text/plain": [
       "                                                      eng  \\\n",
       "153292                 We ate a nice meal and drank wine.   \n",
       "42792                                Tom loves chocolate.   \n",
       "132373                    The computer is in the library.   \n",
       "109611                       Tom's parents weren't happy.   \n",
       "207946  It was a fine day and there were no clouds in ...   \n",
       "\n",
       "                                                      fra  \\\n",
       "153292  Nous avons mangé un bon repas et avons bu du vin.   \n",
       "42792                              Tom adore le chocolat.   \n",
       "132373                L'ordinateur est à la bibliothèque.   \n",
       "109611      Les parents de Thomas n'étaient pas contents.   \n",
       "207946  C'était une belle journée et il n'y avait pas ...   \n",
       "\n",
       "                                                       cc  \n",
       "153292  CC-BY 2.0 (France) Attribution: tatoeba.org #5...  \n",
       "42792   CC-BY 2.0 (France) Attribution: tatoeba.org #4...  \n",
       "132373  CC-BY 2.0 (France) Attribution: tatoeba.org #9...  \n",
       "109611  CC-BY 2.0 (France) Attribution: tatoeba.org #5...  \n",
       "207946  CC-BY 2.0 (France) Attribution: tatoeba.org #2...  "
      ]
     },
     "execution_count": 5,
     "metadata": {},
     "output_type": "execute_result"
    }
   ],
   "source": [
    "import pandas as pd\n",
    "from tensorflow.keras.preprocessing.text import Tokenizer\n",
    "from tensorflow.keras.preprocessing.sequence import pad_sequences\n",
    "from tensorflow.keras.utils import to_categorical\n",
    "import numpy as np\n",
    "import os\n",
    "\n",
    "file_path = os.getenv(\"HOME\")+\"/aiffel/translator_seq2seq/data/fra.txt\"\n",
    "lines = pd.read_csv(file_path, names=[\"eng\", \"fra\", \"cc\"], sep=\"\\t\")\n",
    "print(\"전체 샘플의 수 :\",len(lines))\n",
    "lines.sample(5) #샘플 5개 출력"
   ]
  },
  {
   "cell_type": "code",
   "execution_count": 6,
   "id": "a6894fd0",
   "metadata": {},
   "outputs": [
    {
     "data": {
      "text/html": [
       "<div>\n",
       "<style scoped>\n",
       "    .dataframe tbody tr th:only-of-type {\n",
       "        vertical-align: middle;\n",
       "    }\n",
       "\n",
       "    .dataframe tbody tr th {\n",
       "        vertical-align: top;\n",
       "    }\n",
       "\n",
       "    .dataframe thead th {\n",
       "        text-align: right;\n",
       "    }\n",
       "</style>\n",
       "<table border=\"1\" class=\"dataframe\">\n",
       "  <thead>\n",
       "    <tr style=\"text-align: right;\">\n",
       "      <th></th>\n",
       "      <th>eng</th>\n",
       "      <th>fra</th>\n",
       "    </tr>\n",
       "  </thead>\n",
       "  <tbody>\n",
       "    <tr>\n",
       "      <th>31798</th>\n",
       "      <td>He went by bicycle.</td>\n",
       "      <td>Il y est allé en bicyclette.</td>\n",
       "    </tr>\n",
       "    <tr>\n",
       "      <th>30880</th>\n",
       "      <td>Breakfast is ready.</td>\n",
       "      <td>Le petit-déjeuner est prêt.</td>\n",
       "    </tr>\n",
       "    <tr>\n",
       "      <th>5275</th>\n",
       "      <td>I want a job.</td>\n",
       "      <td>Je veux un boulot.</td>\n",
       "    </tr>\n",
       "    <tr>\n",
       "      <th>5122</th>\n",
       "      <td>I handled it.</td>\n",
       "      <td>Je m'en suis sortie.</td>\n",
       "    </tr>\n",
       "    <tr>\n",
       "      <th>10503</th>\n",
       "      <td>Get off my car.</td>\n",
       "      <td>Descendez de ma voiture.</td>\n",
       "    </tr>\n",
       "  </tbody>\n",
       "</table>\n",
       "</div>"
      ],
      "text/plain": [
       "                       eng                           fra\n",
       "31798  He went by bicycle.  Il y est allé en bicyclette.\n",
       "30880  Breakfast is ready.   Le petit-déjeuner est prêt.\n",
       "5275         I want a job.            Je veux un boulot.\n",
       "5122         I handled it.          Je m'en suis sortie.\n",
       "10503      Get off my car.      Descendez de ma voiture."
      ]
     },
     "execution_count": 6,
     "metadata": {},
     "output_type": "execute_result"
    }
   ],
   "source": [
    "num_samples = 33000\n",
    "\n",
    "lines = lines[['eng', 'fra']][:num_samples] # 3.3만개 샘플 사용\n",
    "lines.sample(5)"
   ]
  },
  {
   "cell_type": "markdown",
   "id": "9a9488da",
   "metadata": {},
   "source": [
    "### Step 1. 정제, 정규화, 전처리 (영어, 프랑스어 모두!)"
   ]
  },
  {
   "cell_type": "code",
   "execution_count": 7,
   "id": "d8314aab",
   "metadata": {},
   "outputs": [],
   "source": [
    "import re\n",
    "import unicodedata\n",
    "# def text_pre_proc_ex(text):\n",
    "#     text = text.strip()    ## strip() : 인자는 제거할 문자 지정. 지정 하지 않은 기본값은 문자열의 선행 후행 공백 제거\n",
    "#     text = re.sub(r\"[^-,.?!A-zÀ-ú\\s]\", \"\", text)    ## 영문자, 구두점과 공백을 제외하고 모두 제거\n",
    "#     text = text.strip()\n",
    "#     text = re.sub(r\"^ +\", \"\", text)    ## 1칸 초과하는 공백 제거 (첫번째 공백은 유지, 이어서 두번째 부터 공백 나타나면 제거)\n",
    "#     text = text.strip()\n",
    "#     return text\n",
    "\n",
    "def to_ascii(s):\n",
    "    # 프랑스어 악센트(accent) 삭제\n",
    "    # 예시 : 'déjà diné' -> deja dine\n",
    "    return ''.join(c for c in unicodedata.normalize('NFD', s) if unicodedata.category(c) != 'Mn')\n",
    "\n",
    "def preprocess_sentence(sent):\n",
    "    # 악센트 제거 함수 호출\n",
    "    sent = to_ascii(sent.lower())\n",
    "\n",
    "    # 단어와 구두점 사이에 공백 추가.\n",
    "    # ex) \"I am a student.\" => \"I am a student .\"\n",
    "    sent = re.sub(r\"([?.!,¿])\", r\" \\1\", sent)\n",
    "\n",
    "    # (a-z, A-Z, \".\", \"?\", \"!\", \",\") 이들을 제외하고는 전부 공백으로 변환.\n",
    "    sent = re.sub(r\"[^a-zA-Z!.?]+\", r\" \", sent)\n",
    "\n",
    "    # 소문자로 변경\n",
    "    sent = sent.lower()\n",
    "\n",
    "    # 다수 개의 공백을 하나의 공백으로 치환\n",
    "    sent = re.sub(r\"\\s+\", \" \", sent)\n",
    "    \n",
    "    return sent"
   ]
  },
  {
   "cell_type": "code",
   "execution_count": 8,
   "id": "9905334b",
   "metadata": {},
   "outputs": [
    {
     "name": "stdout",
     "output_type": "stream",
     "text": [
      "전처리 전 영어 문장 : Have you had dinner?\n",
      "전처리 후 영어 문장 : have you had dinner ?\n",
      "전처리 전 프랑스어 문장 : Avez-vous déjà diné?\n",
      "전처리 후 프랑스어 문장 : avez vous deja dine ?\n"
     ]
    }
   ],
   "source": [
    "eng_sent = u\"Have you had dinner?\"\n",
    "fra_sent = u\"Avez-vous déjà diné?\"\n",
    "\n",
    "print(\"전처리 전 영어 문장 :\", eng_sent)\n",
    "print(\"전처리 후 영어 문장 :\",preprocess_sentence(eng_sent))\n",
    "print(\"전처리 전 프랑스어 문장 :\", fra_sent)\n",
    "print(\"전처리 후 프랑스어 문장 :\", preprocess_sentence(fra_sent))"
   ]
  },
  {
   "cell_type": "markdown",
   "id": "e7d9c9a0",
   "metadata": {},
   "source": [
    "### Step 2. 디코더의 문장에 시작 토큰과 종료 토큰을 넣어주세요."
   ]
  },
  {
   "cell_type": "code",
   "execution_count": 9,
   "id": "d92ddfb9",
   "metadata": {},
   "outputs": [],
   "source": [
    "def load_preprocessed_data():\n",
    "\n",
    "    encoder_input, decoder_input, decoder_target = [], [], []\n",
    "\n",
    "    with open(file_path, \"r\") as lines:\n",
    "    \n",
    "        for i, line in enumerate(lines):\n",
    "            # source 데이터와 target 데이터 분리\n",
    "            src_line, tar_line, _ = line.strip().split(\"\\t\")\n",
    "\n",
    "            # source 데이터 전처리\n",
    "            src_line = [w for w in preprocess_sentence(src_line).split()]\n",
    "\n",
    "            # target 데이터 전처리\n",
    "            tar_line = preprocess_sentence(tar_line)\n",
    "            tar_line_in = [w for w in (\"<sos> \" + tar_line).split()]\n",
    "            tar_line_out = [w for w in (tar_line + \" <eos>\").split()]\n",
    "\n",
    "            encoder_input.append(src_line)\n",
    "            decoder_input.append(tar_line_in)\n",
    "            decoder_target.append(tar_line_out)\n",
    "\n",
    "            if i == num_samples - 1:\n",
    "                break\n",
    "\n",
    "    return encoder_input, decoder_input, decoder_target"
   ]
  },
  {
   "cell_type": "code",
   "execution_count": 10,
   "id": "bae87141",
   "metadata": {},
   "outputs": [
    {
     "name": "stdout",
     "output_type": "stream",
     "text": [
      "인코더의 입력1 : [['go', '.'], ['go', '.'], ['go', '.']]\n",
      "\n",
      "디코더의 입력1 : [['<sos>', 'va', '!'], ['<sos>', 'marche', '.'], ['<sos>', 'en', 'route', '!']]\n",
      "\n",
      "디코더의 라벨1 : [['va', '!', '<eos>'], ['marche', '.', '<eos>'], ['en', 'route', '!', '<eos>']]\n",
      "\n",
      "\n",
      "인코더의 입력2 : [['i', 'want', 'to', 'see', 'that', '.'], ['i', 'want', 'to', 'see', 'them', '.'], ['i', 'want', 'to', 'see', 'this', '.']]\n",
      "\n",
      "디코더의 입력2 : [['<sos>', 'je', 'veux', 'voir', 'ca', '.'], ['<sos>', 'je', 'veux', 'les', 'voir', '.'], ['<sos>', 'je', 'veux', 'voir', 'ceci', '.']]\n",
      "\n",
      "디코더의 라벨2 : [['je', 'veux', 'voir', 'ca', '.', '<eos>'], ['je', 'veux', 'les', 'voir', '.', '<eos>'], ['je', 'veux', 'voir', 'ceci', '.', '<eos>']]\n"
     ]
    }
   ],
   "source": [
    "sents_eng_in, sents_fra_in, sents_fra_out = load_preprocessed_data()\n",
    "\n",
    "print(\"인코더의 입력1 :\",sents_eng_in[:3])\n",
    "print()\n",
    "print(\"디코더의 입력1 :\",sents_fra_in[:3])\n",
    "print()\n",
    "print(\"디코더의 라벨1 :\",sents_fra_out[:3])\n",
    "print()\n",
    "print()\n",
    "print(\"인코더의 입력2 :\",sents_eng_in[-3:])\n",
    "print()\n",
    "print(\"디코더의 입력2 :\",sents_fra_in[-3:])\n",
    "print()\n",
    "print(\"디코더의 라벨2 :\",sents_fra_out[-3:])"
   ]
  },
  {
   "cell_type": "markdown",
   "id": "71bf1643",
   "metadata": {},
   "source": [
    "### Step 3. 케라스의 토크나이저로 텍스트를 숫자로 바꿔보세요."
   ]
  },
  {
   "cell_type": "code",
   "execution_count": 11,
   "id": "ec2d02f8",
   "metadata": {},
   "outputs": [],
   "source": [
    "## 정수 인코딩과 패딩 - Eng\n",
    "tokenizer_eng = Tokenizer(filters=\"\", lower=False)\n",
    "\n",
    "tokenizer_eng.fit_on_texts(sents_eng_in)\n",
    "encoder_input = tokenizer_eng.texts_to_sequences(sents_eng_in)\n",
    "encoder_input = pad_sequences(encoder_input, padding=\"post\")\n",
    "\n",
    "## 정수 인코딩과 패딩 - Fra\n",
    "tokenizer_fra = Tokenizer(filters=\"\", lower=False)\n",
    "tokenizer_fra.fit_on_texts(sents_fra_in)\n",
    "tokenizer_fra.fit_on_texts(sents_fra_out)\n",
    "\n",
    "decoder_input = tokenizer_fra.texts_to_sequences(sents_fra_in)\n",
    "decoder_input = pad_sequences(decoder_input, padding=\"post\")\n",
    "\n",
    "decoder_target = tokenizer_fra.texts_to_sequences(sents_fra_out)\n",
    "decoder_target = pad_sequences(decoder_target, padding=\"post\")"
   ]
  },
  {
   "cell_type": "code",
   "execution_count": 12,
   "id": "4a2d8118",
   "metadata": {},
   "outputs": [
    {
     "name": "stdout",
     "output_type": "stream",
     "text": [
      "인코더의 입력의 크기(shape) : (33000, 7)\n",
      "디코더의 입력의 크기(shape) : (33000, 16)\n",
      "디코더의 레이블의 크기(shape) : (33000, 16)\n"
     ]
    }
   ],
   "source": [
    "print(\"인코더의 입력의 크기(shape) :\",encoder_input.shape)\n",
    "print(\"디코더의 입력의 크기(shape) :\",decoder_input.shape)\n",
    "print(\"디코더의 레이블의 크기(shape) :\",decoder_target.shape)"
   ]
  },
  {
   "cell_type": "code",
   "execution_count": 13,
   "id": "cd7680ab",
   "metadata": {},
   "outputs": [
    {
     "name": "stdout",
     "output_type": "stream",
     "text": [
      "영어 단어장의 크기 : 4516\n",
      "프랑스어 단어장의 크기 : 7907\n"
     ]
    }
   ],
   "source": [
    "\n",
    "eng_vocab_size = len(tokenizer_eng.word_index) + 1\n",
    "fra_vocab_size = len(tokenizer_fra.word_index) + 1\n",
    "\n",
    "print(\"영어 단어장의 크기 :\", eng_vocab_size)\n",
    "print(\"프랑스어 단어장의 크기 :\", fra_vocab_size)\n"
   ]
  },
  {
   "cell_type": "code",
   "execution_count": 14,
   "id": "e73d2ddf",
   "metadata": {},
   "outputs": [
    {
     "name": "stdout",
     "output_type": "stream",
     "text": [
      "영어 시퀀스의 최대 길이 : 7\n",
      "프랑스어 시퀀스의 최대 길이 : 16\n"
     ]
    }
   ],
   "source": [
    "max_eng_seq_len = max([len(line) for line in encoder_input])\n",
    "max_fra_seq_len = max([len(line) for line in decoder_target])\n",
    "\n",
    "print(\"영어 시퀀스의 최대 길이 :\", max_eng_seq_len)\n",
    "print(\"프랑스어 시퀀스의 최대 길이 :\", max_fra_seq_len)"
   ]
  },
  {
   "cell_type": "code",
   "execution_count": 15,
   "id": "f2fffdbe",
   "metadata": {},
   "outputs": [
    {
     "name": "stdout",
     "output_type": "stream",
     "text": [
      "전체 샘플의 수 : 33000\n",
      "영어 단어장의 크기 : 4516\n",
      "프랑스어 단어장의 크기 : 7907\n",
      "영어 시퀀스의 최대 길이 : 7\n",
      "프랑스어 시퀀스의 최대 길이 : 16\n"
     ]
    }
   ],
   "source": [
    "print(\"전체 샘플의 수 :\",len(lines))\n",
    "print(\"영어 단어장의 크기 :\", eng_vocab_size)\n",
    "print(\"프랑스어 단어장의 크기 :\", fra_vocab_size)\n",
    "print(\"영어 시퀀스의 최대 길이 :\", max_eng_seq_len)\n",
    "print(\"프랑스어 시퀀스의 최대 길이 :\", max_fra_seq_len)"
   ]
  },
  {
   "cell_type": "code",
   "execution_count": 16,
   "id": "1368f0e4",
   "metadata": {},
   "outputs": [],
   "source": [
    "eng2idx = tokenizer_eng.word_index\n",
    "idx2eng = tokenizer_eng.index_word\n",
    "fra2idx = tokenizer_fra.word_index\n",
    "idx2fra = tokenizer_fra.index_word"
   ]
  },
  {
   "cell_type": "code",
   "execution_count": 17,
   "id": "21e894f7",
   "metadata": {},
   "outputs": [
    {
     "name": "stdout",
     "output_type": "stream",
     "text": [
      "np.max(indices) : 32999\n",
      "np.min(indices) : 0\n",
      "랜덤 시퀀스 : [16665 24673 16145 ...  7566  5939 31207]\n"
     ]
    }
   ],
   "source": [
    "indices = np.arange(encoder_input.shape[0])\n",
    "np.random.shuffle(indices)\n",
    "print(\"np.max(indices) :\", np.max(indices))\n",
    "print(\"np.min(indices) :\", np.min(indices))\n",
    "print(\"랜덤 시퀀스 :\", indices)"
   ]
  },
  {
   "cell_type": "code",
   "execution_count": 18,
   "id": "38646568",
   "metadata": {},
   "outputs": [],
   "source": [
    "encoder_input = encoder_input[indices]\n",
    "decoder_input = decoder_input[indices]\n",
    "decoder_target = decoder_target[indices]"
   ]
  },
  {
   "cell_type": "code",
   "execution_count": 19,
   "id": "e17d06a7",
   "metadata": {},
   "outputs": [
    {
     "name": "stdout",
     "output_type": "stream",
     "text": [
      "encoder_input[12345] : [   2   46    9 4499    1    0    0]\n",
      "decoder_input[12345] : [   2   11   14   59   36   32 7868    1    0    0    0    0    0    0\n",
      "    0    0]\n",
      "decoder_target[12345] : [  11   14   59   36   32 7868    1    3    0    0    0    0    0    0\n",
      "    0    0]\n"
     ]
    }
   ],
   "source": [
    "print(\"encoder_input[12345] :\", encoder_input[12345])\n",
    "print(\"decoder_input[12345] :\", decoder_input[12345])\n",
    "print(\"decoder_target[12345] :\", decoder_target[12345])"
   ]
  },
  {
   "cell_type": "code",
   "execution_count": 20,
   "id": "a0044b38",
   "metadata": {},
   "outputs": [
    {
     "name": "stdout",
     "output_type": "stream",
     "text": [
      "검증 데이터의 개수 : 3000\n"
     ]
    }
   ],
   "source": [
    "\n",
    "n_of_val = int(3000)\n",
    "print(\"검증 데이터의 개수 :\", n_of_val)"
   ]
  },
  {
   "cell_type": "code",
   "execution_count": 21,
   "id": "b7eaa7f7",
   "metadata": {},
   "outputs": [],
   "source": [
    "encoder_input_train = encoder_input[:-n_of_val]\n",
    "decoder_input_train = decoder_input[:-n_of_val]\n",
    "decoder_target_train = decoder_target[:-n_of_val]\n",
    "\n",
    "encoder_input_test = encoder_input[-n_of_val:]\n",
    "decoder_input_test = decoder_input[-n_of_val:]\n",
    "decoder_target_test = decoder_target[-n_of_val:]"
   ]
  },
  {
   "cell_type": "code",
   "execution_count": 22,
   "id": "bb151a51",
   "metadata": {},
   "outputs": [
    {
     "name": "stdout",
     "output_type": "stream",
     "text": [
      "encoder_input_train.shape : (30000, 7)\n",
      "decoder_input_train.shape : (30000, 16)\n",
      "decoder_target_train.shape : (30000, 16)\n",
      "\n",
      "encoder_input_test.shape : (3000, 7)\n",
      "decoder_input_test.shape : (3000, 16)\n",
      "decoder_target_test.shape : (3000, 16)\n"
     ]
    }
   ],
   "source": [
    "print(\"encoder_input_train.shape :\", encoder_input_train.shape)\n",
    "print(\"decoder_input_train.shape :\", decoder_input_train.shape)\n",
    "print(\"decoder_target_train.shape :\", decoder_target_train.shape)\n",
    "print()\n",
    "print(\"encoder_input_test.shape :\", encoder_input_test.shape)\n",
    "print(\"decoder_input_test.shape :\", decoder_input_test.shape)\n",
    "print(\"decoder_target_test.shape :\", decoder_target_test.shape)"
   ]
  },
  {
   "cell_type": "markdown",
   "id": "8deabe1e",
   "metadata": {},
   "source": [
    "### Step 4. 임베딩 층(Embedding layer) 사용하기"
   ]
  },
  {
   "cell_type": "code",
   "execution_count": 23,
   "id": "14ae84b6",
   "metadata": {
    "scrolled": true
   },
   "outputs": [],
   "source": [
    "# from tensorflow.keras.layers import Input, Embedding, Masking\n",
    "\n",
    "# # 인코더에서 사용할 임베딩 층 사용 예시\n",
    "# encoder_inputs = Input(shape=(None,))\n",
    "# enc_emb =  Embedding(단어장의 크기, 임베딩 벡터의 차원)(encoder_inputs)\n",
    "# encoder_lstm = LSTM(hidden state의 크기, return_state=True)\n",
    "# encoder_outputs, state_h, state_c = encoder_lstm(enc_emb)"
   ]
  },
  {
   "cell_type": "markdown",
   "id": "212c1d74",
   "metadata": {},
   "source": [
    "### Step 5. 모델 구현하기"
   ]
  },
  {
   "cell_type": "code",
   "execution_count": 24,
   "id": "fdb45a4b",
   "metadata": {},
   "outputs": [],
   "source": [
    "from tensorflow.keras.layers import Input, LSTM, Embedding, Dense, Masking\n",
    "from tensorflow.keras.models import Model\n",
    "\n",
    "embedding_dim = 64\n",
    "hidden_units = 64"
   ]
  },
  {
   "cell_type": "code",
   "execution_count": 25,
   "id": "af20861d",
   "metadata": {},
   "outputs": [],
   "source": [
    "## ━━━━━━━━━━━━━━━━━━━━━━━━━━━━━━━━━━\n",
    "##  인코더\n",
    "## ━━━━━━━━━━━━━━━━━━━━━━━━━━━━━━━━━━\n",
    "\n",
    "## 입력 텐서. → 입력 문장을 저장하게 될 변수 텐서\n",
    "encoder_inputs = Input(shape=(None,))\n",
    "\n",
    "## 인코더용 임베딩 층. 입력텐서가 들어간다.\n",
    "encoder_embed = Embedding(eng_vocab_size, embedding_dim)(encoder_inputs) \n",
    "\n",
    "## 패딩 (0)을 연산에서 제외.\n",
    "encoder_mask = Masking(mask_value=0.0)(encoder_embed) \n",
    "\n",
    "## hidden_units 만큼의 hidden_size 를 가지는(LSTM 의 수용력을 의미) LSTM 셀을 만든다.\n",
    "## return_state=True 지정 → hidden state & cell state 를 리턴 받을 수 있도록 한다.\n",
    "encoder_lstm = LSTM(units=hidden_units, return_state=True)\n",
    "\n",
    "## 디코더로 전달할 hidden state, cell state를 리턴. encoder_outputs은 여기서는 불필요.\n",
    "encoder_outputs, state_h, state_c = encoder_lstm(encoder_mask) \n",
    "\n",
    "## 인코더의 hidden state와 cell state를 다음 time step으로 전달하기 위해서 별도 저장.\n",
    "## → 디코더에 전달\n",
    "encoder_states = [state_h, state_c]"
   ]
  },
  {
   "cell_type": "code",
   "execution_count": 26,
   "id": "cacdbf45",
   "metadata": {},
   "outputs": [],
   "source": [
    "## ━━━━━━━━━━━━━━━━━━━━━━━━━━━━━━━━━━\n",
    "##  디코더\n",
    "## ━━━━━━━━━━━━━━━━━━━━━━━━━━━━━━━━━━\n",
    "\n",
    "## 입력 텐서\n",
    "decoder_inputs = Input(shape=(None,))\n",
    "\n",
    "## 디코더용 임베딩 층. 입력텐서가 들어간다.\n",
    "decoder_embed_layer = Embedding(fra_vocab_size, hidden_units)\n",
    "decoder_embed = decoder_embed_layer(decoder_inputs)\n",
    "\n",
    "## 패딩 (0)을 연산에서 제외.\n",
    "decoder_mask = Masking(mask_value=0.0)(decoder_embed)\n",
    "\n",
    "## hidden_units 만큼의 hidden_size 를 가지는(LSTM 의 수용력을 의미) LSTM 셀을 만든다.\n",
    "## 모든 시점에 대해서 단어를 예측하기 위해 return_sequences=True 지정.\n",
    "## 상태값 리턴을 위해 return_state=True 지정.\n",
    "decoder_lstm = LSTM(hidden_units, return_sequences=True, return_state=True) \n",
    "\n",
    "## 디코더 LSTM 셀의 초기 은닉 상태(initial_state)에 인코더에서의 은닉 상태를 사용하도록 지정\n",
    "## → 이전에 저장한 인코더의 마지막 time step 의 hidden state & cell state 를 LSTM 셀의 초기 상태로\n",
    "decoder_outputs, _, _ = decoder_lstm(decoder_mask, initial_state=encoder_states)\n",
    "\n",
    "## 모든 시점의 결과에 대해서 소프트맥스 함수를 사용한 출력층을 통해 단어 예측\n",
    "## Dense의 인자로 프랑스어 단어장의 크기. 활성화 함수로는 소프트맥스 함수 지정.\n",
    "## → seq2seq 디코더는 기본적으로 각 시점마다 다중 클래스 분류 문제를 풀고 있다.\n",
    "## 　 매 time step마다의 다중 클래스 분류 문제이므로,\n",
    "## 　 프랑스어 단어 집합의 크기(fra_vocab_size)의 선택지으로부터 1개 단어 선택하도록 구성.\n",
    "decoder_dense = Dense(fra_vocab_size, activation='softmax')\n",
    "decoder_outputs = decoder_dense(decoder_outputs)"
   ]
  },
  {
   "cell_type": "code",
   "execution_count": 27,
   "id": "73ece13f",
   "metadata": {},
   "outputs": [
    {
     "name": "stdout",
     "output_type": "stream",
     "text": [
      "Model: \"model\"\n",
      "__________________________________________________________________________________________________\n",
      "Layer (type)                    Output Shape         Param #     Connected to                     \n",
      "==================================================================================================\n",
      "input_1 (InputLayer)            [(None, None)]       0                                            \n",
      "__________________________________________________________________________________________________\n",
      "input_2 (InputLayer)            [(None, None)]       0                                            \n",
      "__________________________________________________________________________________________________\n",
      "embedding (Embedding)           (None, None, 64)     289024      input_1[0][0]                    \n",
      "__________________________________________________________________________________________________\n",
      "embedding_1 (Embedding)         (None, None, 64)     506048      input_2[0][0]                    \n",
      "__________________________________________________________________________________________________\n",
      "masking (Masking)               (None, None, 64)     0           embedding[0][0]                  \n",
      "__________________________________________________________________________________________________\n",
      "masking_1 (Masking)             (None, None, 64)     0           embedding_1[0][0]                \n",
      "__________________________________________________________________________________________________\n",
      "lstm (LSTM)                     [(None, 64), (None,  33024       masking[0][0]                    \n",
      "__________________________________________________________________________________________________\n",
      "lstm_1 (LSTM)                   [(None, None, 64), ( 33024       masking_1[0][0]                  \n",
      "                                                                 lstm[0][1]                       \n",
      "                                                                 lstm[0][2]                       \n",
      "__________________________________________________________________________________________________\n",
      "dense (Dense)                   (None, None, 7907)   513955      lstm_1[0][0]                     \n",
      "==================================================================================================\n",
      "Total params: 1,375,075\n",
      "Trainable params: 1,375,075\n",
      "Non-trainable params: 0\n",
      "__________________________________________________________________________________________________\n"
     ]
    }
   ],
   "source": [
    "## ━━━━━━━━━━━━━━━━━━━━━━━━━━━━━━━━━━\n",
    "##  모델의 입력과 출력을 정의\n",
    "## ━━━━━━━━━━━━━━━━━━━━━━━━━━━━━━━━━━\n",
    "\n",
    "## 인코더와 디코더를 연결\n",
    "model = Model([encoder_inputs, decoder_inputs], decoder_outputs)\n",
    "\n",
    "## 모델 optimizer 로는 adam 을 지정.\n",
    "## 손실함수로 categorical_crossentropy 를 사용하려면 원-핫인코딩이 되어야 하는데\n",
    "## decoder_outputs 의 경우 원-핫인코딩을 수행하지 않은 상태로 라벨에 대해서\n",
    "## 다중 클래스 분류 문제를 풀고자 할 경우에는 categorical_crossentropy 가 아니라\n",
    "## sparse_categorical_crossentropy 를 사용하면 된다.\n",
    "## 모델의 성능 평가를 위해 metrics 매개변수를 통해 측정항목 함수를 지정\n",
    "model.compile(optimizer=\"adam\", loss=\"sparse_categorical_crossentropy\", metrics=[\"acc\"])\n",
    "\n",
    "model.summary()"
   ]
  },
  {
   "cell_type": "code",
   "execution_count": 28,
   "id": "491893fb",
   "metadata": {},
   "outputs": [
    {
     "name": "stdout",
     "output_type": "stream",
     "text": [
      "Epoch 1/50\n",
      "235/235 [==============================] - 54s 37ms/step - loss: 3.3636 - acc: 0.6130 - val_loss: 2.0350 - val_acc: 0.6211\n",
      "Epoch 2/50\n",
      "235/235 [==============================] - 6s 27ms/step - loss: 1.8719 - acc: 0.6751 - val_loss: 1.7496 - val_acc: 0.7410\n",
      "Epoch 3/50\n",
      "235/235 [==============================] - 6s 27ms/step - loss: 1.6637 - acc: 0.7428 - val_loss: 1.5957 - val_acc: 0.7521\n",
      "Epoch 4/50\n",
      "235/235 [==============================] - 6s 27ms/step - loss: 1.5247 - acc: 0.7565 - val_loss: 1.4767 - val_acc: 0.7623\n",
      "Epoch 5/50\n",
      "235/235 [==============================] - 6s 26ms/step - loss: 1.4087 - acc: 0.7710 - val_loss: 1.3739 - val_acc: 0.7804\n",
      "Epoch 6/50\n",
      "235/235 [==============================] - 6s 27ms/step - loss: 1.3120 - acc: 0.7869 - val_loss: 1.2954 - val_acc: 0.7940\n",
      "Epoch 7/50\n",
      "235/235 [==============================] - 6s 27ms/step - loss: 1.2317 - acc: 0.7992 - val_loss: 1.2322 - val_acc: 0.8038\n",
      "Epoch 8/50\n",
      "235/235 [==============================] - 6s 27ms/step - loss: 1.1684 - acc: 0.8084 - val_loss: 1.1858 - val_acc: 0.8088\n",
      "Epoch 9/50\n",
      "235/235 [==============================] - 6s 27ms/step - loss: 1.1154 - acc: 0.8150 - val_loss: 1.1432 - val_acc: 0.8149\n",
      "Epoch 10/50\n",
      "235/235 [==============================] - 6s 27ms/step - loss: 1.0645 - acc: 0.8231 - val_loss: 1.1037 - val_acc: 0.8225\n",
      "Epoch 11/50\n",
      "235/235 [==============================] - 6s 27ms/step - loss: 1.0186 - acc: 0.8287 - val_loss: 1.0700 - val_acc: 0.8265\n",
      "Epoch 12/50\n",
      "235/235 [==============================] - 6s 27ms/step - loss: 0.9775 - acc: 0.8334 - val_loss: 1.0410 - val_acc: 0.8306\n",
      "Epoch 13/50\n",
      "235/235 [==============================] - 6s 26ms/step - loss: 0.9401 - acc: 0.8377 - val_loss: 1.0145 - val_acc: 0.8330\n",
      "Epoch 14/50\n",
      "235/235 [==============================] - 6s 27ms/step - loss: 0.9055 - acc: 0.8415 - val_loss: 0.9926 - val_acc: 0.8358\n",
      "Epoch 15/50\n",
      "235/235 [==============================] - 6s 27ms/step - loss: 0.8730 - acc: 0.8454 - val_loss: 0.9700 - val_acc: 0.8382\n",
      "Epoch 16/50\n",
      "235/235 [==============================] - 6s 27ms/step - loss: 0.8421 - acc: 0.8487 - val_loss: 0.9508 - val_acc: 0.8398\n",
      "Epoch 17/50\n",
      "235/235 [==============================] - 6s 27ms/step - loss: 0.8124 - acc: 0.8519 - val_loss: 0.9295 - val_acc: 0.8427\n",
      "Epoch 18/50\n",
      "235/235 [==============================] - 6s 27ms/step - loss: 0.7842 - acc: 0.8550 - val_loss: 0.9122 - val_acc: 0.8449\n",
      "Epoch 19/50\n",
      "235/235 [==============================] - 6s 27ms/step - loss: 0.7571 - acc: 0.8579 - val_loss: 0.8954 - val_acc: 0.8458\n",
      "Epoch 20/50\n",
      "235/235 [==============================] - 6s 27ms/step - loss: 0.7313 - acc: 0.8605 - val_loss: 0.8817 - val_acc: 0.8481\n",
      "Epoch 21/50\n",
      "235/235 [==============================] - 6s 26ms/step - loss: 0.7073 - acc: 0.8631 - val_loss: 0.8680 - val_acc: 0.8501\n",
      "Epoch 22/50\n",
      "235/235 [==============================] - 6s 27ms/step - loss: 0.6848 - acc: 0.8654 - val_loss: 0.8566 - val_acc: 0.8518\n",
      "Epoch 23/50\n",
      "235/235 [==============================] - 6s 27ms/step - loss: 0.6630 - acc: 0.8680 - val_loss: 0.8455 - val_acc: 0.8520\n",
      "Epoch 24/50\n",
      "235/235 [==============================] - 6s 26ms/step - loss: 0.6425 - acc: 0.8703 - val_loss: 0.8332 - val_acc: 0.8541\n",
      "Epoch 25/50\n",
      "235/235 [==============================] - 6s 27ms/step - loss: 0.6222 - acc: 0.8729 - val_loss: 0.8244 - val_acc: 0.8551\n",
      "Epoch 26/50\n",
      "235/235 [==============================] - 6s 27ms/step - loss: 0.6034 - acc: 0.8752 - val_loss: 0.8153 - val_acc: 0.8562\n",
      "Epoch 27/50\n",
      "235/235 [==============================] - 6s 27ms/step - loss: 0.5849 - acc: 0.8775 - val_loss: 0.8070 - val_acc: 0.8569\n",
      "Epoch 28/50\n",
      "235/235 [==============================] - 6s 27ms/step - loss: 0.5673 - acc: 0.8798 - val_loss: 0.7997 - val_acc: 0.8585\n",
      "Epoch 29/50\n",
      "235/235 [==============================] - 6s 27ms/step - loss: 0.5504 - acc: 0.8822 - val_loss: 0.7918 - val_acc: 0.8596\n",
      "Epoch 30/50\n",
      "235/235 [==============================] - 6s 27ms/step - loss: 0.5343 - acc: 0.8844 - val_loss: 0.7859 - val_acc: 0.8601\n",
      "Epoch 31/50\n",
      "235/235 [==============================] - 6s 27ms/step - loss: 0.5187 - acc: 0.8866 - val_loss: 0.7789 - val_acc: 0.8614\n",
      "Epoch 32/50\n",
      "235/235 [==============================] - 6s 27ms/step - loss: 0.5034 - acc: 0.8889 - val_loss: 0.7708 - val_acc: 0.8627\n",
      "Epoch 33/50\n",
      "235/235 [==============================] - 6s 27ms/step - loss: 0.4891 - acc: 0.8911 - val_loss: 0.7684 - val_acc: 0.8625\n",
      "Epoch 34/50\n",
      "235/235 [==============================] - 6s 26ms/step - loss: 0.4747 - acc: 0.8933 - val_loss: 0.7631 - val_acc: 0.8643\n",
      "Epoch 35/50\n",
      "235/235 [==============================] - 6s 27ms/step - loss: 0.4616 - acc: 0.8957 - val_loss: 0.7601 - val_acc: 0.8646\n",
      "Epoch 36/50\n",
      "235/235 [==============================] - 6s 27ms/step - loss: 0.4488 - acc: 0.8977 - val_loss: 0.7552 - val_acc: 0.8649\n",
      "Epoch 37/50\n",
      "235/235 [==============================] - 6s 26ms/step - loss: 0.4364 - acc: 0.8999 - val_loss: 0.7497 - val_acc: 0.8666\n",
      "Epoch 38/50\n",
      "235/235 [==============================] - 6s 27ms/step - loss: 0.4245 - acc: 0.9017 - val_loss: 0.7479 - val_acc: 0.8666\n",
      "Epoch 39/50\n",
      "235/235 [==============================] - 6s 27ms/step - loss: 0.4128 - acc: 0.9038 - val_loss: 0.7443 - val_acc: 0.8682\n",
      "Epoch 40/50\n",
      "235/235 [==============================] - 6s 26ms/step - loss: 0.4017 - acc: 0.9059 - val_loss: 0.7444 - val_acc: 0.8670\n",
      "Epoch 41/50\n",
      "235/235 [==============================] - 6s 27ms/step - loss: 0.3915 - acc: 0.9076 - val_loss: 0.7398 - val_acc: 0.8685\n",
      "Epoch 42/50\n",
      "235/235 [==============================] - 6s 26ms/step - loss: 0.3812 - acc: 0.9097 - val_loss: 0.7382 - val_acc: 0.8693\n",
      "Epoch 43/50\n",
      "235/235 [==============================] - 6s 26ms/step - loss: 0.3720 - acc: 0.9114 - val_loss: 0.7371 - val_acc: 0.8690\n",
      "Epoch 44/50\n",
      "235/235 [==============================] - 6s 26ms/step - loss: 0.3625 - acc: 0.9132 - val_loss: 0.7360 - val_acc: 0.8698\n",
      "Epoch 45/50\n",
      "235/235 [==============================] - 6s 27ms/step - loss: 0.3533 - acc: 0.9150 - val_loss: 0.7345 - val_acc: 0.8706\n",
      "Epoch 46/50\n",
      "235/235 [==============================] - 6s 26ms/step - loss: 0.3449 - acc: 0.9167 - val_loss: 0.7327 - val_acc: 0.8708\n",
      "Epoch 47/50\n",
      "235/235 [==============================] - 6s 26ms/step - loss: 0.3366 - acc: 0.9180 - val_loss: 0.7302 - val_acc: 0.8719\n",
      "Epoch 48/50\n",
      "235/235 [==============================] - 6s 26ms/step - loss: 0.3282 - acc: 0.9197 - val_loss: 0.7310 - val_acc: 0.8711\n",
      "Epoch 49/50\n",
      "235/235 [==============================] - 6s 27ms/step - loss: 0.3204 - acc: 0.9212 - val_loss: 0.7297 - val_acc: 0.8722\n",
      "Epoch 50/50\n",
      "235/235 [==============================] - 6s 26ms/step - loss: 0.3133 - acc: 0.9227 - val_loss: 0.7305 - val_acc: 0.8720\n"
     ]
    }
   ],
   "source": [
    "## ━━━━━━━━━━━━━━━━━━━━━━━━━━━━━━━━━━\n",
    "##  모델의 훈련\n",
    "## ━━━━━━━━━━━━━━━━━━━━━━━━━━━━━━━━━━\n",
    "\n",
    "trans_hist = model.fit(\n",
    "    x=[encoder_input_train, decoder_input_train], \n",
    "    y=decoder_target_train,\n",
    "    validation_data=([encoder_input_test, decoder_input_test], decoder_target_test),\n",
    "    batch_size=128, epochs=50)"
   ]
  },
  {
   "cell_type": "code",
   "execution_count": 29,
   "id": "cc037ded",
   "metadata": {},
   "outputs": [],
   "source": [
    "import tensorflow as tf\n",
    "import matplotlib.pyplot as plt\n",
    "def hist_plot(history:tf.keras.callbacks.History()):\n",
    "\n",
    "    tacc = history.history[\"acc\"]\n",
    "    vacc = history.history[\"val_acc\"]\n",
    "\n",
    "    tloss=history.history[\"loss\"]\n",
    "    vloss=history.history[\"val_loss\"]\n",
    "\n",
    "    epochs_range = range(50)\n",
    "\n",
    "    plt.figure(figsize=(15, 5))\n",
    "    plt.subplot(1, 2, 1)\n",
    "    plt.plot(epochs_range, tacc, label=\"Training Accuracy\")\n",
    "    plt.plot(epochs_range, vacc, label=\"Validation Accuracy\")\n",
    "    plt.legend(loc=\"lower right\")\n",
    "    plt.title(\"Training and Validation Accuracy\")\n",
    "\n",
    "    plt.subplot(1, 2, 2)\n",
    "    plt.plot(epochs_range, tloss, label=\"Training Loss\")\n",
    "    plt.plot(epochs_range, vloss, label=\"Validation Loss\")\n",
    "    plt.legend(loc=\"upper right\")\n",
    "    plt.title(\"Training and Validation Loss\")\n",
    "    \n",
    "    plt.show()"
   ]
  },
  {
   "cell_type": "code",
   "execution_count": 30,
   "id": "25c21823",
   "metadata": {
    "scrolled": true
   },
   "outputs": [
    {
     "data": {
      "image/png": "[encoded data removed]",
      "text/plain": [
       "<Figure size 1080x360 with 2 Axes>"
      ]
     },
     "metadata": {
      "needs_background": "light"
     },
     "output_type": "display_data"
    }
   ],
   "source": [
    "hist_plot(trans_hist)"
   ]
  },
  {
   "cell_type": "markdown",
   "id": "3c4bebe8",
   "metadata": {},
   "source": [
    "### Step 6. 모델 평가하기"
   ]
  },
  {
   "cell_type": "code",
   "execution_count": 31,
   "id": "ba415c3f",
   "metadata": {},
   "outputs": [],
   "source": [
    "def decode_sequence(input_seq):\n",
    "    # 입력으로부터 인코더의 상태를 얻음\n",
    "    states_value = encoder_model.predict(input_seq)\n",
    "\n",
    "    # 에 해당하는 원-핫 벡터 생성\n",
    "    target_seq = np.zeros((1,1)) \n",
    "    target_seq[0, 0] = fra2idx['\\t']\n",
    "\n",
    "    stop_condition = False\n",
    "    decoded_sentence = \"\"\n",
    "\n",
    "    # stop_condition이 True가 될 때까지 루프 반복\n",
    "    while not stop_condition:\n",
    "        # 이점 시점의 상태 states_value를 현 시점의 초기 상태로 사용\n",
    "        output_tokens, h, c = decoder_model.predict([target_seq] + states_value)\n",
    "\n",
    "        # 예측 결과를 문자로 변환\n",
    "        sampled_token_index = np.argmax(output_tokens[0, -1, :])\n",
    "        sampled_char = idx2fra[sampled_token_index]\n",
    "\n",
    "        # 현재 시점의 예측 문자를 예측 문장에 추가\n",
    "        decoded_sentence += ' '+sampled_char\n",
    "\n",
    "        # 에 도달하거나 최대 길이를 넘으면 중단.\n",
    "        if (sampled_char == '\\n' or\n",
    "           len(decoded_sentence) > max_fra_seq_len):\n",
    "            stop_condition = True\n",
    "\n",
    "        # 현재 시점의 예측 결과를 다음 시점의 입력으로 사용하기 위해 저장     \n",
    "        target_seq = np.zeros((1, 1))\n",
    "        target_seq[0, 0] = sampled_token_index\n",
    "\n",
    "        # 현재 시점의 상태를 다음 시점의 상태로 사용하기 위해 저장\n",
    "        states_value = [h, c]\n",
    "\n",
    "    return decoded_sentence"
   ]
  },
  {
   "cell_type": "code",
   "execution_count": 32,
   "id": "65403d60",
   "metadata": {},
   "outputs": [
    {
     "name": "stdout",
     "output_type": "stream",
     "text": [
      "Model: \"model_1\"\n",
      "_________________________________________________________________\n",
      "Layer (type)                 Output Shape              Param #   \n",
      "=================================================================\n",
      "input_1 (InputLayer)         [(None, None)]            0         \n",
      "_________________________________________________________________\n",
      "embedding (Embedding)        (None, None, 64)          289024    \n",
      "_________________________________________________________________\n",
      "masking (Masking)            (None, None, 64)          0         \n",
      "_________________________________________________________________\n",
      "lstm (LSTM)                  [(None, 64), (None, 64),  33024     \n",
      "=================================================================\n",
      "Total params: 322,048\n",
      "Trainable params: 322,048\n",
      "Non-trainable params: 0\n",
      "_________________________________________________________________\n"
     ]
    }
   ],
   "source": [
    "## ━━━━━━━━━━━━━━━━━━━━━━━━━━━━━━━━━━\n",
    "##  인코더\n",
    "## ━━━━━━━━━━━━━━━━━━━━━━━━━━━━━━━━━━\n",
    "\n",
    "## 인코더 모델의 경우 기존에 정의를 재사용\n",
    "encoder_model = Model(inputs=encoder_inputs, outputs=encoder_states)\n",
    "encoder_model.summary()"
   ]
  },
  {
   "cell_type": "code",
   "execution_count": 34,
   "id": "20d969f5",
   "metadata": {},
   "outputs": [
    {
     "name": "stdout",
     "output_type": "stream",
     "text": [
      "Model: \"model_2\"\n",
      "__________________________________________________________________________________________________\n",
      "Layer (type)                    Output Shape         Param #     Connected to                     \n",
      "==================================================================================================\n",
      "input_2 (InputLayer)            [(None, None)]       0                                            \n",
      "__________________________________________________________________________________________________\n",
      "embedding_1 (Embedding)         (None, None, 64)     506048      input_2[0][0]                    \n",
      "__________________________________________________________________________________________________\n",
      "input_3 (InputLayer)            [(None, 64)]         0                                            \n",
      "__________________________________________________________________________________________________\n",
      "input_4 (InputLayer)            [(None, 64)]         0                                            \n",
      "__________________________________________________________________________________________________\n",
      "lstm_1 (LSTM)                   [(None, None, 64), ( 33024       embedding_1[1][0]                \n",
      "                                                                 input_3[0][0]                    \n",
      "                                                                 input_4[0][0]                    \n",
      "__________________________________________________________________________________________________\n",
      "dense (Dense)                   (None, None, 7907)   513955      lstm_1[1][0]                     \n",
      "==================================================================================================\n",
      "Total params: 1,053,027\n",
      "Trainable params: 1,053,027\n",
      "Non-trainable params: 0\n",
      "__________________________________________________________________________________________________\n"
     ]
    }
   ],
   "source": [
    "## ━━━━━━━━━━━━━━━━━━━━━━━━━━━━━━━━━━\n",
    "##  디코더\n",
    "## ━━━━━━━━━━━━━━━━━━━━━━━━━━━━━━━━━━\n",
    "\n",
    "## 이전 time step 에서의 …\n",
    "## … hidden state를 저장하는 텐서 …\n",
    "decoder_state_input_h = Input(shape=(hidden_units,))\n",
    "## … cell state를 저장하는 텐서 …\n",
    "decoder_state_input_c = Input(shape=(hidden_units,))\n",
    "## …를 묶어서 하나의 변수로\n",
    "decoder_states_inputs = [decoder_state_input_h, decoder_state_input_c]\n",
    "\n",
    "## 테스트 단계에서는 디코더를 매 시점 별로 컨트롤 할 예정으로, 이를 위해서\n",
    "## 이전 시점의 상태를 저장할 텐서인 \n",
    "## decoder_state_input_h, decoder_state_input_c 를 정의.\n",
    "## 매 시점 별로 디코더를 컨트롤하는 함수는 \n",
    "## 뒤에서 정의할 decode_sequence() 를 살펴보아야 한다.\n",
    "\n",
    "\n",
    "## 훈련 때 사용했던 임베딩 층을 재사용\n",
    "decoder_embed_layer2 = decoder_embed_layer(decoder_inputs)\n",
    "\n",
    "## 다음 단어 예측을 위해 이전 시점의 상태를 현 시점의 초기 상태로 사용\n",
    "## → decoder_states_inputs 을 현재 time step의 초기 상태로 사용.\n",
    "## （구체적인 동작 자체는 def decode_sequence()에 구현.）\n",
    "decoder_outputs2, state_h2, state_c2 = \\\n",
    "    decoder_lstm(decoder_embed_layer2, initial_state=decoder_states_inputs)\n",
    "\n",
    "## 현재 time step의 hidden state 와 cell state를 하나의 변수에 저장\n",
    "decoder_states2 = [state_h2, state_c2]\n",
    "\n",
    "\n",
    "\n",
    "## ──────────────────────────────────\n",
    "##  디코더의 출력층 재설계\n",
    "## ──────────────────────────────────\n",
    "\n",
    "## 모든 시점에 대해서 단어 예측\n",
    "decoder_outputs2 = decoder_dense(decoder_outputs2)\n",
    "\n",
    "## 수정된 디코더\n",
    "decoder_model = \\\n",
    "    Model(inputs=[decoder_inputs] + decoder_states_inputs,\n",
    "          outputs=[decoder_outputs2] + decoder_states2)\n",
    "\n",
    "decoder_model.summary()"
   ]
  },
  {
   "cell_type": "code",
   "execution_count": 35,
   "id": "7ab16417",
   "metadata": {},
   "outputs": [],
   "source": [
    "eng2idx = tokenizer_eng.word_index\n",
    "idx2eng = tokenizer_eng.index_word\n",
    "fra2idx = tokenizer_fra.word_index\n",
    "idx2fra = tokenizer_fra.index_word"
   ]
  },
  {
   "cell_type": "code",
   "execution_count": 36,
   "id": "e1f4d099",
   "metadata": {},
   "outputs": [],
   "source": [
    "def decode_sequence(input_seq):\n",
    "    \n",
    "    ## ① 입력으로부터 인코더의 마지막 시점의 상태(은닉 상태, 셀 상태)를 얻음\n",
    "    ## 이 두개의 값을 ② states_value 에 할당\n",
    "    states_value = encoder_model.predict(input_seq)\n",
    "\n",
    "    ## ③ 디코더의 초기 입력으로 <sos>에 해당하는 정수 생성\n",
    "    ## 이를 ④ target_seq 에 할당\n",
    "    target_seq = np.zeros((1,1))\n",
    "    target_seq[0, 0] = fra2idx[\"<sos>\"]    ## <sos>에 해당하는 정수\n",
    "    \n",
    "    ## while 루프에 사용\n",
    "    stop_condition = False\n",
    "    \n",
    "    ## 반환값이 될 변수. 일단 빈 문자열로 지정.\n",
    "    decoded_sentence = \"\"\n",
    "\n",
    "    # stop_condition이 True가 될 때까지 루프 반복\n",
    "    # 구현의 간소화를 위해서 이 함수는 배치 크기를 1로 가정합니다.\n",
    "    while not stop_condition:\n",
    "       \n",
    "        ## ※ 중요\n",
    "        ## ②, ④ 두개의 값을 디코더의 입력으로 사용\n",
    "        ## 이점 시점의 상태 states_value를 현 시점의 초기 상태로 사용\n",
    "        ## ⑤ output_tokens：현 시점의 예측 벡터\n",
    "        ## ⑥ h：현시점의 은닉 상태\n",
    "        ## ⑦ c：현시점의 셀 상태\n",
    "        output_tokens, h, c = \\\n",
    "            decoder_model.predict([target_seq] + states_value)\n",
    "\n",
    "        ## 아래에서는\n",
    "        ## ⑤ output_tokens 의 예측 벡터로부터, \n",
    "        ## 현재 시점의 예측 단어인 ④ target_seq 를 얻는다.\n",
    "        ## 그리고…\n",
    "        ## ⑥ h：현시점의 은닉 상태, ⑦ c：현시점의 셀 상태 를 통해\n",
    "        ## 현재시점의 ② states_value 를 만들어\n",
    "        ## 다음 루프(시점)의 디코더 모델의 입력으로 사용할 것이다.\n",
    "        \n",
    "        ## 예측 결과를 단어로 변환\n",
    "        sampled_token_index = np.argmax(output_tokens[0, -1, :])\n",
    "        sampled_word = idx2fra[sampled_token_index]\n",
    "\n",
    "        ## 도중 <eos>에 도달하거나 최대 길이를 넘으면 중단.\n",
    "        if (sampled_word == \"<eos>\"):\n",
    "            stop_condition = True\n",
    "            break\n",
    "        \n",
    "        ## 현재 시점의 예측 단어를 예측 문장에 추가.\n",
    "        ## 각 시점마다 번역된 단어는\n",
    "        ## ⑧ decoded_sentence 에 누적하여 저장하였다가\n",
    "        ## 루프를 빠져 나오면, 「최종 번역 시퀀스 값」으로 리턴된다.\n",
    "        decoded_sentence += \" \" + sampled_word\n",
    "\n",
    "        ## 현재 시점의 예측 결과를 다음 시점의 입력으로 사용하기 위해 저장\n",
    "        target_seq = np.zeros((1,1))\n",
    "        target_seq[0, 0] = sampled_token_index\n",
    "        ## 여기의 ④ target_seq 는, 다음 루프 시점의 디코더에 입력으로 사용될 것이다\n",
    "\n",
    "        ## 현재 시점의 상태를 다음 시점의 상태로 사용하기 위해 저장\n",
    "        ## ⑥ h：현시점의 은닉 상태, ⑦ c：현시점의 셀 상태 는\n",
    "        states_value = [h, c]\n",
    "        ## 다시 ② states_value 에 할당되어, \n",
    "        ## 바로 위의 ④ target_seq 와 함께, \n",
    "        ## 다음 루프 시점의 디코더에 입력으로 사용된다.\n",
    "\n",
    "    return decoded_sentence.strip()"
   ]
  },
  {
   "cell_type": "code",
   "execution_count": 37,
   "id": "34fcde39",
   "metadata": {},
   "outputs": [],
   "source": [
    "# 원문의 정수 시퀀스를 텍스트 시퀀스로 변환\n",
    "def seq_to_eng(input_seq):\n",
    "    sentence = \"\"\n",
    "    for encoded_word in input_seq:\n",
    "        if(encoded_word != 0):\n",
    "            sentence = sentence + idx2eng[encoded_word] + \" \"\n",
    "    return sentence\n",
    "\n",
    "# 번역문의 정수 시퀀스를 텍스트 시퀀스로 변환\n",
    "def seq_to_fra(input_seq):\n",
    "    sentence = \"\"\n",
    "    for encoded_word in input_seq:\n",
    "        if(encoded_word != 0 and \n",
    "           encoded_word != fra2idx[\"<sos>\"] and \n",
    "           encoded_word != fra2idx[\"<eos>\"]):\n",
    "            sentence = sentence + idx2fra[encoded_word] + \" \"\n",
    "    return sentence"
   ]
  },
  {
   "cell_type": "code",
   "execution_count": 39,
   "id": "8b004887",
   "metadata": {},
   "outputs": [
    {
     "name": "stdout",
     "output_type": "stream",
     "text": [
      "seq_index : 7091\n",
      "입력문장 : he lost his job . \n",
      "정답문장 : il perdit son travail . \n",
      "번역문장 : il a perdu son emploi .\n",
      "────────────────────────────────────────────────────────────────\n",
      "seq_index : 23410\n",
      "입력문장 : how s school ? \n",
      "정답문장 : comment ca se passe a l ecole ? \n",
      "번역문장 : comment le temps il se trouve ?\n",
      "────────────────────────────────────────────────────────────────\n",
      "seq_index : 3552\n",
      "입력문장 : we know it works . \n",
      "정답문장 : nous savons que cela fonctionne . \n",
      "번역문장 : nous le savons en francais .\n",
      "────────────────────────────────────────────────────────────────\n",
      "seq_index : 10038\n",
      "입력문장 : i like your shoes . \n",
      "정답문장 : j aime tes souliers . \n",
      "번역문장 : j aime tes chaussures .\n",
      "────────────────────────────────────────────────────────────────\n",
      "seq_index : 11765\n",
      "입력문장 : tom refused to go . \n",
      "정답문장 : tom refusa d y aller . \n",
      "번역문장 : tom refusa d aller .\n",
      "────────────────────────────────────────────────────────────────\n"
     ]
    }
   ],
   "source": [
    "for seq_index in np.random.randint(30000, size=5):\n",
    "    input_seq = encoder_input_train[seq_index: seq_index + 1]\n",
    "    decoded_sentence = decode_sequence(input_seq)\n",
    "    print(\"seq_index :\", seq_index)\n",
    "    print(\"입력문장 :\", seq_to_eng(encoder_input_train[seq_index]))\n",
    "    print(\"정답문장 :\", seq_to_fra(decoder_input_train[seq_index]))\n",
    "    print(\"번역문장 :\", decoded_sentence)\n",
    "    print(\"─\" * 64)"
   ]
  },
  {
   "cell_type": "markdown",
   "id": "1a8be68a",
   "metadata": {},
   "source": [
    "7091 : 그는 직장을 잃었다 / 그는 직장을 잃었다 / 그는 직장을 잃었다.   \n",
    "23410 : 학교는 어때 / 학교에서 어떻게 지내니 / 날씨가 어때   \n",
    "3552 : 우리는 그것이 작동한다는 것을 압니다. / 우리는 그것이 작동한다는 것을 압니다. / 우리는 그것을 프랑스어로 알고 있습니다.   \n",
    "10038 : 네 신발 맘에 들어요. / 네 구두가 마음에 들어 / 네 구두가 마음에 든다   \n",
    "11765 : 톰은 가기를 거부했습니다. / 탐은 그 곳에 가지 않았다 / 탐은 가기를 거부했습니다.   "
   ]
  },
  {
   "cell_type": "code",
   "execution_count": 41,
   "id": "f4b59b4a",
   "metadata": {},
   "outputs": [
    {
     "name": "stdout",
     "output_type": "stream",
     "text": [
      "seq_index : 1438\n",
      "입력문장 : i want to be heard . \n",
      "정답문장 : je veux etre entendu . \n",
      "번역문장 : je veux etre de la chance .\n",
      "────────────────────────────────────────────────────────────────\n",
      "seq_index : 1977\n",
      "입력문장 : silence please . \n",
      "정답문장 : silence s il vous plait . \n",
      "번역문장 : veuillez etre prudente .\n",
      "────────────────────────────────────────────────────────────────\n",
      "seq_index : 1706\n",
      "입력문장 : study harder . \n",
      "정답문장 : etudie davantage . \n",
      "번역문장 : etudiez davantage .\n",
      "────────────────────────────────────────────────────────────────\n",
      "seq_index : 2745\n",
      "입력문장 : you re very rude . \n",
      "정답문장 : vous etes fort grossieres . \n",
      "번역문장 : tu es tres grossier .\n",
      "────────────────────────────────────────────────────────────────\n",
      "seq_index : 2495\n",
      "입력문장 : record this . \n",
      "정답문장 : enregistre ceci . \n",
      "번역문장 : enregistrez ceci .\n",
      "────────────────────────────────────────────────────────────────\n"
     ]
    }
   ],
   "source": [
    "for seq_index in np.random.randint(3000, size=5):\n",
    "    input_seq = encoder_input_test[seq_index: seq_index + 1]\n",
    "    decoded_sentence = decode_sequence(input_seq)\n",
    "    print(\"seq_index :\", seq_index)\n",
    "    print(\"입력문장 :\", seq_to_eng(encoder_input_test[seq_index]))\n",
    "    print(\"정답문장 :\", seq_to_fra(decoder_input_test[seq_index]))\n",
    "    print(\"번역문장 :\", decoded_sentence)\n",
    "    print(\"─\" * 64)"
   ]
  },
  {
   "cell_type": "markdown",
   "id": "04921401",
   "metadata": {},
   "source": [
    "1438 : 저는 듣고 싶습니다. / 듣고 싶어요. / 저는 운이 좋기를 바랍니다.   \n",
    "1977 : 조용히 해 주세요. / 조용히 해 주세요 / 부디 몸조심하세요   \n",
    "1706 : 더욱 열심히 공부하다. / 무슨 일이 일어나고 있다. / 자, 더 공부해라   \n",
    "2745 : 당신은 매우 무례합니다. / 당신은 매우 무례하시군요. / 너 정말 무례하구나.   \n",
    "2495 : 이것을 기록합니다. / 이것을 기록하세요. / 이것을 기록하세요."
   ]
  }
 ],
 "metadata": {
  "kernelspec": {
   "display_name": "Python 3 (ipykernel)",
   "language": "python",
   "name": "python3"
  },
  "language_info": {
   "codemirror_mode": {
    "name": "ipython",
    "version": 3
   },
   "file_extension": ".py",
   "mimetype": "text/x-python",
   "name": "python",
   "nbconvert_exporter": "python",
   "pygments_lexer": "ipython3",
   "version": "3.9.7"
  }
 },
 "nbformat": 4,
 "nbformat_minor": 5
}
