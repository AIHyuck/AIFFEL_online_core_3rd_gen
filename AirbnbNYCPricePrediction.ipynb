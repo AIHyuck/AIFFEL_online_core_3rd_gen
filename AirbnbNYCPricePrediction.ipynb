{
  "nbformat": 4,
  "nbformat_minor": 0,
  "metadata": {
    "colab": {
      "provenance": [],
      "toc_visible": true
    },
    "kernelspec": {
      "name": "python3",
      "display_name": "Python 3"
    },
    "language_info": {
      "name": "python"
    }
  },
  "cells": [
    {
      "cell_type": "markdown",
      "source": [
        "#**참고한 자료들의 분석 방식 개요**"
      ],
      "metadata": {
        "id": "VMr1zCHRed2K"
      }
    },
    {
      "cell_type": "markdown",
      "source": [
        "##아이펠 노드"
      ],
      "metadata": {
        "id": "YcfjzyFOl8RF"
      }
    },
    {
      "cell_type": "markdown",
      "source": [
        "  - EDA\n",
        "    - train set 확인\n",
        "    - train set 데이터타입 확인\n",
        "    - 결측치 확인\n",
        "    - 가격 히스토그램\n",
        "    - 가격 기술통계량\n",
        "    - host_id value_counts()\n",
        "  - 데이터 전처리\n",
        "    - 결측치 삭제 및 교체\n",
        "    - int64 자료형으로 된 컬럼만 남기기\n",
        "  - 검증 데이터 분리\n",
        "    - train 데이터에서 validation 데이터 분리\n",
        "  - 머신러닝 (model 변수에 각 머신 러닝 모델들 할당하기)\n",
        "    - 선형회귀\n",
        "    - 릿지 회귀\n",
        "    - 라쏘 회귀\n",
        "    - 엘라스틱넷 회귀\n",
        "    - 랜덤포레스트\n",
        "    - xgboost\n",
        "  - 채점"
      ],
      "metadata": {
        "id": "zIzNJLUflYQ4"
      }
    },
    {
      "cell_type": "markdown",
      "source": [
        "## Airbnb Analysis, Visualization and Prediction\n",
        "https://www.kaggle.com/code/chirag9073/airbnb-analysis-visualization-and-prediction"
      ],
      "metadata": {
        "id": "uermFuBWmS_N"
      }
    },
    {
      "cell_type": "markdown",
      "source": [
        "  - Importing Libraries\n",
        "  - Loading the dataset\n",
        "  - 데이터 전처리:\n",
        "    - 필요없는 값 제거\n",
        "    - 중복값 제거\n",
        "    - 결측치 제거 및 교체\n",
        "  - Data Visualization: Using plots to find relations between the features.\n",
        "    - 상관관계 분석\n",
        "    - Neighbourhood Group 시각화(group 별 countplot, neighbourhood 전체 시각화)\n",
        "    - Room Type 시각화(유형 별 countplot)\n",
        "    - Relation between neighbourgroup and Availability of Room (boxplot)\n",
        "    - Map of Neighbourhood group (위도, 경도를 활용한 산점도)\n",
        "    - Map of Neighbourhood (산점도를 방 유형으로 hue)\n",
        "    - Availabity of room (산점도를 1년 내 이용 가능일로 hue)\n",
        "    - Word Cloud (neighbourhood 값 별로 빈도 나타냄)\n",
        "  - Regression Analysis (컬럼은 neighbourhood_group\troom_type\tprice\tminimum_nights\tcalculated_host_listings_count\tavailability_365, 총 6개만 남김, neighbourhood_group과 room_type은 인코딩함)\n",
        "    - Linear Regression\n",
        "    - Decision Tree Regression\n",
        "    - Random Forest Regression"
      ],
      "metadata": {
        "id": "c7lP8w_nmb0d"
      }
    },
    {
      "cell_type": "markdown",
      "source": [
        "## 아이펠 성능 향상 팁 (아래 Airbnb NYC Price Prediction 기반의 내용)"
      ],
      "metadata": {
        "id": "xC84tMtynY83"
      }
    },
    {
      "cell_type": "markdown",
      "source": [
        "- 데이터 전처리\n",
        "  - 가격에 로그를 적용하면 분포가 정규 분포처럼 바뀐다.\n",
        "  - 수치형 데이터와 범주형 데이터 분리\n",
        "  - 수치형은 minmax로, 범주형은 labelencoding"
      ],
      "metadata": {
        "id": "O253h-KRnY83"
      }
    },
    {
      "cell_type": "markdown",
      "source": [
        "## Airbnb NYC Price Prediction\n",
        "\n",
        "https://www.kaggle.com/code/duygut/airbnb-nyc-price-prediction/notebook"
      ],
      "metadata": {
        "id": "rknZkdScLZVm"
      }
    },
    {
      "cell_type": "markdown",
      "source": [
        "- 가격 로그 씌우기\n",
        "  - The above distribution graph shows that there is a right-skewed distribution on price. This means there is a positive skewness. Log transformation will be used to make this feature less skewed. This will help to make easier interpretation and better statistical analysis\n",
        "\n",
        "    Since division by zero is a problem, log+1 transformation would be better.\n",
        "\n",
        "- 상관관계 분석 해석\n",
        "  - The correlation table shows that there is no strong relationship between price and other features. This indicates no feature needed to be taken out of data. This relationship will be detailed with Residual Plots and Multicollinearity.\n",
        "- Residual Plots\n",
        "  - Residual Plot is strong method to detect outliers, non-linear data and detecting data for regression models. The below charts show the residual plots for each feature with the price.\n",
        "\n",
        "    An ideal Residual Plot, the red line would be horizontal. Based on the below charts, most features are non-linear. On the other hand, there are not many outliers in each feature. This result led to underfitting. Underfitting can occur when input features do not have a strong relationship to target variables or over-regularized. For avoiding underfitting new data features can be added or regularization weight could be reduced.\n",
        "\n",
        "    In this kernel, since the input feature data could not be increased, Regularized Linear Models will be used for regularization and polynomial transformation will be made to avoid underfitting.\n",
        "\n",
        "- Multicollinearity\n",
        "  - Multicollinearity will help to measure the relationship between explanatory variables in multiple regression. If there is multicollinearity occurs, these highly related input variables should be eliminated from the model.\n",
        "\n",
        "    In this kernel, multicollinearity will be control with Eigen vector values results.\n",
        "\n",
        "    None one of the eigenvalues of the correlation matrix is close to zero. It means that there is no multicollinearity exists in the data.\n",
        "- 속성 선택을 위해 feature_importance graph 그리기\n",
        "  - StandardScaler로 표준화\n",
        "  - Extra Trees Classifier 로 속성의 중요도 확인하기 (feature_importances_ 메소드 활용)\n",
        "  - 전부 포함한 것, 가장 중요도가 낮은 두 속성 제외한 것, 총 두 가지로 모델링을 진행한다.\n",
        "- K Fold validation 해준다.\n",
        "- grid search CV로 각 모델의 최적의 파라미터를 찾아주고 하이퍼파라미터를 튜닝해준다.\n"
      ],
      "metadata": {
        "id": "_1ev7eydnZw7"
      }
    },
    {
      "cell_type": "markdown",
      "source": [
        "# IMPORT"
      ],
      "metadata": {
        "id": "BwZg9KUkkzlp"
      }
    },
    {
      "cell_type": "code",
      "execution_count": 1,
      "metadata": {
        "id": "IZlf1pQEds-d"
      },
      "outputs": [],
      "source": [
        "# 라이브러리 \n",
        "import pandas as pd\n",
        "import numpy as np\n",
        "import matplotlib.pyplot as plt\n",
        "import matplotlib.image as mpimg\n",
        "%matplotlib inline\n",
        "import seaborn as sns"
      ]
    },
    {
      "cell_type": "code",
      "source": [
        "# 데이터 불러오기\n",
        "train = pd.read_csv('/content/drive/MyDrive/Colab Notebooks/aiffel/data/airbnb_nyc_2019/train.csv')\n",
        "test = pd.read_csv('/content/drive/MyDrive/Colab Notebooks/aiffel/data/airbnb_nyc_2019/test.csv')\n",
        "y_test = pd.read_csv('/content/drive/MyDrive/Colab Notebooks/aiffel/data/airbnb_nyc_2019/y_test.csv')"
      ],
      "metadata": {
        "id": "-eqXeg0ZfdQ3"
      },
      "execution_count": 2,
      "outputs": []
    },
    {
      "cell_type": "markdown",
      "source": [
        "# EDA"
      ],
      "metadata": {
        "id": "zclrM9r4k-KW"
      }
    },
    {
      "cell_type": "code",
      "source": [
        "train.head(3)"
      ],
      "metadata": {
        "colab": {
          "base_uri": "https://localhost:8080/",
          "height": 398
        },
        "id": "JJUC1TaNj2oN",
        "outputId": "d8132574-1673-45ae-c7c6-c66f840535b7"
      },
      "execution_count": 3,
      "outputs": [
        {
          "output_type": "execute_result",
          "data": {
            "text/plain": [
              "         id                                            name   host_id  \\\n",
              "0  14963583          Room in South Harlem near Central Park  94219511   \n",
              "1   9458704  Large 1BR Apartment, near Times Sq (2nd Floor)  49015331   \n",
              "2  26871281                          West Village Apartment    440022   \n",
              "\n",
              "  host_name neighbourhood_group   neighbourhood  latitude  longitude  \\\n",
              "0    Gilles           Manhattan          Harlem  40.80167  -73.95781   \n",
              "1     Iradj           Manhattan  Hell's Kitchen  40.76037  -73.99016   \n",
              "2    Petter           Manhattan    West Village  40.73001  -74.00562   \n",
              "\n",
              "         room_type  price  minimum_nights  number_of_reviews last_review  \\\n",
              "0     Private room     70               3                  3  2019-01-01   \n",
              "1  Entire home/apt    240               2                 64  2019-06-30   \n",
              "2  Entire home/apt    150              60                  1  2019-02-07   \n",
              "\n",
              "   reviews_per_month  calculated_host_listings_count  availability_365  \n",
              "0               0.09                               2                 0  \n",
              "1               1.68                               2               262  \n",
              "2               0.20                               1                 0  "
            ],
            "text/html": [
              "\n",
              "  <div id=\"df-d6f93bd2-846a-4480-8702-31000fa0be65\">\n",
              "    <div class=\"colab-df-container\">\n",
              "      <div>\n",
              "<style scoped>\n",
              "    .dataframe tbody tr th:only-of-type {\n",
              "        vertical-align: middle;\n",
              "    }\n",
              "\n",
              "    .dataframe tbody tr th {\n",
              "        vertical-align: top;\n",
              "    }\n",
              "\n",
              "    .dataframe thead th {\n",
              "        text-align: right;\n",
              "    }\n",
              "</style>\n",
              "<table border=\"1\" class=\"dataframe\">\n",
              "  <thead>\n",
              "    <tr style=\"text-align: right;\">\n",
              "      <th></th>\n",
              "      <th>id</th>\n",
              "      <th>name</th>\n",
              "      <th>host_id</th>\n",
              "      <th>host_name</th>\n",
              "      <th>neighbourhood_group</th>\n",
              "      <th>neighbourhood</th>\n",
              "      <th>latitude</th>\n",
              "      <th>longitude</th>\n",
              "      <th>room_type</th>\n",
              "      <th>price</th>\n",
              "      <th>minimum_nights</th>\n",
              "      <th>number_of_reviews</th>\n",
              "      <th>last_review</th>\n",
              "      <th>reviews_per_month</th>\n",
              "      <th>calculated_host_listings_count</th>\n",
              "      <th>availability_365</th>\n",
              "    </tr>\n",
              "  </thead>\n",
              "  <tbody>\n",
              "    <tr>\n",
              "      <th>0</th>\n",
              "      <td>14963583</td>\n",
              "      <td>Room in South Harlem near Central Park</td>\n",
              "      <td>94219511</td>\n",
              "      <td>Gilles</td>\n",
              "      <td>Manhattan</td>\n",
              "      <td>Harlem</td>\n",
              "      <td>40.80167</td>\n",
              "      <td>-73.95781</td>\n",
              "      <td>Private room</td>\n",
              "      <td>70</td>\n",
              "      <td>3</td>\n",
              "      <td>3</td>\n",
              "      <td>2019-01-01</td>\n",
              "      <td>0.09</td>\n",
              "      <td>2</td>\n",
              "      <td>0</td>\n",
              "    </tr>\n",
              "    <tr>\n",
              "      <th>1</th>\n",
              "      <td>9458704</td>\n",
              "      <td>Large 1BR Apartment, near Times Sq (2nd Floor)</td>\n",
              "      <td>49015331</td>\n",
              "      <td>Iradj</td>\n",
              "      <td>Manhattan</td>\n",
              "      <td>Hell's Kitchen</td>\n",
              "      <td>40.76037</td>\n",
              "      <td>-73.99016</td>\n",
              "      <td>Entire home/apt</td>\n",
              "      <td>240</td>\n",
              "      <td>2</td>\n",
              "      <td>64</td>\n",
              "      <td>2019-06-30</td>\n",
              "      <td>1.68</td>\n",
              "      <td>2</td>\n",
              "      <td>262</td>\n",
              "    </tr>\n",
              "    <tr>\n",
              "      <th>2</th>\n",
              "      <td>26871281</td>\n",
              "      <td>West Village Apartment</td>\n",
              "      <td>440022</td>\n",
              "      <td>Petter</td>\n",
              "      <td>Manhattan</td>\n",
              "      <td>West Village</td>\n",
              "      <td>40.73001</td>\n",
              "      <td>-74.00562</td>\n",
              "      <td>Entire home/apt</td>\n",
              "      <td>150</td>\n",
              "      <td>60</td>\n",
              "      <td>1</td>\n",
              "      <td>2019-02-07</td>\n",
              "      <td>0.20</td>\n",
              "      <td>1</td>\n",
              "      <td>0</td>\n",
              "    </tr>\n",
              "  </tbody>\n",
              "</table>\n",
              "</div>\n",
              "      <button class=\"colab-df-convert\" onclick=\"convertToInteractive('df-d6f93bd2-846a-4480-8702-31000fa0be65')\"\n",
              "              title=\"Convert this dataframe to an interactive table.\"\n",
              "              style=\"display:none;\">\n",
              "        \n",
              "  <svg xmlns=\"http://www.w3.org/2000/svg\" height=\"24px\"viewBox=\"0 0 24 24\"\n",
              "       width=\"24px\">\n",
              "    <path d=\"M0 0h24v24H0V0z\" fill=\"none\"/>\n",
              "    <path d=\"M18.56 5.44l.94 2.06.94-2.06 2.06-.94-2.06-.94-.94-2.06-.94 2.06-2.06.94zm-11 1L8.5 8.5l.94-2.06 2.06-.94-2.06-.94L8.5 2.5l-.94 2.06-2.06.94zm10 10l.94 2.06.94-2.06 2.06-.94-2.06-.94-.94-2.06-.94 2.06-2.06.94z\"/><path d=\"M17.41 7.96l-1.37-1.37c-.4-.4-.92-.59-1.43-.59-.52 0-1.04.2-1.43.59L10.3 9.45l-7.72 7.72c-.78.78-.78 2.05 0 2.83L4 21.41c.39.39.9.59 1.41.59.51 0 1.02-.2 1.41-.59l7.78-7.78 2.81-2.81c.8-.78.8-2.07 0-2.86zM5.41 20L4 18.59l7.72-7.72 1.47 1.35L5.41 20z\"/>\n",
              "  </svg>\n",
              "      </button>\n",
              "      \n",
              "  <style>\n",
              "    .colab-df-container {\n",
              "      display:flex;\n",
              "      flex-wrap:wrap;\n",
              "      gap: 12px;\n",
              "    }\n",
              "\n",
              "    .colab-df-convert {\n",
              "      background-color: #E8F0FE;\n",
              "      border: none;\n",
              "      border-radius: 50%;\n",
              "      cursor: pointer;\n",
              "      display: none;\n",
              "      fill: #1967D2;\n",
              "      height: 32px;\n",
              "      padding: 0 0 0 0;\n",
              "      width: 32px;\n",
              "    }\n",
              "\n",
              "    .colab-df-convert:hover {\n",
              "      background-color: #E2EBFA;\n",
              "      box-shadow: 0px 1px 2px rgba(60, 64, 67, 0.3), 0px 1px 3px 1px rgba(60, 64, 67, 0.15);\n",
              "      fill: #174EA6;\n",
              "    }\n",
              "\n",
              "    [theme=dark] .colab-df-convert {\n",
              "      background-color: #3B4455;\n",
              "      fill: #D2E3FC;\n",
              "    }\n",
              "\n",
              "    [theme=dark] .colab-df-convert:hover {\n",
              "      background-color: #434B5C;\n",
              "      box-shadow: 0px 1px 3px 1px rgba(0, 0, 0, 0.15);\n",
              "      filter: drop-shadow(0px 1px 2px rgba(0, 0, 0, 0.3));\n",
              "      fill: #FFFFFF;\n",
              "    }\n",
              "  </style>\n",
              "\n",
              "      <script>\n",
              "        const buttonEl =\n",
              "          document.querySelector('#df-d6f93bd2-846a-4480-8702-31000fa0be65 button.colab-df-convert');\n",
              "        buttonEl.style.display =\n",
              "          google.colab.kernel.accessAllowed ? 'block' : 'none';\n",
              "\n",
              "        async function convertToInteractive(key) {\n",
              "          const element = document.querySelector('#df-d6f93bd2-846a-4480-8702-31000fa0be65');\n",
              "          const dataTable =\n",
              "            await google.colab.kernel.invokeFunction('convertToInteractive',\n",
              "                                                     [key], {});\n",
              "          if (!dataTable) return;\n",
              "\n",
              "          const docLinkHtml = 'Like what you see? Visit the ' +\n",
              "            '<a target=\"_blank\" href=https://colab.research.google.com/notebooks/data_table.ipynb>data table notebook</a>'\n",
              "            + ' to learn more about interactive tables.';\n",
              "          element.innerHTML = '';\n",
              "          dataTable['output_type'] = 'display_data';\n",
              "          await google.colab.output.renderOutput(dataTable, element);\n",
              "          const docLink = document.createElement('div');\n",
              "          docLink.innerHTML = docLinkHtml;\n",
              "          element.appendChild(docLink);\n",
              "        }\n",
              "      </script>\n",
              "    </div>\n",
              "  </div>\n",
              "  "
            ]
          },
          "metadata": {},
          "execution_count": 3
        }
      ]
    },
    {
      "cell_type": "code",
      "source": [
        "test.head(3)"
      ],
      "metadata": {
        "colab": {
          "base_uri": "https://localhost:8080/",
          "height": 381
        },
        "id": "-o57yc6JlUca",
        "outputId": "e2c595d2-a85a-429f-d03c-708c92a4a06c"
      },
      "execution_count": 4,
      "outputs": [
        {
          "output_type": "execute_result",
          "data": {
            "text/plain": [
              "         id                                               name   host_id  \\\n",
              "0  30913224  Cozy and Sunny Room Williamsburg, Luxury Building  33771081   \n",
              "1    971247                   Sunny Artist Live/Work Apartment   5308961   \n",
              "2    414801   Industrial Brooklyn Loft with Tree-Lined Windows    319077   \n",
              "\n",
              "  host_name neighbourhood_group    neighbourhood  latitude  longitude  \\\n",
              "0      Rémy            Brooklyn     Williamsburg  40.70959  -73.94652   \n",
              "1     Larry           Manhattan  Upper West Side  40.79368  -73.96487   \n",
              "2     Shell            Brooklyn     Clinton Hill  40.68722  -73.96289   \n",
              "\n",
              "         room_type  minimum_nights  number_of_reviews last_review  \\\n",
              "0     Private room               3                  2  2019-05-08   \n",
              "1  Entire home/apt               3                159  2019-07-03   \n",
              "2  Entire home/apt               1                 54  2019-03-24   \n",
              "\n",
              "   reviews_per_month  calculated_host_listings_count  availability_365  \n",
              "0               0.31                               1                 0  \n",
              "1               2.09                               1               244  \n",
              "2               0.65                               4               365  "
            ],
            "text/html": [
              "\n",
              "  <div id=\"df-a77b715d-f020-45f5-89b6-07a78f916c6b\">\n",
              "    <div class=\"colab-df-container\">\n",
              "      <div>\n",
              "<style scoped>\n",
              "    .dataframe tbody tr th:only-of-type {\n",
              "        vertical-align: middle;\n",
              "    }\n",
              "\n",
              "    .dataframe tbody tr th {\n",
              "        vertical-align: top;\n",
              "    }\n",
              "\n",
              "    .dataframe thead th {\n",
              "        text-align: right;\n",
              "    }\n",
              "</style>\n",
              "<table border=\"1\" class=\"dataframe\">\n",
              "  <thead>\n",
              "    <tr style=\"text-align: right;\">\n",
              "      <th></th>\n",
              "      <th>id</th>\n",
              "      <th>name</th>\n",
              "      <th>host_id</th>\n",
              "      <th>host_name</th>\n",
              "      <th>neighbourhood_group</th>\n",
              "      <th>neighbourhood</th>\n",
              "      <th>latitude</th>\n",
              "      <th>longitude</th>\n",
              "      <th>room_type</th>\n",
              "      <th>minimum_nights</th>\n",
              "      <th>number_of_reviews</th>\n",
              "      <th>last_review</th>\n",
              "      <th>reviews_per_month</th>\n",
              "      <th>calculated_host_listings_count</th>\n",
              "      <th>availability_365</th>\n",
              "    </tr>\n",
              "  </thead>\n",
              "  <tbody>\n",
              "    <tr>\n",
              "      <th>0</th>\n",
              "      <td>30913224</td>\n",
              "      <td>Cozy and Sunny Room Williamsburg, Luxury Building</td>\n",
              "      <td>33771081</td>\n",
              "      <td>Rémy</td>\n",
              "      <td>Brooklyn</td>\n",
              "      <td>Williamsburg</td>\n",
              "      <td>40.70959</td>\n",
              "      <td>-73.94652</td>\n",
              "      <td>Private room</td>\n",
              "      <td>3</td>\n",
              "      <td>2</td>\n",
              "      <td>2019-05-08</td>\n",
              "      <td>0.31</td>\n",
              "      <td>1</td>\n",
              "      <td>0</td>\n",
              "    </tr>\n",
              "    <tr>\n",
              "      <th>1</th>\n",
              "      <td>971247</td>\n",
              "      <td>Sunny Artist Live/Work Apartment</td>\n",
              "      <td>5308961</td>\n",
              "      <td>Larry</td>\n",
              "      <td>Manhattan</td>\n",
              "      <td>Upper West Side</td>\n",
              "      <td>40.79368</td>\n",
              "      <td>-73.96487</td>\n",
              "      <td>Entire home/apt</td>\n",
              "      <td>3</td>\n",
              "      <td>159</td>\n",
              "      <td>2019-07-03</td>\n",
              "      <td>2.09</td>\n",
              "      <td>1</td>\n",
              "      <td>244</td>\n",
              "    </tr>\n",
              "    <tr>\n",
              "      <th>2</th>\n",
              "      <td>414801</td>\n",
              "      <td>Industrial Brooklyn Loft with Tree-Lined Windows</td>\n",
              "      <td>319077</td>\n",
              "      <td>Shell</td>\n",
              "      <td>Brooklyn</td>\n",
              "      <td>Clinton Hill</td>\n",
              "      <td>40.68722</td>\n",
              "      <td>-73.96289</td>\n",
              "      <td>Entire home/apt</td>\n",
              "      <td>1</td>\n",
              "      <td>54</td>\n",
              "      <td>2019-03-24</td>\n",
              "      <td>0.65</td>\n",
              "      <td>4</td>\n",
              "      <td>365</td>\n",
              "    </tr>\n",
              "  </tbody>\n",
              "</table>\n",
              "</div>\n",
              "      <button class=\"colab-df-convert\" onclick=\"convertToInteractive('df-a77b715d-f020-45f5-89b6-07a78f916c6b')\"\n",
              "              title=\"Convert this dataframe to an interactive table.\"\n",
              "              style=\"display:none;\">\n",
              "        \n",
              "  <svg xmlns=\"http://www.w3.org/2000/svg\" height=\"24px\"viewBox=\"0 0 24 24\"\n",
              "       width=\"24px\">\n",
              "    <path d=\"M0 0h24v24H0V0z\" fill=\"none\"/>\n",
              "    <path d=\"M18.56 5.44l.94 2.06.94-2.06 2.06-.94-2.06-.94-.94-2.06-.94 2.06-2.06.94zm-11 1L8.5 8.5l.94-2.06 2.06-.94-2.06-.94L8.5 2.5l-.94 2.06-2.06.94zm10 10l.94 2.06.94-2.06 2.06-.94-2.06-.94-.94-2.06-.94 2.06-2.06.94z\"/><path d=\"M17.41 7.96l-1.37-1.37c-.4-.4-.92-.59-1.43-.59-.52 0-1.04.2-1.43.59L10.3 9.45l-7.72 7.72c-.78.78-.78 2.05 0 2.83L4 21.41c.39.39.9.59 1.41.59.51 0 1.02-.2 1.41-.59l7.78-7.78 2.81-2.81c.8-.78.8-2.07 0-2.86zM5.41 20L4 18.59l7.72-7.72 1.47 1.35L5.41 20z\"/>\n",
              "  </svg>\n",
              "      </button>\n",
              "      \n",
              "  <style>\n",
              "    .colab-df-container {\n",
              "      display:flex;\n",
              "      flex-wrap:wrap;\n",
              "      gap: 12px;\n",
              "    }\n",
              "\n",
              "    .colab-df-convert {\n",
              "      background-color: #E8F0FE;\n",
              "      border: none;\n",
              "      border-radius: 50%;\n",
              "      cursor: pointer;\n",
              "      display: none;\n",
              "      fill: #1967D2;\n",
              "      height: 32px;\n",
              "      padding: 0 0 0 0;\n",
              "      width: 32px;\n",
              "    }\n",
              "\n",
              "    .colab-df-convert:hover {\n",
              "      background-color: #E2EBFA;\n",
              "      box-shadow: 0px 1px 2px rgba(60, 64, 67, 0.3), 0px 1px 3px 1px rgba(60, 64, 67, 0.15);\n",
              "      fill: #174EA6;\n",
              "    }\n",
              "\n",
              "    [theme=dark] .colab-df-convert {\n",
              "      background-color: #3B4455;\n",
              "      fill: #D2E3FC;\n",
              "    }\n",
              "\n",
              "    [theme=dark] .colab-df-convert:hover {\n",
              "      background-color: #434B5C;\n",
              "      box-shadow: 0px 1px 3px 1px rgba(0, 0, 0, 0.15);\n",
              "      filter: drop-shadow(0px 1px 2px rgba(0, 0, 0, 0.3));\n",
              "      fill: #FFFFFF;\n",
              "    }\n",
              "  </style>\n",
              "\n",
              "      <script>\n",
              "        const buttonEl =\n",
              "          document.querySelector('#df-a77b715d-f020-45f5-89b6-07a78f916c6b button.colab-df-convert');\n",
              "        buttonEl.style.display =\n",
              "          google.colab.kernel.accessAllowed ? 'block' : 'none';\n",
              "\n",
              "        async function convertToInteractive(key) {\n",
              "          const element = document.querySelector('#df-a77b715d-f020-45f5-89b6-07a78f916c6b');\n",
              "          const dataTable =\n",
              "            await google.colab.kernel.invokeFunction('convertToInteractive',\n",
              "                                                     [key], {});\n",
              "          if (!dataTable) return;\n",
              "\n",
              "          const docLinkHtml = 'Like what you see? Visit the ' +\n",
              "            '<a target=\"_blank\" href=https://colab.research.google.com/notebooks/data_table.ipynb>data table notebook</a>'\n",
              "            + ' to learn more about interactive tables.';\n",
              "          element.innerHTML = '';\n",
              "          dataTable['output_type'] = 'display_data';\n",
              "          await google.colab.output.renderOutput(dataTable, element);\n",
              "          const docLink = document.createElement('div');\n",
              "          docLink.innerHTML = docLinkHtml;\n",
              "          element.appendChild(docLink);\n",
              "        }\n",
              "      </script>\n",
              "    </div>\n",
              "  </div>\n",
              "  "
            ]
          },
          "metadata": {},
          "execution_count": 4
        }
      ]
    },
    {
      "cell_type": "code",
      "source": [
        "#데이터 크기\n",
        "train.shape, test.shape"
      ],
      "metadata": {
        "colab": {
          "base_uri": "https://localhost:8080/"
        },
        "id": "Cg7fVwyLlJMY",
        "outputId": "b5bc9fef-d123-4d9d-b089-3cd2fa8a3572"
      },
      "execution_count": 5,
      "outputs": [
        {
          "output_type": "execute_result",
          "data": {
            "text/plain": [
              "((39116, 16), (9779, 15))"
            ]
          },
          "metadata": {},
          "execution_count": 5
        }
      ]
    },
    {
      "cell_type": "code",
      "source": [
        "#dtype 확인. train.dtypes로도 가능\n",
        "train.info()"
      ],
      "metadata": {
        "colab": {
          "base_uri": "https://localhost:8080/"
        },
        "id": "OWxH0Bgmlp1T",
        "outputId": "79153e7a-5ab9-497f-e154-4a72f727d0ae"
      },
      "execution_count": 6,
      "outputs": [
        {
          "output_type": "stream",
          "name": "stdout",
          "text": [
            "<class 'pandas.core.frame.DataFrame'>\n",
            "RangeIndex: 39116 entries, 0 to 39115\n",
            "Data columns (total 16 columns):\n",
            " #   Column                          Non-Null Count  Dtype  \n",
            "---  ------                          --------------  -----  \n",
            " 0   id                              39116 non-null  int64  \n",
            " 1   name                            39104 non-null  object \n",
            " 2   host_id                         39116 non-null  int64  \n",
            " 3   host_name                       39099 non-null  object \n",
            " 4   neighbourhood_group             39116 non-null  object \n",
            " 5   neighbourhood                   39116 non-null  object \n",
            " 6   latitude                        39116 non-null  float64\n",
            " 7   longitude                       39116 non-null  float64\n",
            " 8   room_type                       39116 non-null  object \n",
            " 9   price                           39116 non-null  int64  \n",
            " 10  minimum_nights                  39116 non-null  int64  \n",
            " 11  number_of_reviews               39116 non-null  int64  \n",
            " 12  last_review                     31122 non-null  object \n",
            " 13  reviews_per_month               31122 non-null  float64\n",
            " 14  calculated_host_listings_count  39116 non-null  int64  \n",
            " 15  availability_365                39116 non-null  int64  \n",
            "dtypes: float64(3), int64(7), object(6)\n",
            "memory usage: 4.8+ MB\n"
          ]
        }
      ]
    },
    {
      "cell_type": "code",
      "source": [
        "#price가 정답인지라 test data에선 price 열이 빠진 모습\n",
        "test.info() "
      ],
      "metadata": {
        "colab": {
          "base_uri": "https://localhost:8080/"
        },
        "id": "PbWZDJh0l5Kk",
        "outputId": "38d1fd18-fd0b-4aab-9d64-67452868a807"
      },
      "execution_count": 7,
      "outputs": [
        {
          "output_type": "stream",
          "name": "stdout",
          "text": [
            "<class 'pandas.core.frame.DataFrame'>\n",
            "RangeIndex: 9779 entries, 0 to 9778\n",
            "Data columns (total 15 columns):\n",
            " #   Column                          Non-Null Count  Dtype  \n",
            "---  ------                          --------------  -----  \n",
            " 0   id                              9779 non-null   int64  \n",
            " 1   name                            9775 non-null   object \n",
            " 2   host_id                         9779 non-null   int64  \n",
            " 3   host_name                       9775 non-null   object \n",
            " 4   neighbourhood_group             9779 non-null   object \n",
            " 5   neighbourhood                   9779 non-null   object \n",
            " 6   latitude                        9779 non-null   float64\n",
            " 7   longitude                       9779 non-null   float64\n",
            " 8   room_type                       9779 non-null   object \n",
            " 9   minimum_nights                  9779 non-null   int64  \n",
            " 10  number_of_reviews               9779 non-null   int64  \n",
            " 11  last_review                     7721 non-null   object \n",
            " 12  reviews_per_month               7721 non-null   float64\n",
            " 13  calculated_host_listings_count  9779 non-null   int64  \n",
            " 14  availability_365                9779 non-null   int64  \n",
            "dtypes: float64(3), int64(6), object(6)\n",
            "memory usage: 1.1+ MB\n"
          ]
        }
      ]
    },
    {
      "cell_type": "code",
      "source": [
        "#결측치 확인\n",
        "train.isnull().sum()"
      ],
      "metadata": {
        "colab": {
          "base_uri": "https://localhost:8080/"
        },
        "id": "vn863vdkmkmn",
        "outputId": "32a388b1-8243-48df-bae0-430a2d95853c"
      },
      "execution_count": 8,
      "outputs": [
        {
          "output_type": "execute_result",
          "data": {
            "text/plain": [
              "id                                   0\n",
              "name                                12\n",
              "host_id                              0\n",
              "host_name                           17\n",
              "neighbourhood_group                  0\n",
              "neighbourhood                        0\n",
              "latitude                             0\n",
              "longitude                            0\n",
              "room_type                            0\n",
              "price                                0\n",
              "minimum_nights                       0\n",
              "number_of_reviews                    0\n",
              "last_review                       7994\n",
              "reviews_per_month                 7994\n",
              "calculated_host_listings_count       0\n",
              "availability_365                     0\n",
              "dtype: int64"
            ]
          },
          "metadata": {},
          "execution_count": 8
        }
      ]
    },
    {
      "cell_type": "code",
      "source": [
        "#중복치 확인\n",
        "train.duplicated().sum()"
      ],
      "metadata": {
        "colab": {
          "base_uri": "https://localhost:8080/"
        },
        "id": "G4PJXI0zpbFP",
        "outputId": "bb2eba6e-c64d-4906-9443-5a914406b679"
      },
      "execution_count": 9,
      "outputs": [
        {
          "output_type": "execute_result",
          "data": {
            "text/plain": [
              "0"
            ]
          },
          "metadata": {},
          "execution_count": 9
        }
      ]
    },
    {
      "cell_type": "markdown",
      "source": [
        "# 데이터 전처리, 추가 EDA"
      ],
      "metadata": {
        "id": "nWxltLQobRjs"
      }
    },
    {
      "cell_type": "code",
      "source": [
        "train['price'] = np.log1p(train['price'])\n",
        "train['price'].hist(bins=100)"
      ],
      "metadata": {
        "colab": {
          "base_uri": "https://localhost:8080/",
          "height": 283
        },
        "id": "TL8w3jBvuVtJ",
        "outputId": "aea4d51b-619f-4b63-d9aa-6cb108926968"
      },
      "execution_count": 10,
      "outputs": [
        {
          "output_type": "execute_result",
          "data": {
            "text/plain": [
              "<Axes: >"
            ]
          },
          "metadata": {},
          "execution_count": 10
        },
        {
          "output_type": "display_data",
          "data": {
            "text/plain": [
              "<Figure size 432x288 with 1 Axes>"
            ],
            "image/png": "[encoded data removed]"
          },
          "metadata": {
            "needs_background": "light"
          }
        }
      ]
    },
    {
      "cell_type": "code",
      "source": [
        "# 가격 값 복사\n",
        "target = train['price']\n",
        "train = train.drop('price', axis=1)"
      ],
      "metadata": {
        "id": "eMqUMhvHnz8_"
      },
      "execution_count": 11,
      "outputs": []
    },
    {
      "cell_type": "code",
      "source": [
        "train.head(10)"
      ],
      "metadata": {
        "colab": {
          "base_uri": "https://localhost:8080/",
          "height": 1000
        },
        "id": "XOGGtDHfNxTt",
        "outputId": "27351574-7673-4d53-f406-624f0a949ccb"
      },
      "execution_count": 12,
      "outputs": [
        {
          "output_type": "execute_result",
          "data": {
            "text/plain": [
              "         id                                               name    host_id  \\\n",
              "0  14963583             Room in South Harlem near Central Park   94219511   \n",
              "1   9458704     Large 1BR Apartment, near Times Sq (2nd Floor)   49015331   \n",
              "2  26871281                             West Village Apartment     440022   \n",
              "3    698132                LARGE PRIVATE FLOOR IN BROOKLYN, NY    3577509   \n",
              "4  15783953       Sun-drenched apartment, 20 mins to Manhattan   12475280   \n",
              "5  15523281        1 bedroom to yourself in Midtown Manhattan!   96595601   \n",
              "6   8843681                  LARGE  2 BEDROOM DUPLEX WITH YARD   14104350   \n",
              "7    916311                Rooms in Spacious East Village Apt.     511175   \n",
              "8  33457731    Room available in BedStuy condo w/ private yard   35528708   \n",
              "9  29936587  Bright and stylish bedroom 20min from Times Sq...  140930693   \n",
              "\n",
              "       host_name neighbourhood_group       neighbourhood  latitude  longitude  \\\n",
              "0         Gilles           Manhattan              Harlem  40.80167  -73.95781   \n",
              "1          Iradj           Manhattan      Hell's Kitchen  40.76037  -73.99016   \n",
              "2         Petter           Manhattan        West Village  40.73001  -74.00562   \n",
              "3           Eric            Brooklyn  Bedford-Stuyvesant  40.69128  -73.93653   \n",
              "4         George            Brooklyn  Bedford-Stuyvesant  40.68899  -73.95555   \n",
              "5        Tristan           Manhattan             Midtown  40.75966  -73.96313   \n",
              "6         Irving            Brooklyn  Bedford-Stuyvesant  40.68363  -73.94142   \n",
              "7           Luis           Manhattan        East Village  40.72361  -73.97877   \n",
              "8          Cindy            Brooklyn  Bedford-Stuyvesant  40.69615  -73.94740   \n",
              "9  Max And Kathy               Bronx          Mott Haven  40.81167  -73.92729   \n",
              "\n",
              "         room_type  minimum_nights  number_of_reviews last_review  \\\n",
              "0     Private room               3                  3  2019-01-01   \n",
              "1  Entire home/apt               2                 64  2019-06-30   \n",
              "2  Entire home/apt              60                  1  2019-02-07   \n",
              "3  Entire home/apt               4                239  2019-06-26   \n",
              "4     Private room              28                  0         NaN   \n",
              "5  Entire home/apt               3                 21  2019-05-12   \n",
              "6  Entire home/apt               5                 28  2019-07-08   \n",
              "7     Private room               3                  5  2017-02-19   \n",
              "8     Private room               1                  4  2019-06-08   \n",
              "9     Private room               1                 38  2019-06-21   \n",
              "\n",
              "   reviews_per_month  calculated_host_listings_count  availability_365  \n",
              "0               0.09                               2                 0  \n",
              "1               1.68                               2               262  \n",
              "2               0.20                               1                 0  \n",
              "3               2.89                               2                 1  \n",
              "4                NaN                               1                 0  \n",
              "5               0.67                               1                 0  \n",
              "6               0.70                               2               347  \n",
              "7               0.08                               2                31  \n",
              "8               1.20                               2                 0  \n",
              "9               4.75                               2               301  "
            ],
            "text/html": [
              "\n",
              "  <div id=\"df-2798a934-5e3d-4f60-a786-23a6a05e2f13\">\n",
              "    <div class=\"colab-df-container\">\n",
              "      <div>\n",
              "<style scoped>\n",
              "    .dataframe tbody tr th:only-of-type {\n",
              "        vertical-align: middle;\n",
              "    }\n",
              "\n",
              "    .dataframe tbody tr th {\n",
              "        vertical-align: top;\n",
              "    }\n",
              "\n",
              "    .dataframe thead th {\n",
              "        text-align: right;\n",
              "    }\n",
              "</style>\n",
              "<table border=\"1\" class=\"dataframe\">\n",
              "  <thead>\n",
              "    <tr style=\"text-align: right;\">\n",
              "      <th></th>\n",
              "      <th>id</th>\n",
              "      <th>name</th>\n",
              "      <th>host_id</th>\n",
              "      <th>host_name</th>\n",
              "      <th>neighbourhood_group</th>\n",
              "      <th>neighbourhood</th>\n",
              "      <th>latitude</th>\n",
              "      <th>longitude</th>\n",
              "      <th>room_type</th>\n",
              "      <th>minimum_nights</th>\n",
              "      <th>number_of_reviews</th>\n",
              "      <th>last_review</th>\n",
              "      <th>reviews_per_month</th>\n",
              "      <th>calculated_host_listings_count</th>\n",
              "      <th>availability_365</th>\n",
              "    </tr>\n",
              "  </thead>\n",
              "  <tbody>\n",
              "    <tr>\n",
              "      <th>0</th>\n",
              "      <td>14963583</td>\n",
              "      <td>Room in South Harlem near Central Park</td>\n",
              "      <td>94219511</td>\n",
              "      <td>Gilles</td>\n",
              "      <td>Manhattan</td>\n",
              "      <td>Harlem</td>\n",
              "      <td>40.80167</td>\n",
              "      <td>-73.95781</td>\n",
              "      <td>Private room</td>\n",
              "      <td>3</td>\n",
              "      <td>3</td>\n",
              "      <td>2019-01-01</td>\n",
              "      <td>0.09</td>\n",
              "      <td>2</td>\n",
              "      <td>0</td>\n",
              "    </tr>\n",
              "    <tr>\n",
              "      <th>1</th>\n",
              "      <td>9458704</td>\n",
              "      <td>Large 1BR Apartment, near Times Sq (2nd Floor)</td>\n",
              "      <td>49015331</td>\n",
              "      <td>Iradj</td>\n",
              "      <td>Manhattan</td>\n",
              "      <td>Hell's Kitchen</td>\n",
              "      <td>40.76037</td>\n",
              "      <td>-73.99016</td>\n",
              "      <td>Entire home/apt</td>\n",
              "      <td>2</td>\n",
              "      <td>64</td>\n",
              "      <td>2019-06-30</td>\n",
              "      <td>1.68</td>\n",
              "      <td>2</td>\n",
              "      <td>262</td>\n",
              "    </tr>\n",
              "    <tr>\n",
              "      <th>2</th>\n",
              "      <td>26871281</td>\n",
              "      <td>West Village Apartment</td>\n",
              "      <td>440022</td>\n",
              "      <td>Petter</td>\n",
              "      <td>Manhattan</td>\n",
              "      <td>West Village</td>\n",
              "      <td>40.73001</td>\n",
              "      <td>-74.00562</td>\n",
              "      <td>Entire home/apt</td>\n",
              "      <td>60</td>\n",
              "      <td>1</td>\n",
              "      <td>2019-02-07</td>\n",
              "      <td>0.20</td>\n",
              "      <td>1</td>\n",
              "      <td>0</td>\n",
              "    </tr>\n",
              "    <tr>\n",
              "      <th>3</th>\n",
              "      <td>698132</td>\n",
              "      <td>LARGE PRIVATE FLOOR IN BROOKLYN, NY</td>\n",
              "      <td>3577509</td>\n",
              "      <td>Eric</td>\n",
              "      <td>Brooklyn</td>\n",
              "      <td>Bedford-Stuyvesant</td>\n",
              "      <td>40.69128</td>\n",
              "      <td>-73.93653</td>\n",
              "      <td>Entire home/apt</td>\n",
              "      <td>4</td>\n",
              "      <td>239</td>\n",
              "      <td>2019-06-26</td>\n",
              "      <td>2.89</td>\n",
              "      <td>2</td>\n",
              "      <td>1</td>\n",
              "    </tr>\n",
              "    <tr>\n",
              "      <th>4</th>\n",
              "      <td>15783953</td>\n",
              "      <td>Sun-drenched apartment, 20 mins to Manhattan</td>\n",
              "      <td>12475280</td>\n",
              "      <td>George</td>\n",
              "      <td>Brooklyn</td>\n",
              "      <td>Bedford-Stuyvesant</td>\n",
              "      <td>40.68899</td>\n",
              "      <td>-73.95555</td>\n",
              "      <td>Private room</td>\n",
              "      <td>28</td>\n",
              "      <td>0</td>\n",
              "      <td>NaN</td>\n",
              "      <td>NaN</td>\n",
              "      <td>1</td>\n",
              "      <td>0</td>\n",
              "    </tr>\n",
              "    <tr>\n",
              "      <th>5</th>\n",
              "      <td>15523281</td>\n",
              "      <td>1 bedroom to yourself in Midtown Manhattan!</td>\n",
              "      <td>96595601</td>\n",
              "      <td>Tristan</td>\n",
              "      <td>Manhattan</td>\n",
              "      <td>Midtown</td>\n",
              "      <td>40.75966</td>\n",
              "      <td>-73.96313</td>\n",
              "      <td>Entire home/apt</td>\n",
              "      <td>3</td>\n",
              "      <td>21</td>\n",
              "      <td>2019-05-12</td>\n",
              "      <td>0.67</td>\n",
              "      <td>1</td>\n",
              "      <td>0</td>\n",
              "    </tr>\n",
              "    <tr>\n",
              "      <th>6</th>\n",
              "      <td>8843681</td>\n",
              "      <td>LARGE  2 BEDROOM DUPLEX WITH YARD</td>\n",
              "      <td>14104350</td>\n",
              "      <td>Irving</td>\n",
              "      <td>Brooklyn</td>\n",
              "      <td>Bedford-Stuyvesant</td>\n",
              "      <td>40.68363</td>\n",
              "      <td>-73.94142</td>\n",
              "      <td>Entire home/apt</td>\n",
              "      <td>5</td>\n",
              "      <td>28</td>\n",
              "      <td>2019-07-08</td>\n",
              "      <td>0.70</td>\n",
              "      <td>2</td>\n",
              "      <td>347</td>\n",
              "    </tr>\n",
              "    <tr>\n",
              "      <th>7</th>\n",
              "      <td>916311</td>\n",
              "      <td>Rooms in Spacious East Village Apt.</td>\n",
              "      <td>511175</td>\n",
              "      <td>Luis</td>\n",
              "      <td>Manhattan</td>\n",
              "      <td>East Village</td>\n",
              "      <td>40.72361</td>\n",
              "      <td>-73.97877</td>\n",
              "      <td>Private room</td>\n",
              "      <td>3</td>\n",
              "      <td>5</td>\n",
              "      <td>2017-02-19</td>\n",
              "      <td>0.08</td>\n",
              "      <td>2</td>\n",
              "      <td>31</td>\n",
              "    </tr>\n",
              "    <tr>\n",
              "      <th>8</th>\n",
              "      <td>33457731</td>\n",
              "      <td>Room available in BedStuy condo w/ private yard</td>\n",
              "      <td>35528708</td>\n",
              "      <td>Cindy</td>\n",
              "      <td>Brooklyn</td>\n",
              "      <td>Bedford-Stuyvesant</td>\n",
              "      <td>40.69615</td>\n",
              "      <td>-73.94740</td>\n",
              "      <td>Private room</td>\n",
              "      <td>1</td>\n",
              "      <td>4</td>\n",
              "      <td>2019-06-08</td>\n",
              "      <td>1.20</td>\n",
              "      <td>2</td>\n",
              "      <td>0</td>\n",
              "    </tr>\n",
              "    <tr>\n",
              "      <th>9</th>\n",
              "      <td>29936587</td>\n",
              "      <td>Bright and stylish bedroom 20min from Times Sq...</td>\n",
              "      <td>140930693</td>\n",
              "      <td>Max And Kathy</td>\n",
              "      <td>Bronx</td>\n",
              "      <td>Mott Haven</td>\n",
              "      <td>40.81167</td>\n",
              "      <td>-73.92729</td>\n",
              "      <td>Private room</td>\n",
              "      <td>1</td>\n",
              "      <td>38</td>\n",
              "      <td>2019-06-21</td>\n",
              "      <td>4.75</td>\n",
              "      <td>2</td>\n",
              "      <td>301</td>\n",
              "    </tr>\n",
              "  </tbody>\n",
              "</table>\n",
              "</div>\n",
              "      <button class=\"colab-df-convert\" onclick=\"convertToInteractive('df-2798a934-5e3d-4f60-a786-23a6a05e2f13')\"\n",
              "              title=\"Convert this dataframe to an interactive table.\"\n",
              "              style=\"display:none;\">\n",
              "        \n",
              "  <svg xmlns=\"http://www.w3.org/2000/svg\" height=\"24px\"viewBox=\"0 0 24 24\"\n",
              "       width=\"24px\">\n",
              "    <path d=\"M0 0h24v24H0V0z\" fill=\"none\"/>\n",
              "    <path d=\"M18.56 5.44l.94 2.06.94-2.06 2.06-.94-2.06-.94-.94-2.06-.94 2.06-2.06.94zm-11 1L8.5 8.5l.94-2.06 2.06-.94-2.06-.94L8.5 2.5l-.94 2.06-2.06.94zm10 10l.94 2.06.94-2.06 2.06-.94-2.06-.94-.94-2.06-.94 2.06-2.06.94z\"/><path d=\"M17.41 7.96l-1.37-1.37c-.4-.4-.92-.59-1.43-.59-.52 0-1.04.2-1.43.59L10.3 9.45l-7.72 7.72c-.78.78-.78 2.05 0 2.83L4 21.41c.39.39.9.59 1.41.59.51 0 1.02-.2 1.41-.59l7.78-7.78 2.81-2.81c.8-.78.8-2.07 0-2.86zM5.41 20L4 18.59l7.72-7.72 1.47 1.35L5.41 20z\"/>\n",
              "  </svg>\n",
              "      </button>\n",
              "      \n",
              "  <style>\n",
              "    .colab-df-container {\n",
              "      display:flex;\n",
              "      flex-wrap:wrap;\n",
              "      gap: 12px;\n",
              "    }\n",
              "\n",
              "    .colab-df-convert {\n",
              "      background-color: #E8F0FE;\n",
              "      border: none;\n",
              "      border-radius: 50%;\n",
              "      cursor: pointer;\n",
              "      display: none;\n",
              "      fill: #1967D2;\n",
              "      height: 32px;\n",
              "      padding: 0 0 0 0;\n",
              "      width: 32px;\n",
              "    }\n",
              "\n",
              "    .colab-df-convert:hover {\n",
              "      background-color: #E2EBFA;\n",
              "      box-shadow: 0px 1px 2px rgba(60, 64, 67, 0.3), 0px 1px 3px 1px rgba(60, 64, 67, 0.15);\n",
              "      fill: #174EA6;\n",
              "    }\n",
              "\n",
              "    [theme=dark] .colab-df-convert {\n",
              "      background-color: #3B4455;\n",
              "      fill: #D2E3FC;\n",
              "    }\n",
              "\n",
              "    [theme=dark] .colab-df-convert:hover {\n",
              "      background-color: #434B5C;\n",
              "      box-shadow: 0px 1px 3px 1px rgba(0, 0, 0, 0.15);\n",
              "      filter: drop-shadow(0px 1px 2px rgba(0, 0, 0, 0.3));\n",
              "      fill: #FFFFFF;\n",
              "    }\n",
              "  </style>\n",
              "\n",
              "      <script>\n",
              "        const buttonEl =\n",
              "          document.querySelector('#df-2798a934-5e3d-4f60-a786-23a6a05e2f13 button.colab-df-convert');\n",
              "        buttonEl.style.display =\n",
              "          google.colab.kernel.accessAllowed ? 'block' : 'none';\n",
              "\n",
              "        async function convertToInteractive(key) {\n",
              "          const element = document.querySelector('#df-2798a934-5e3d-4f60-a786-23a6a05e2f13');\n",
              "          const dataTable =\n",
              "            await google.colab.kernel.invokeFunction('convertToInteractive',\n",
              "                                                     [key], {});\n",
              "          if (!dataTable) return;\n",
              "\n",
              "          const docLinkHtml = 'Like what you see? Visit the ' +\n",
              "            '<a target=\"_blank\" href=https://colab.research.google.com/notebooks/data_table.ipynb>data table notebook</a>'\n",
              "            + ' to learn more about interactive tables.';\n",
              "          element.innerHTML = '';\n",
              "          dataTable['output_type'] = 'display_data';\n",
              "          await google.colab.output.renderOutput(dataTable, element);\n",
              "          const docLink = document.createElement('div');\n",
              "          docLink.innerHTML = docLinkHtml;\n",
              "          element.appendChild(docLink);\n",
              "        }\n",
              "      </script>\n",
              "    </div>\n",
              "  </div>\n",
              "  "
            ]
          },
          "metadata": {},
          "execution_count": 12
        }
      ]
    },
    {
      "cell_type": "code",
      "source": [
        "#필요없는 열 제거\n",
        "train.drop(['name','id','host_name','last_review'], axis=1, inplace=True)"
      ],
      "metadata": {
        "id": "CvGmOKonqKBU"
      },
      "execution_count": 13,
      "outputs": []
    },
    {
      "cell_type": "code",
      "source": [
        "test.drop(['name','id','host_name','last_review'], axis=1, inplace=True)"
      ],
      "metadata": {
        "id": "UNTLWNKsqQw7"
      },
      "execution_count": 14,
      "outputs": []
    },
    {
      "cell_type": "code",
      "source": [
        "train.fillna({'reviews_per_month':0}, inplace=True)\n",
        "#examing changes\n",
        "train.reviews_per_month.isnull().sum()"
      ],
      "metadata": {
        "colab": {
          "base_uri": "https://localhost:8080/"
        },
        "id": "qbkTx6gEqzEe",
        "outputId": "424ea624-a4e9-49e4-b29f-85dda393ecb8"
      },
      "execution_count": 15,
      "outputs": [
        {
          "output_type": "execute_result",
          "data": {
            "text/plain": [
              "0"
            ]
          },
          "metadata": {},
          "execution_count": 15
        }
      ]
    },
    {
      "cell_type": "code",
      "source": [
        "test.fillna({'reviews_per_month':0}, inplace=True)\n",
        "#examing changes\n",
        "test.reviews_per_month.isnull().sum()"
      ],
      "metadata": {
        "colab": {
          "base_uri": "https://localhost:8080/"
        },
        "id": "bnNDDSzXqsli",
        "outputId": "dbd43b78-549e-4bcd-dd3a-449a58e14c2c"
      },
      "execution_count": 16,
      "outputs": [
        {
          "output_type": "execute_result",
          "data": {
            "text/plain": [
              "0"
            ]
          },
          "metadata": {},
          "execution_count": 16
        }
      ]
    },
    {
      "cell_type": "code",
      "source": [
        "# object 열 인코딩\n",
        "def Encode(airbnb):\n",
        "    for column in airbnb.columns[airbnb.columns.isin(['neighbourhood_group', 'room_type'])]:\n",
        "        airbnb[column] = airbnb[column].factorize()[0]\n",
        "    return airbnb\n",
        "\n",
        "train_en = Encode(train.copy())\n",
        "test_en = Encode(test.copy())"
      ],
      "metadata": {
        "id": "Hq-HNOBCViGX"
      },
      "execution_count": 17,
      "outputs": []
    },
    {
      "cell_type": "code",
      "source": [
        "train_en.head()"
      ],
      "metadata": {
        "colab": {
          "base_uri": "https://localhost:8080/",
          "height": 305
        },
        "id": "1lhVNRKxWK__",
        "outputId": "1c1c3fe4-c48e-4f77-922a-afb0b1232241"
      },
      "execution_count": 18,
      "outputs": [
        {
          "output_type": "execute_result",
          "data": {
            "text/plain": [
              "    host_id  neighbourhood_group       neighbourhood  latitude  longitude  \\\n",
              "0  94219511                    0              Harlem  40.80167  -73.95781   \n",
              "1  49015331                    0      Hell's Kitchen  40.76037  -73.99016   \n",
              "2    440022                    0        West Village  40.73001  -74.00562   \n",
              "3   3577509                    1  Bedford-Stuyvesant  40.69128  -73.93653   \n",
              "4  12475280                    1  Bedford-Stuyvesant  40.68899  -73.95555   \n",
              "\n",
              "   room_type  minimum_nights  number_of_reviews  reviews_per_month  \\\n",
              "0          0               3                  3               0.09   \n",
              "1          1               2                 64               1.68   \n",
              "2          1              60                  1               0.20   \n",
              "3          1               4                239               2.89   \n",
              "4          0              28                  0               0.00   \n",
              "\n",
              "   calculated_host_listings_count  availability_365  \n",
              "0                               2                 0  \n",
              "1                               2               262  \n",
              "2                               1                 0  \n",
              "3                               2                 1  \n",
              "4                               1                 0  "
            ],
            "text/html": [
              "\n",
              "  <div id=\"df-6b43f8ce-6a1f-4f69-8fd3-f4f21480fd84\">\n",
              "    <div class=\"colab-df-container\">\n",
              "      <div>\n",
              "<style scoped>\n",
              "    .dataframe tbody tr th:only-of-type {\n",
              "        vertical-align: middle;\n",
              "    }\n",
              "\n",
              "    .dataframe tbody tr th {\n",
              "        vertical-align: top;\n",
              "    }\n",
              "\n",
              "    .dataframe thead th {\n",
              "        text-align: right;\n",
              "    }\n",
              "</style>\n",
              "<table border=\"1\" class=\"dataframe\">\n",
              "  <thead>\n",
              "    <tr style=\"text-align: right;\">\n",
              "      <th></th>\n",
              "      <th>host_id</th>\n",
              "      <th>neighbourhood_group</th>\n",
              "      <th>neighbourhood</th>\n",
              "      <th>latitude</th>\n",
              "      <th>longitude</th>\n",
              "      <th>room_type</th>\n",
              "      <th>minimum_nights</th>\n",
              "      <th>number_of_reviews</th>\n",
              "      <th>reviews_per_month</th>\n",
              "      <th>calculated_host_listings_count</th>\n",
              "      <th>availability_365</th>\n",
              "    </tr>\n",
              "  </thead>\n",
              "  <tbody>\n",
              "    <tr>\n",
              "      <th>0</th>\n",
              "      <td>94219511</td>\n",
              "      <td>0</td>\n",
              "      <td>Harlem</td>\n",
              "      <td>40.80167</td>\n",
              "      <td>-73.95781</td>\n",
              "      <td>0</td>\n",
              "      <td>3</td>\n",
              "      <td>3</td>\n",
              "      <td>0.09</td>\n",
              "      <td>2</td>\n",
              "      <td>0</td>\n",
              "    </tr>\n",
              "    <tr>\n",
              "      <th>1</th>\n",
              "      <td>49015331</td>\n",
              "      <td>0</td>\n",
              "      <td>Hell's Kitchen</td>\n",
              "      <td>40.76037</td>\n",
              "      <td>-73.99016</td>\n",
              "      <td>1</td>\n",
              "      <td>2</td>\n",
              "      <td>64</td>\n",
              "      <td>1.68</td>\n",
              "      <td>2</td>\n",
              "      <td>262</td>\n",
              "    </tr>\n",
              "    <tr>\n",
              "      <th>2</th>\n",
              "      <td>440022</td>\n",
              "      <td>0</td>\n",
              "      <td>West Village</td>\n",
              "      <td>40.73001</td>\n",
              "      <td>-74.00562</td>\n",
              "      <td>1</td>\n",
              "      <td>60</td>\n",
              "      <td>1</td>\n",
              "      <td>0.20</td>\n",
              "      <td>1</td>\n",
              "      <td>0</td>\n",
              "    </tr>\n",
              "    <tr>\n",
              "      <th>3</th>\n",
              "      <td>3577509</td>\n",
              "      <td>1</td>\n",
              "      <td>Bedford-Stuyvesant</td>\n",
              "      <td>40.69128</td>\n",
              "      <td>-73.93653</td>\n",
              "      <td>1</td>\n",
              "      <td>4</td>\n",
              "      <td>239</td>\n",
              "      <td>2.89</td>\n",
              "      <td>2</td>\n",
              "      <td>1</td>\n",
              "    </tr>\n",
              "    <tr>\n",
              "      <th>4</th>\n",
              "      <td>12475280</td>\n",
              "      <td>1</td>\n",
              "      <td>Bedford-Stuyvesant</td>\n",
              "      <td>40.68899</td>\n",
              "      <td>-73.95555</td>\n",
              "      <td>0</td>\n",
              "      <td>28</td>\n",
              "      <td>0</td>\n",
              "      <td>0.00</td>\n",
              "      <td>1</td>\n",
              "      <td>0</td>\n",
              "    </tr>\n",
              "  </tbody>\n",
              "</table>\n",
              "</div>\n",
              "      <button class=\"colab-df-convert\" onclick=\"convertToInteractive('df-6b43f8ce-6a1f-4f69-8fd3-f4f21480fd84')\"\n",
              "              title=\"Convert this dataframe to an interactive table.\"\n",
              "              style=\"display:none;\">\n",
              "        \n",
              "  <svg xmlns=\"http://www.w3.org/2000/svg\" height=\"24px\"viewBox=\"0 0 24 24\"\n",
              "       width=\"24px\">\n",
              "    <path d=\"M0 0h24v24H0V0z\" fill=\"none\"/>\n",
              "    <path d=\"M18.56 5.44l.94 2.06.94-2.06 2.06-.94-2.06-.94-.94-2.06-.94 2.06-2.06.94zm-11 1L8.5 8.5l.94-2.06 2.06-.94-2.06-.94L8.5 2.5l-.94 2.06-2.06.94zm10 10l.94 2.06.94-2.06 2.06-.94-2.06-.94-.94-2.06-.94 2.06-2.06.94z\"/><path d=\"M17.41 7.96l-1.37-1.37c-.4-.4-.92-.59-1.43-.59-.52 0-1.04.2-1.43.59L10.3 9.45l-7.72 7.72c-.78.78-.78 2.05 0 2.83L4 21.41c.39.39.9.59 1.41.59.51 0 1.02-.2 1.41-.59l7.78-7.78 2.81-2.81c.8-.78.8-2.07 0-2.86zM5.41 20L4 18.59l7.72-7.72 1.47 1.35L5.41 20z\"/>\n",
              "  </svg>\n",
              "      </button>\n",
              "      \n",
              "  <style>\n",
              "    .colab-df-container {\n",
              "      display:flex;\n",
              "      flex-wrap:wrap;\n",
              "      gap: 12px;\n",
              "    }\n",
              "\n",
              "    .colab-df-convert {\n",
              "      background-color: #E8F0FE;\n",
              "      border: none;\n",
              "      border-radius: 50%;\n",
              "      cursor: pointer;\n",
              "      display: none;\n",
              "      fill: #1967D2;\n",
              "      height: 32px;\n",
              "      padding: 0 0 0 0;\n",
              "      width: 32px;\n",
              "    }\n",
              "\n",
              "    .colab-df-convert:hover {\n",
              "      background-color: #E2EBFA;\n",
              "      box-shadow: 0px 1px 2px rgba(60, 64, 67, 0.3), 0px 1px 3px 1px rgba(60, 64, 67, 0.15);\n",
              "      fill: #174EA6;\n",
              "    }\n",
              "\n",
              "    [theme=dark] .colab-df-convert {\n",
              "      background-color: #3B4455;\n",
              "      fill: #D2E3FC;\n",
              "    }\n",
              "\n",
              "    [theme=dark] .colab-df-convert:hover {\n",
              "      background-color: #434B5C;\n",
              "      box-shadow: 0px 1px 3px 1px rgba(0, 0, 0, 0.15);\n",
              "      filter: drop-shadow(0px 1px 2px rgba(0, 0, 0, 0.3));\n",
              "      fill: #FFFFFF;\n",
              "    }\n",
              "  </style>\n",
              "\n",
              "      <script>\n",
              "        const buttonEl =\n",
              "          document.querySelector('#df-6b43f8ce-6a1f-4f69-8fd3-f4f21480fd84 button.colab-df-convert');\n",
              "        buttonEl.style.display =\n",
              "          google.colab.kernel.accessAllowed ? 'block' : 'none';\n",
              "\n",
              "        async function convertToInteractive(key) {\n",
              "          const element = document.querySelector('#df-6b43f8ce-6a1f-4f69-8fd3-f4f21480fd84');\n",
              "          const dataTable =\n",
              "            await google.colab.kernel.invokeFunction('convertToInteractive',\n",
              "                                                     [key], {});\n",
              "          if (!dataTable) return;\n",
              "\n",
              "          const docLinkHtml = 'Like what you see? Visit the ' +\n",
              "            '<a target=\"_blank\" href=https://colab.research.google.com/notebooks/data_table.ipynb>data table notebook</a>'\n",
              "            + ' to learn more about interactive tables.';\n",
              "          element.innerHTML = '';\n",
              "          dataTable['output_type'] = 'display_data';\n",
              "          await google.colab.output.renderOutput(dataTable, element);\n",
              "          const docLink = document.createElement('div');\n",
              "          docLink.innerHTML = docLinkHtml;\n",
              "          element.appendChild(docLink);\n",
              "        }\n",
              "      </script>\n",
              "    </div>\n",
              "  </div>\n",
              "  "
            ]
          },
          "metadata": {},
          "execution_count": 18
        }
      ]
    },
    {
      "cell_type": "code",
      "source": [
        "train_en.drop(['neighbourhood'], axis=1, inplace=True)\n",
        "test_en.drop(['neighbourhood'], axis=1, inplace=True)"
      ],
      "metadata": {
        "id": "CYZI4_owWfj3"
      },
      "execution_count": 19,
      "outputs": []
    },
    {
      "cell_type": "markdown",
      "source": [
        "# 머신 러닝"
      ],
      "metadata": {
        "id": "vZDMASZRa89v"
      }
    },
    {
      "cell_type": "code",
      "source": [
        "# 검증 데이터 분리\n",
        "from sklearn.model_selection import train_test_split\n",
        "\n",
        "X_train, X_val, y_train, y_val = train_test_split(train_en, target, test_size=0.2, random_state=2022)\n",
        "X_train.shape, X_val.shape, y_train.shape, y_val.shape"
      ],
      "metadata": {
        "colab": {
          "base_uri": "https://localhost:8080/"
        },
        "id": "JInT3lmgtWRu",
        "outputId": "b149b736-dad0-4a48-8960-f74b39bdffb6"
      },
      "execution_count": 20,
      "outputs": [
        {
          "output_type": "execute_result",
          "data": {
            "text/plain": [
              "((31292, 10), (7824, 10), (31292,), (7824,))"
            ]
          },
          "metadata": {},
          "execution_count": 20
        }
      ]
    },
    {
      "cell_type": "code",
      "source": [
        "#선형 회귀\n",
        "from sklearn.linear_model import LinearRegression\n",
        "from sklearn.metrics import mean_squared_error\n",
        "\n",
        "model1 = LinearRegression()\n",
        "model1.fit(X_train, y_train)\n",
        "pred = model1.predict(X_val)\n",
        "\n",
        "pred = np.expm1(pred)\n",
        "mean_squared_error(y_val,pred)"
      ],
      "metadata": {
        "colab": {
          "base_uri": "https://localhost:8080/"
        },
        "id": "99emanzhLJCt",
        "outputId": "6b446ce4-7943-41fe-94c5-6a0cb1f8319e"
      },
      "execution_count": 21,
      "outputs": [
        {
          "output_type": "execute_result",
          "data": {
            "text/plain": [
              "16054.639503347562"
            ]
          },
          "metadata": {},
          "execution_count": 21
        }
      ]
    },
    {
      "cell_type": "code",
      "source": [
        "# 릿지 회귀\n",
        "from sklearn.linear_model import Ridge\n",
        "\n",
        "model2 = Ridge()\n",
        "model2.fit(X_train, y_train)\n",
        "pred = model2.predict(X_val)\n",
        "\n",
        "pred = np.expm1(pred)\n",
        "mean_squared_error(y_val, pred)"
      ],
      "metadata": {
        "colab": {
          "base_uri": "https://localhost:8080/"
        },
        "id": "38DJ6ERNXX85",
        "outputId": "71aba376-a7cc-47fa-cabb-60c89d0afaaa"
      },
      "execution_count": 22,
      "outputs": [
        {
          "output_type": "stream",
          "name": "stderr",
          "text": [
            "/usr/local/lib/python3.9/dist-packages/sklearn/linear_model/_ridge.py:216: LinAlgWarning: Ill-conditioned matrix (rcond=1.6254e-19): result may not be accurate.\n",
            "  return linalg.solve(A, Xy, assume_a=\"pos\", overwrite_a=True).T\n"
          ]
        },
        {
          "output_type": "execute_result",
          "data": {
            "text/plain": [
              "16044.712389298353"
            ]
          },
          "metadata": {},
          "execution_count": 22
        }
      ]
    },
    {
      "cell_type": "code",
      "source": [
        "# 라쏘 회귀\n",
        "from sklearn.linear_model import Lasso\n",
        "\n",
        "model3 = Lasso()\n",
        "model3.fit(X_train, y_train)\n",
        "pred = model3.predict(X_val)\n",
        "\n",
        "pred = np.expm1(pred)\n",
        "mean_squared_error(y_val, pred)"
      ],
      "metadata": {
        "colab": {
          "base_uri": "https://localhost:8080/"
        },
        "id": "pp-mRXNqXgaX",
        "outputId": "7f5043f6-f29a-4e6f-a069-c2a932a9e4aa"
      },
      "execution_count": 23,
      "outputs": [
        {
          "output_type": "execute_result",
          "data": {
            "text/plain": [
              "11987.087398391046"
            ]
          },
          "metadata": {},
          "execution_count": 23
        }
      ]
    },
    {
      "cell_type": "code",
      "source": [
        "# 엘라스틱넷 회귀\n",
        "from sklearn.linear_model import ElasticNet\n",
        "\n",
        "model4 = ElasticNet()\n",
        "model4.fit(X_train, y_train)\n",
        "pred = model4.predict(X_val)\n",
        "\n",
        "pred = np.expm1(pred)\n",
        "mean_squared_error(y_val, pred)"
      ],
      "metadata": {
        "colab": {
          "base_uri": "https://localhost:8080/"
        },
        "id": "LnfeeJZTXjii",
        "outputId": "8050397a-459d-4f31-955c-360d7f72ae10"
      },
      "execution_count": 24,
      "outputs": [
        {
          "output_type": "execute_result",
          "data": {
            "text/plain": [
              "12103.035552191373"
            ]
          },
          "metadata": {},
          "execution_count": 24
        }
      ]
    },
    {
      "cell_type": "code",
      "source": [
        "# Xgboost\n",
        "from xgboost import XGBRegressor\n",
        "import datetime\n",
        "from sklearn.model_selection import GridSearchCV\n",
        "model5 = XGBRegressor(random_state=2022)\n",
        "model5.fit(X_train, y_train,)\n",
        "\n",
        "pred = model5.predict(X_val)\n",
        "pred = np.expm1(pred)\n",
        "mean_squared_error(y_val, pred)"
      ],
      "metadata": {
        "colab": {
          "base_uri": "https://localhost:8080/"
        },
        "id": "oTt6CYMRX1cI",
        "outputId": "53d92944-9b78-40bb-ad42-8c6e734646c2"
      },
      "execution_count": 25,
      "outputs": [
        {
          "output_type": "execute_result",
          "data": {
            "text/plain": [
              "22934.750667145076"
            ]
          },
          "metadata": {},
          "execution_count": 25
        }
      ]
    },
    {
      "cell_type": "code",
      "source": [
        "#최적 파라미터 찾기\n",
        "# parameters = {'nthread':[4], #when use hyperthread, xgboost may become slower\n",
        "#               'objective':['reg:linear'],\n",
        "#               'learning_rate': [.03, 0.05, .07], #so called `eta` value\n",
        "#               'max_depth': [5, 6, 7],\n",
        "#               'min_child_weight': [4],\n",
        "#               'silent': [1],\n",
        "#               'subsample': [0.7],\n",
        "#               'colsample_bytree': [0.7],\n",
        "#               'n_estimators': [500]}\n",
        "\n",
        "# grid = GridSearchCV(estimator=model5, \n",
        "#                    param_grid=parameters,\n",
        "#                    scoring='neg_mean_squared_error', \n",
        "#                    cv = 2,\n",
        "#                     n_jobs = 5,\n",
        "#                     verbose=1)\n",
        "\n",
        "# grid.fit(X_train, y_train)\n",
        "\n",
        "# print(\"Best parameters:\", grid.best_params_)"
      ],
      "metadata": {
        "id": "9vRXKCnaYW2K"
      },
      "execution_count": 26,
      "outputs": []
    },
    {
      "cell_type": "code",
      "source": [
        "# import sklearn as sklearn\n",
        "# sklearn.metrics.get_scorer_names()"
      ],
      "metadata": {
        "id": "TTekvVlsZaGS"
      },
      "execution_count": 27,
      "outputs": []
    },
    {
      "cell_type": "code",
      "source": [
        "#파라미터 튜닝 적용 - 테스트 결과는 안 좋음\n",
        "# model5 = XGBRegressor(random_state=2022,\n",
        "#             colsample_bytree =0.7,\n",
        "#            learning_rate = 0.03,\n",
        "#            max_depth = 7,\n",
        "#            min_child_weight = 4,\n",
        "#            n_estimators = 500,\n",
        "#            nthread =4,\n",
        "#            objective = 'reg:linear',\n",
        "#            silent = 1,\n",
        "#            subsample = 0.7)\n",
        "# model5.fit(X_train, y_train,)\n",
        "# pred = model5.predict(X_val)\n",
        "# pred = np.expm1(pred)\n",
        "# mean_squared_error(y_val, pred)\n",
        "\n",
        "# #기존 값은 22934.750667145076\n",
        "# #파라미터 튜닝 후 21569.469251845432"
      ],
      "metadata": {
        "id": "hBdAlokCYcR5"
      },
      "execution_count": 28,
      "outputs": []
    },
    {
      "cell_type": "code",
      "source": [
        "# 랜덤포레스트\n",
        "from sklearn.ensemble import RandomForestRegressor\n",
        "\n",
        "model6 = RandomForestRegressor(random_state=2022)\n",
        "model6.fit(X_train, y_train)\n",
        "pred = model6.predict(X_val)\n",
        "\n",
        "pred = np.expm1(pred)\n",
        "mean_squared_error(y_val, pred)"
      ],
      "metadata": {
        "colab": {
          "base_uri": "https://localhost:8080/"
        },
        "id": "5zv-hoH5Xl6-",
        "outputId": "18c8ea82-5408-4384-de10-4531196cd1a0"
      },
      "execution_count": 29,
      "outputs": [
        {
          "output_type": "execute_result",
          "data": {
            "text/plain": [
              "23217.151328530475"
            ]
          },
          "metadata": {},
          "execution_count": 29
        }
      ]
    },
    {
      "cell_type": "markdown",
      "source": [
        "# 채점"
      ],
      "metadata": {
        "id": "gMxi_sbJbDZj"
      }
    },
    {
      "cell_type": "code",
      "source": [
        "#채점(xgboost)\n",
        "\n",
        "pred = model5.predict(test_en)\n",
        "\n",
        "pred = np.expm1(pred)\n",
        "mean_squared_error(y_test, pred)\n",
        "#기존 43761.91279661493\n",
        "#xgboost파라미터 수정 후 44727.62915035917..? 기각!"
      ],
      "metadata": {
        "colab": {
          "base_uri": "https://localhost:8080/"
        },
        "id": "vIvCyD0jX9Eu",
        "outputId": "b787f233-f73b-44b0-b07d-04c2095ad589"
      },
      "execution_count": 30,
      "outputs": [
        {
          "output_type": "execute_result",
          "data": {
            "text/plain": [
              "43761.91279661493"
            ]
          },
          "metadata": {},
          "execution_count": 30
        }
      ]
    }
  ]
}